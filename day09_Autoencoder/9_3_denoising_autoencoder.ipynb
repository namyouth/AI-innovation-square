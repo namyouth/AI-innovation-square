{
  "nbformat": 4,
  "nbformat_minor": 0,
  "metadata": {
    "colab": {
      "name": "9-3_denoising_autoencoder.ipynb",
      "provenance": [],
      "collapsed_sections": []
    },
    "kernelspec": {
      "name": "python3",
      "display_name": "Python 3"
    },
    "accelerator": "GPU"
  },
  "cells": [
    {
      "cell_type": "code",
      "metadata": {
        "id": "kbsOLsa3R22z",
        "colab_type": "code",
        "outputId": "f3d98a60-61b5-4c0f-93fd-6216aff28237",
        "colab": {
          "base_uri": "https://localhost:8080/",
          "height": 135
        }
      },
      "source": [
        "from keras.datasets import mnist\n",
        "import numpy as np\n",
        "\n",
        "(x_train, _), (x_test, _) = mnist.load_data() # load data\n",
        "\n",
        "x_train = x_train.astype('float32') / 255. # normalize x_train\n",
        "x_test = x_test.astype('float32') / 255.   # normalize x_test \n",
        "x_train = np.reshape(x_train, (len(x_train), 28, 28, 1))  # adapt this if using `channels_first` image data format\n",
        "x_test = np.reshape(x_test, (len(x_test), 28, 28, 1))  # adapt this if using `channels_first` image data format\n",
        "\n",
        "noise_factor = 0.5\n",
        "x_train_noisy = x_train + noise_factor * np.random.normal(loc=0.0, scale=1.0, size=x_train.shape) \n",
        "x_test_noisy = x_test + noise_factor * np.random.normal(loc=0.0, scale=1.0, size=x_test.shape) \n",
        "\n",
        "x_train_noisy = np.clip(x_train_noisy, 0., 1.)\n",
        "x_test_noisy = np.clip(x_test_noisy, 0., 1.)"
      ],
      "execution_count": 1,
      "outputs": [
        {
          "output_type": "stream",
          "text": [
            "Using TensorFlow backend.\n"
          ],
          "name": "stderr"
        },
        {
          "output_type": "display_data",
          "data": {
            "text/html": [
              "<p style=\"color: red;\">\n",
              "The default version of TensorFlow in Colab will soon switch to TensorFlow 2.x.<br>\n",
              "We recommend you <a href=\"https://www.tensorflow.org/guide/migrate\" target=\"_blank\">upgrade</a> now \n",
              "or ensure your notebook will continue to use TensorFlow 1.x via the <code>%tensorflow_version 1.x</code> magic:\n",
              "<a href=\"https://colab.research.google.com/notebooks/tensorflow_version.ipynb\" target=\"_blank\">more info</a>.</p>\n"
            ],
            "text/plain": [
              "<IPython.core.display.HTML object>"
            ]
          },
          "metadata": {
            "tags": []
          }
        },
        {
          "output_type": "stream",
          "text": [
            "Downloading data from https://s3.amazonaws.com/img-datasets/mnist.npz\n",
            "11493376/11490434 [==============================] - 2s 0us/step\n"
          ],
          "name": "stdout"
        }
      ]
    },
    {
      "cell_type": "code",
      "metadata": {
        "id": "MXmWz8hBtoWN",
        "colab_type": "code",
        "outputId": "c8addfb2-4d1f-44db-a5f1-16f5e7f47047",
        "colab": {
          "base_uri": "https://localhost:8080/",
          "height": 149
        }
      },
      "source": [
        "# use Matplotlib \n",
        "import matplotlib.pyplot as plt\n",
        "\n",
        "n = 10 # how many digits we will display\n",
        "plt.figure(figsize=(20, 4))\n",
        "for i in range(n):\n",
        "    # display original\n",
        "    ax = plt.subplot(2, n, i + 1)\n",
        "    plt.imshow(x_test_noisy[i].reshape(28,28))\n",
        "    plt.gray()\n",
        "    ax.get_xaxis().set_visible(False)\n",
        "    ax.get_yaxis().set_visible(False)"
      ],
      "execution_count": 2,
      "outputs": [
        {
          "output_type": "display_data",
          "data": {
            "image/png": "[encoded data removed]",
            "text/plain": [
              "<Figure size 1440x288 with 10 Axes>"
            ]
          },
          "metadata": {
            "tags": []
          }
        }
      ]
    },
    {
      "cell_type": "code",
      "metadata": {
        "id": "yhg7xthMuML6",
        "colab_type": "code",
        "outputId": "c7f3c61a-7a9d-4ce3-e21b-26c382ebabb9",
        "colab": {
          "base_uri": "https://localhost:8080/",
          "height": 343
        }
      },
      "source": [
        "from keras.layers import Input, Dense, Conv2D, MaxPooling2D, UpSampling2D\n",
        "from keras.models import Model\n",
        "from keras import backend as K\n",
        "\n",
        "input_img = Input(shape=(28,28,1)) # adapt this if using channels first image data format\n",
        "\n",
        "x = Conv2D(32, (3,3), activation='relu', padding='same')(input_img)\n",
        "x = MaxPooling2D((2,2), padding='same')(x)\n",
        "x = Conv2D(32, (3,3), activation='relu', padding='same')(x)\n",
        "encoded = MaxPooling2D((2,2), padding='same')(x)\n",
        "\n",
        "# at this point the representation is (7,7,32)\n",
        "x = Conv2D(32, (3,3), activation='relu', padding='same')(encoded)\n",
        "x = UpSampling2D((2,2))(x)\n",
        "x = Conv2D(32, (3,3), activation='relu', padding='same')(x)\n",
        "x = UpSampling2D((2,2))(x)\n",
        "decoded = Conv2D(1, (3,3), activation='sigmoid', padding='same')(x)\n",
        "\n",
        "autoencoder = Model(input_img, decoded)\n",
        "autoencoder.compile(optimizer='adadelta', loss = 'binary_crossentropy')"
      ],
      "execution_count": 3,
      "outputs": [
        {
          "output_type": "stream",
          "text": [
            "WARNING:tensorflow:From /usr/local/lib/python3.6/dist-packages/keras/backend/tensorflow_backend.py:66: The name tf.get_default_graph is deprecated. Please use tf.compat.v1.get_default_graph instead.\n",
            "\n",
            "WARNING:tensorflow:From /usr/local/lib/python3.6/dist-packages/keras/backend/tensorflow_backend.py:541: The name tf.placeholder is deprecated. Please use tf.compat.v1.placeholder instead.\n",
            "\n",
            "WARNING:tensorflow:From /usr/local/lib/python3.6/dist-packages/keras/backend/tensorflow_backend.py:4432: The name tf.random_uniform is deprecated. Please use tf.random.uniform instead.\n",
            "\n",
            "WARNING:tensorflow:From /usr/local/lib/python3.6/dist-packages/keras/backend/tensorflow_backend.py:4267: The name tf.nn.max_pool is deprecated. Please use tf.nn.max_pool2d instead.\n",
            "\n",
            "WARNING:tensorflow:From /usr/local/lib/python3.6/dist-packages/keras/backend/tensorflow_backend.py:2239: The name tf.image.resize_nearest_neighbor is deprecated. Please use tf.compat.v1.image.resize_nearest_neighbor instead.\n",
            "\n",
            "WARNING:tensorflow:From /usr/local/lib/python3.6/dist-packages/keras/optimizers.py:793: The name tf.train.Optimizer is deprecated. Please use tf.compat.v1.train.Optimizer instead.\n",
            "\n",
            "WARNING:tensorflow:From /usr/local/lib/python3.6/dist-packages/keras/backend/tensorflow_backend.py:3657: The name tf.log is deprecated. Please use tf.math.log instead.\n",
            "\n",
            "WARNING:tensorflow:From /usr/local/lib/python3.6/dist-packages/tensorflow_core/python/ops/nn_impl.py:183: where (from tensorflow.python.ops.array_ops) is deprecated and will be removed in a future version.\n",
            "Instructions for updating:\n",
            "Use tf.where in 2.0, which has the same broadcast rule as np.where\n"
          ],
          "name": "stdout"
        }
      ]
    },
    {
      "cell_type": "code",
      "metadata": {
        "id": "0HtpK4tLxAc7",
        "colab_type": "code",
        "outputId": "d4695399-5d8b-4d7c-a166-d1787a3ffb34",
        "colab": {
          "base_uri": "https://localhost:8080/",
          "height": 1000
        }
      },
      "source": [
        "autoencoder.fit(x_train_noisy, x_train, epochs=100, batch_size=128, shuffle=True, validation_data=(x_test_noisy, x_test))"
      ],
      "execution_count": 4,
      "outputs": [
        {
          "output_type": "stream",
          "text": [
            "WARNING:tensorflow:From /usr/local/lib/python3.6/dist-packages/keras/backend/tensorflow_backend.py:1033: The name tf.assign_add is deprecated. Please use tf.compat.v1.assign_add instead.\n",
            "\n",
            "WARNING:tensorflow:From /usr/local/lib/python3.6/dist-packages/keras/backend/tensorflow_backend.py:1020: The name tf.assign is deprecated. Please use tf.compat.v1.assign instead.\n",
            "\n",
            "WARNING:tensorflow:From /usr/local/lib/python3.6/dist-packages/keras/backend/tensorflow_backend.py:3005: The name tf.Session is deprecated. Please use tf.compat.v1.Session instead.\n",
            "\n",
            "Train on 60000 samples, validate on 10000 samples\n",
            "Epoch 1/100\n",
            "WARNING:tensorflow:From /usr/local/lib/python3.6/dist-packages/keras/backend/tensorflow_backend.py:190: The name tf.get_default_session is deprecated. Please use tf.compat.v1.get_default_session instead.\n",
            "\n",
            "WARNING:tensorflow:From /usr/local/lib/python3.6/dist-packages/keras/backend/tensorflow_backend.py:197: The name tf.ConfigProto is deprecated. Please use tf.compat.v1.ConfigProto instead.\n",
            "\n",
            "WARNING:tensorflow:From /usr/local/lib/python3.6/dist-packages/keras/backend/tensorflow_backend.py:207: The name tf.global_variables is deprecated. Please use tf.compat.v1.global_variables instead.\n",
            "\n",
            "WARNING:tensorflow:From /usr/local/lib/python3.6/dist-packages/keras/backend/tensorflow_backend.py:216: The name tf.is_variable_initialized is deprecated. Please use tf.compat.v1.is_variable_initialized instead.\n",
            "\n",
            "WARNING:tensorflow:From /usr/local/lib/python3.6/dist-packages/keras/backend/tensorflow_backend.py:223: The name tf.variables_initializer is deprecated. Please use tf.compat.v1.variables_initializer instead.\n",
            "\n",
            "60000/60000 [==============================] - 19s 321us/step - loss: 0.1792 - val_loss: 0.1211\n",
            "Epoch 2/100\n",
            "60000/60000 [==============================] - 5s 82us/step - loss: 0.1191 - val_loss: 0.1124\n",
            "Epoch 3/100\n",
            "60000/60000 [==============================] - 5s 82us/step - loss: 0.1116 - val_loss: 0.1076\n",
            "Epoch 4/100\n",
            "60000/60000 [==============================] - 5s 81us/step - loss: 0.1079 - val_loss: 0.1067\n",
            "Epoch 5/100\n",
            "60000/60000 [==============================] - 5s 81us/step - loss: 0.1055 - val_loss: 0.1036\n",
            "Epoch 6/100\n",
            "60000/60000 [==============================] - 5s 83us/step - loss: 0.1042 - val_loss: 0.1030\n",
            "Epoch 7/100\n",
            "60000/60000 [==============================] - 5s 83us/step - loss: 0.1030 - val_loss: 0.1008\n",
            "Epoch 8/100\n",
            "60000/60000 [==============================] - 5s 82us/step - loss: 0.1021 - val_loss: 0.1018\n",
            "Epoch 9/100\n",
            "60000/60000 [==============================] - 5s 81us/step - loss: 0.1015 - val_loss: 0.1033\n",
            "Epoch 10/100\n",
            "60000/60000 [==============================] - 5s 81us/step - loss: 0.1011 - val_loss: 0.0995\n",
            "Epoch 11/100\n",
            "60000/60000 [==============================] - 5s 82us/step - loss: 0.1005 - val_loss: 0.0992\n",
            "Epoch 12/100\n",
            "60000/60000 [==============================] - 5s 81us/step - loss: 0.1002 - val_loss: 0.0984\n",
            "Epoch 13/100\n",
            "60000/60000 [==============================] - 5s 81us/step - loss: 0.0998 - val_loss: 0.0985\n",
            "Epoch 14/100\n",
            "60000/60000 [==============================] - 5s 82us/step - loss: 0.0996 - val_loss: 0.0986\n",
            "Epoch 15/100\n",
            "60000/60000 [==============================] - 5s 82us/step - loss: 0.0994 - val_loss: 0.0994\n",
            "Epoch 16/100\n",
            "60000/60000 [==============================] - 5s 82us/step - loss: 0.0991 - val_loss: 0.0995\n",
            "Epoch 17/100\n",
            "60000/60000 [==============================] - 5s 81us/step - loss: 0.0988 - val_loss: 0.0981\n",
            "Epoch 18/100\n",
            "60000/60000 [==============================] - 5s 82us/step - loss: 0.0986 - val_loss: 0.0996\n",
            "Epoch 19/100\n",
            "60000/60000 [==============================] - 5s 82us/step - loss: 0.0984 - val_loss: 0.0979\n",
            "Epoch 20/100\n",
            "60000/60000 [==============================] - 5s 81us/step - loss: 0.0982 - val_loss: 0.0981\n",
            "Epoch 21/100\n",
            "60000/60000 [==============================] - 5s 81us/step - loss: 0.0981 - val_loss: 0.0971\n",
            "Epoch 22/100\n",
            "60000/60000 [==============================] - 5s 81us/step - loss: 0.0980 - val_loss: 0.0974\n",
            "Epoch 23/100\n",
            "60000/60000 [==============================] - 5s 81us/step - loss: 0.0977 - val_loss: 0.0980\n",
            "Epoch 24/100\n",
            "60000/60000 [==============================] - 5s 81us/step - loss: 0.0977 - val_loss: 0.0977\n",
            "Epoch 25/100\n",
            "60000/60000 [==============================] - 5s 81us/step - loss: 0.0974 - val_loss: 0.0983\n",
            "Epoch 26/100\n",
            "60000/60000 [==============================] - 5s 81us/step - loss: 0.0974 - val_loss: 0.0984\n",
            "Epoch 27/100\n",
            "60000/60000 [==============================] - 5s 81us/step - loss: 0.0973 - val_loss: 0.0976\n",
            "Epoch 28/100\n",
            "60000/60000 [==============================] - 5s 81us/step - loss: 0.0972 - val_loss: 0.0976\n",
            "Epoch 29/100\n",
            "60000/60000 [==============================] - 5s 81us/step - loss: 0.0969 - val_loss: 0.0965\n",
            "Epoch 30/100\n",
            "60000/60000 [==============================] - 5s 81us/step - loss: 0.0970 - val_loss: 0.0961\n",
            "Epoch 31/100\n",
            "60000/60000 [==============================] - 5s 81us/step - loss: 0.0969 - val_loss: 0.0960\n",
            "Epoch 32/100\n",
            "60000/60000 [==============================] - 5s 81us/step - loss: 0.0968 - val_loss: 0.0960\n",
            "Epoch 33/100\n",
            "60000/60000 [==============================] - 5s 81us/step - loss: 0.0967 - val_loss: 0.0968\n",
            "Epoch 34/100\n",
            "60000/60000 [==============================] - 5s 81us/step - loss: 0.0966 - val_loss: 0.0961\n",
            "Epoch 35/100\n",
            "60000/60000 [==============================] - 5s 81us/step - loss: 0.0964 - val_loss: 0.0956\n",
            "Epoch 36/100\n",
            "60000/60000 [==============================] - 5s 81us/step - loss: 0.0963 - val_loss: 0.0962\n",
            "Epoch 37/100\n",
            "60000/60000 [==============================] - 5s 81us/step - loss: 0.0963 - val_loss: 0.0970\n",
            "Epoch 38/100\n",
            "60000/60000 [==============================] - 5s 81us/step - loss: 0.0962 - val_loss: 0.0960\n",
            "Epoch 39/100\n",
            "60000/60000 [==============================] - 5s 81us/step - loss: 0.0962 - val_loss: 0.0962\n",
            "Epoch 40/100\n",
            "60000/60000 [==============================] - 5s 82us/step - loss: 0.0961 - val_loss: 0.0969\n",
            "Epoch 41/100\n",
            "60000/60000 [==============================] - 5s 81us/step - loss: 0.0960 - val_loss: 0.0956\n",
            "Epoch 42/100\n",
            "60000/60000 [==============================] - 5s 82us/step - loss: 0.0961 - val_loss: 0.0953\n",
            "Epoch 43/100\n",
            "60000/60000 [==============================] - 5s 81us/step - loss: 0.0959 - val_loss: 0.0965\n",
            "Epoch 44/100\n",
            "60000/60000 [==============================] - 5s 81us/step - loss: 0.0959 - val_loss: 0.0955\n",
            "Epoch 45/100\n",
            "60000/60000 [==============================] - 5s 82us/step - loss: 0.0958 - val_loss: 0.0954\n",
            "Epoch 46/100\n",
            "60000/60000 [==============================] - 5s 82us/step - loss: 0.0958 - val_loss: 0.0953\n",
            "Epoch 47/100\n",
            "60000/60000 [==============================] - 5s 82us/step - loss: 0.0957 - val_loss: 0.0950\n",
            "Epoch 48/100\n",
            "60000/60000 [==============================] - 5s 81us/step - loss: 0.0956 - val_loss: 0.0951\n",
            "Epoch 49/100\n",
            "60000/60000 [==============================] - 5s 81us/step - loss: 0.0956 - val_loss: 0.0951\n",
            "Epoch 50/100\n",
            "60000/60000 [==============================] - 5s 81us/step - loss: 0.0955 - val_loss: 0.0950\n",
            "Epoch 51/100\n",
            "60000/60000 [==============================] - 5s 81us/step - loss: 0.0956 - val_loss: 0.0949\n",
            "Epoch 52/100\n",
            "60000/60000 [==============================] - 5s 81us/step - loss: 0.0955 - val_loss: 0.0952\n",
            "Epoch 53/100\n",
            "60000/60000 [==============================] - 5s 82us/step - loss: 0.0954 - val_loss: 0.0949\n",
            "Epoch 54/100\n",
            "60000/60000 [==============================] - 5s 81us/step - loss: 0.0954 - val_loss: 0.0953\n",
            "Epoch 55/100\n",
            "60000/60000 [==============================] - 5s 81us/step - loss: 0.0953 - val_loss: 0.0948\n",
            "Epoch 56/100\n",
            "60000/60000 [==============================] - 5s 81us/step - loss: 0.0953 - val_loss: 0.0950\n",
            "Epoch 57/100\n",
            "60000/60000 [==============================] - 5s 82us/step - loss: 0.0953 - val_loss: 0.0948\n",
            "Epoch 58/100\n",
            "60000/60000 [==============================] - 5s 82us/step - loss: 0.0953 - val_loss: 0.0946\n",
            "Epoch 59/100\n",
            "60000/60000 [==============================] - 5s 81us/step - loss: 0.0952 - val_loss: 0.0948\n",
            "Epoch 60/100\n",
            "60000/60000 [==============================] - 5s 81us/step - loss: 0.0951 - val_loss: 0.0949\n",
            "Epoch 61/100\n",
            "60000/60000 [==============================] - 5s 81us/step - loss: 0.0952 - val_loss: 0.0948\n",
            "Epoch 62/100\n",
            "60000/60000 [==============================] - 5s 82us/step - loss: 0.0951 - val_loss: 0.0948\n",
            "Epoch 63/100\n",
            "60000/60000 [==============================] - 5s 82us/step - loss: 0.0950 - val_loss: 0.0949\n",
            "Epoch 64/100\n",
            "60000/60000 [==============================] - 5s 82us/step - loss: 0.0950 - val_loss: 0.0946\n",
            "Epoch 65/100\n",
            "60000/60000 [==============================] - 5s 82us/step - loss: 0.0950 - val_loss: 0.0945\n",
            "Epoch 66/100\n",
            "60000/60000 [==============================] - 5s 81us/step - loss: 0.0949 - val_loss: 0.0949\n",
            "Epoch 67/100\n",
            "60000/60000 [==============================] - 5s 81us/step - loss: 0.0950 - val_loss: 0.0946\n",
            "Epoch 68/100\n",
            "60000/60000 [==============================] - 5s 82us/step - loss: 0.0949 - val_loss: 0.0945\n",
            "Epoch 69/100\n",
            "60000/60000 [==============================] - 5s 82us/step - loss: 0.0949 - val_loss: 0.0946\n",
            "Epoch 70/100\n",
            "60000/60000 [==============================] - 5s 84us/step - loss: 0.0948 - val_loss: 0.0949\n",
            "Epoch 71/100\n",
            "60000/60000 [==============================] - 5s 84us/step - loss: 0.0948 - val_loss: 0.0944\n",
            "Epoch 72/100\n",
            "60000/60000 [==============================] - 5s 81us/step - loss: 0.0948 - val_loss: 0.0946\n",
            "Epoch 73/100\n",
            "60000/60000 [==============================] - 5s 81us/step - loss: 0.0948 - val_loss: 0.0949\n",
            "Epoch 74/100\n",
            "60000/60000 [==============================] - 5s 82us/step - loss: 0.0947 - val_loss: 0.0949\n",
            "Epoch 75/100\n",
            "60000/60000 [==============================] - 5s 82us/step - loss: 0.0947 - val_loss: 0.0945\n",
            "Epoch 76/100\n",
            "60000/60000 [==============================] - 5s 82us/step - loss: 0.0947 - val_loss: 0.0944\n",
            "Epoch 77/100\n",
            "60000/60000 [==============================] - 5s 82us/step - loss: 0.0946 - val_loss: 0.0951\n",
            "Epoch 78/100\n",
            "60000/60000 [==============================] - 5s 82us/step - loss: 0.0946 - val_loss: 0.0950\n",
            "Epoch 79/100\n",
            "60000/60000 [==============================] - 5s 82us/step - loss: 0.0946 - val_loss: 0.0947\n",
            "Epoch 80/100\n",
            "60000/60000 [==============================] - 5s 82us/step - loss: 0.0946 - val_loss: 0.0945\n",
            "Epoch 81/100\n",
            "60000/60000 [==============================] - 5s 82us/step - loss: 0.0946 - val_loss: 0.0942\n",
            "Epoch 82/100\n",
            "60000/60000 [==============================] - 5s 83us/step - loss: 0.0945 - val_loss: 0.0943\n",
            "Epoch 83/100\n",
            "60000/60000 [==============================] - 5s 83us/step - loss: 0.0945 - val_loss: 0.0946\n",
            "Epoch 84/100\n",
            "60000/60000 [==============================] - 5s 82us/step - loss: 0.0945 - val_loss: 0.0941\n",
            "Epoch 85/100\n",
            "60000/60000 [==============================] - 5s 83us/step - loss: 0.0945 - val_loss: 0.0948\n",
            "Epoch 86/100\n",
            "60000/60000 [==============================] - 5s 82us/step - loss: 0.0944 - val_loss: 0.0945\n",
            "Epoch 87/100\n",
            "60000/60000 [==============================] - 5s 82us/step - loss: 0.0945 - val_loss: 0.0946\n",
            "Epoch 88/100\n",
            "60000/60000 [==============================] - 5s 83us/step - loss: 0.0944 - val_loss: 0.0943\n",
            "Epoch 89/100\n",
            "60000/60000 [==============================] - 5s 82us/step - loss: 0.0944 - val_loss: 0.0953\n",
            "Epoch 90/100\n",
            "60000/60000 [==============================] - 5s 82us/step - loss: 0.0944 - val_loss: 0.0952\n",
            "Epoch 91/100\n",
            "60000/60000 [==============================] - 5s 83us/step - loss: 0.0944 - val_loss: 0.0941\n",
            "Epoch 92/100\n",
            "60000/60000 [==============================] - 5s 83us/step - loss: 0.0943 - val_loss: 0.0940\n",
            "Epoch 93/100\n",
            "60000/60000 [==============================] - 5s 83us/step - loss: 0.0943 - val_loss: 0.0940\n",
            "Epoch 94/100\n",
            "60000/60000 [==============================] - 5s 83us/step - loss: 0.0943 - val_loss: 0.0939\n",
            "Epoch 95/100\n",
            "60000/60000 [==============================] - 5s 83us/step - loss: 0.0943 - val_loss: 0.0942\n",
            "Epoch 96/100\n",
            "60000/60000 [==============================] - 5s 82us/step - loss: 0.0942 - val_loss: 0.0950\n",
            "Epoch 97/100\n",
            "60000/60000 [==============================] - 5s 82us/step - loss: 0.0942 - val_loss: 0.0939\n",
            "Epoch 98/100\n",
            "60000/60000 [==============================] - 5s 82us/step - loss: 0.0943 - val_loss: 0.0947\n",
            "Epoch 99/100\n",
            "60000/60000 [==============================] - 5s 82us/step - loss: 0.0942 - val_loss: 0.0941\n",
            "Epoch 100/100\n",
            "60000/60000 [==============================] - 5s 82us/step - loss: 0.0943 - val_loss: 0.0947\n"
          ],
          "name": "stdout"
        },
        {
          "output_type": "execute_result",
          "data": {
            "text/plain": [
              "<keras.callbacks.History at 0x7fd7b1844fd0>"
            ]
          },
          "metadata": {
            "tags": []
          },
          "execution_count": 4
        }
      ]
    },
    {
      "cell_type": "code",
      "metadata": {
        "id": "1SDVw3mwxZL4",
        "colab_type": "code",
        "colab": {}
      },
      "source": [
        "decoded_imgs = autoencoder.predict(x_test_noisy)"
      ],
      "execution_count": 0,
      "outputs": []
    },
    {
      "cell_type": "code",
      "metadata": {
        "id": "oV-uKhXkMEfS",
        "colab_type": "code",
        "colab": {
          "base_uri": "https://localhost:8080/",
          "height": 268
        },
        "outputId": "47f38fb9-bf25-4d32-e60c-fb8b2b5404f6"
      },
      "source": [
        "# use matplotlib \n",
        "import matplotlib.pyplot as plt\n",
        "\n",
        "n = 10\n",
        "plt.figure(figsize=(20,4))\n",
        "for i in range(n):\n",
        "    # display original\n",
        "    ax = plt.subplot(2, n, i + 1)\n",
        "    plt.imshow(x_test_noisy[i].reshape(28,28))\n",
        "    plt.gray()\n",
        "    ax.get_xaxis().set_visible(False)\n",
        "    ax.get_yaxis().set_visible(False)\n",
        "\n",
        "    # display reconstruction\n",
        "    ax = plt.subplot(2, n, i + 1 + n)\n",
        "    plt.imshow(decoded_imgs[i].reshape(28,28))\n",
        "    plt.gray()\n",
        "    ax.get_xaxis().set_visible(False)\n",
        "    ax.get_yaxis().set_visible(False)\n",
        "\n",
        "plt.show()"
      ],
      "execution_count": 13,
      "outputs": [
        {
          "output_type": "display_data",
          "data": {
            "image/png": "[encoded data removed]",
            "text/plain": [
              "<Figure size 1440x288 with 20 Axes>"
            ]
          },
          "metadata": {
            "tags": []
          }
        }
      ]
    },
    {
      "cell_type": "code",
      "metadata": {
        "id": "O3L613liM2w3",
        "colab_type": "code",
        "colab": {}
      },
      "source": [
        ""
      ],
      "execution_count": 0,
      "outputs": []
    }
  ]
}