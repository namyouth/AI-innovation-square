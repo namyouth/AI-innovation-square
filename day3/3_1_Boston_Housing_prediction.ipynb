{
  "nbformat": 4,
  "nbformat_minor": 0,
  "metadata": {
    "colab": {
      "name": "3-1_Boston_Housing_prediction.ipynb",
      "provenance": [],
      "collapsed_sections": []
    },
    "kernelspec": {
      "name": "python3",
      "display_name": "Python 3"
    }
  },
  "cells": [
    {
      "cell_type": "markdown",
      "metadata": {
        "id": "1IjQqyvJq5qI",
        "colab_type": "text"
      },
      "source": [
        "# 보스턴 주택 가격 데이터셋( Boston Housing Dataset)"
      ]
    },
    {
      "cell_type": "code",
      "metadata": {
        "id": "mWxiRaan2AL1",
        "colab_type": "code",
        "colab": {
          "base_uri": "https://localhost:8080/",
          "height": 1000
        },
        "outputId": "71517b4d-d7d1-415a-d626-1bdf2787614e"
      },
      "source": [
        "!pip install tensorflow==2.0.0"
      ],
      "execution_count": 28,
      "outputs": [
        {
          "output_type": "stream",
          "text": [
            "Collecting tensorflow==2.0.0\n",
            "\u001b[?25l  Downloading https://files.pythonhosted.org/packages/46/0f/7bd55361168bb32796b360ad15a25de6966c9c1beb58a8e30c01c8279862/tensorflow-2.0.0-cp36-cp36m-manylinux2010_x86_64.whl (86.3MB)\n",
            "\u001b[K     |████████████████████████████████| 86.3MB 58kB/s \n",
            "\u001b[?25hRequirement already satisfied: protobuf>=3.6.1 in /usr/local/lib/python3.6/dist-packages (from tensorflow==2.0.0) (3.10.0)\n",
            "Requirement already satisfied: gast==0.2.2 in /usr/local/lib/python3.6/dist-packages (from tensorflow==2.0.0) (0.2.2)\n",
            "Requirement already satisfied: keras-preprocessing>=1.0.5 in /usr/local/lib/python3.6/dist-packages (from tensorflow==2.0.0) (1.1.0)\n",
            "Requirement already satisfied: six>=1.10.0 in /usr/local/lib/python3.6/dist-packages (from tensorflow==2.0.0) (1.12.0)\n",
            "Requirement already satisfied: numpy<2.0,>=1.16.0 in /usr/local/lib/python3.6/dist-packages (from tensorflow==2.0.0) (1.17.5)\n",
            "Requirement already satisfied: wheel>=0.26 in /usr/local/lib/python3.6/dist-packages (from tensorflow==2.0.0) (0.34.2)\n",
            "Requirement already satisfied: astor>=0.6.0 in /usr/local/lib/python3.6/dist-packages (from tensorflow==2.0.0) (0.8.1)\n",
            "Requirement already satisfied: grpcio>=1.8.6 in /usr/local/lib/python3.6/dist-packages (from tensorflow==2.0.0) (1.27.1)\n",
            "Requirement already satisfied: termcolor>=1.1.0 in /usr/local/lib/python3.6/dist-packages (from tensorflow==2.0.0) (1.1.0)\n",
            "Requirement already satisfied: google-pasta>=0.1.6 in /usr/local/lib/python3.6/dist-packages (from tensorflow==2.0.0) (0.1.8)\n",
            "Collecting tensorflow-estimator<2.1.0,>=2.0.0\n",
            "\u001b[?25l  Downloading https://files.pythonhosted.org/packages/fc/08/8b927337b7019c374719145d1dceba21a8bb909b93b1ad6f8fb7d22c1ca1/tensorflow_estimator-2.0.1-py2.py3-none-any.whl (449kB)\n",
            "\u001b[K     |████████████████████████████████| 450kB 45.1MB/s \n",
            "\u001b[?25hRequirement already satisfied: opt-einsum>=2.3.2 in /usr/local/lib/python3.6/dist-packages (from tensorflow==2.0.0) (3.1.0)\n",
            "Requirement already satisfied: wrapt>=1.11.1 in /usr/local/lib/python3.6/dist-packages (from tensorflow==2.0.0) (1.11.2)\n",
            "Requirement already satisfied: keras-applications>=1.0.8 in /usr/local/lib/python3.6/dist-packages (from tensorflow==2.0.0) (1.0.8)\n",
            "Collecting tensorboard<2.1.0,>=2.0.0\n",
            "\u001b[?25l  Downloading https://files.pythonhosted.org/packages/76/54/99b9d5d52d5cb732f099baaaf7740403e83fe6b0cedde940fabd2b13d75a/tensorboard-2.0.2-py3-none-any.whl (3.8MB)\n",
            "\u001b[K     |████████████████████████████████| 3.8MB 53.2MB/s \n",
            "\u001b[?25hRequirement already satisfied: absl-py>=0.7.0 in /usr/local/lib/python3.6/dist-packages (from tensorflow==2.0.0) (0.9.0)\n",
            "Requirement already satisfied: setuptools in /usr/local/lib/python3.6/dist-packages (from protobuf>=3.6.1->tensorflow==2.0.0) (45.1.0)\n",
            "Requirement already satisfied: h5py in /usr/local/lib/python3.6/dist-packages (from keras-applications>=1.0.8->tensorflow==2.0.0) (2.8.0)\n",
            "Requirement already satisfied: google-auth<2,>=1.6.3 in /usr/local/lib/python3.6/dist-packages (from tensorboard<2.1.0,>=2.0.0->tensorflow==2.0.0) (1.7.2)\n",
            "Requirement already satisfied: google-auth-oauthlib<0.5,>=0.4.1 in /usr/local/lib/python3.6/dist-packages (from tensorboard<2.1.0,>=2.0.0->tensorflow==2.0.0) (0.4.1)\n",
            "Requirement already satisfied: requests<3,>=2.21.0 in /usr/local/lib/python3.6/dist-packages (from tensorboard<2.1.0,>=2.0.0->tensorflow==2.0.0) (2.21.0)\n",
            "Requirement already satisfied: werkzeug>=0.11.15 in /usr/local/lib/python3.6/dist-packages (from tensorboard<2.1.0,>=2.0.0->tensorflow==2.0.0) (1.0.0)\n",
            "Requirement already satisfied: markdown>=2.6.8 in /usr/local/lib/python3.6/dist-packages (from tensorboard<2.1.0,>=2.0.0->tensorflow==2.0.0) (3.2.1)\n",
            "Requirement already satisfied: pyasn1-modules>=0.2.1 in /usr/local/lib/python3.6/dist-packages (from google-auth<2,>=1.6.3->tensorboard<2.1.0,>=2.0.0->tensorflow==2.0.0) (0.2.8)\n",
            "Requirement already satisfied: cachetools<3.2,>=2.0.0 in /usr/local/lib/python3.6/dist-packages (from google-auth<2,>=1.6.3->tensorboard<2.1.0,>=2.0.0->tensorflow==2.0.0) (3.1.1)\n",
            "Requirement already satisfied: rsa<4.1,>=3.1.4 in /usr/local/lib/python3.6/dist-packages (from google-auth<2,>=1.6.3->tensorboard<2.1.0,>=2.0.0->tensorflow==2.0.0) (4.0)\n",
            "Requirement already satisfied: requests-oauthlib>=0.7.0 in /usr/local/lib/python3.6/dist-packages (from google-auth-oauthlib<0.5,>=0.4.1->tensorboard<2.1.0,>=2.0.0->tensorflow==2.0.0) (1.3.0)\n",
            "Requirement already satisfied: chardet<3.1.0,>=3.0.2 in /usr/local/lib/python3.6/dist-packages (from requests<3,>=2.21.0->tensorboard<2.1.0,>=2.0.0->tensorflow==2.0.0) (3.0.4)\n",
            "Requirement already satisfied: urllib3<1.25,>=1.21.1 in /usr/local/lib/python3.6/dist-packages (from requests<3,>=2.21.0->tensorboard<2.1.0,>=2.0.0->tensorflow==2.0.0) (1.24.3)\n",
            "Requirement already satisfied: idna<2.9,>=2.5 in /usr/local/lib/python3.6/dist-packages (from requests<3,>=2.21.0->tensorboard<2.1.0,>=2.0.0->tensorflow==2.0.0) (2.8)\n",
            "Requirement already satisfied: certifi>=2017.4.17 in /usr/local/lib/python3.6/dist-packages (from requests<3,>=2.21.0->tensorboard<2.1.0,>=2.0.0->tensorflow==2.0.0) (2019.11.28)\n",
            "Requirement already satisfied: pyasn1<0.5.0,>=0.4.6 in /usr/local/lib/python3.6/dist-packages (from pyasn1-modules>=0.2.1->google-auth<2,>=1.6.3->tensorboard<2.1.0,>=2.0.0->tensorflow==2.0.0) (0.4.8)\n",
            "Requirement already satisfied: oauthlib>=3.0.0 in /usr/local/lib/python3.6/dist-packages (from requests-oauthlib>=0.7.0->google-auth-oauthlib<0.5,>=0.4.1->tensorboard<2.1.0,>=2.0.0->tensorflow==2.0.0) (3.1.0)\n",
            "Installing collected packages: tensorflow-estimator, tensorboard, tensorflow\n",
            "  Found existing installation: tensorflow-estimator 1.15.1\n",
            "    Uninstalling tensorflow-estimator-1.15.1:\n",
            "      Successfully uninstalled tensorflow-estimator-1.15.1\n",
            "  Found existing installation: tensorboard 1.15.0\n",
            "    Uninstalling tensorboard-1.15.0:\n",
            "      Successfully uninstalled tensorboard-1.15.0\n",
            "  Found existing installation: tensorflow 1.15.0\n",
            "    Uninstalling tensorflow-1.15.0:\n",
            "      Successfully uninstalled tensorflow-1.15.0\n",
            "Successfully installed tensorboard-2.0.2 tensorflow-2.0.0 tensorflow-estimator-2.0.1\n"
          ],
          "name": "stdout"
        },
        {
          "output_type": "display_data",
          "data": {
            "application/vnd.colab-display-data+json": {
              "pip_warning": {
                "packages": [
                  "tensorboard",
                  "tensorflow",
                  "tensorflow_core",
                  "tensorflow_estimator"
                ]
              }
            }
          },
          "metadata": {
            "tags": []
          }
        }
      ]
    },
    {
      "cell_type": "code",
      "metadata": {
        "id": "dPSnqtSbIYNG",
        "colab_type": "code",
        "outputId": "f21af074-5021-458c-a7d9-5803087d29a1",
        "colab": {
          "base_uri": "https://localhost:8080/",
          "height": 53
        }
      },
      "source": [
        "import keras\n",
        "keras.__version__"
      ],
      "execution_count": 1,
      "outputs": [
        {
          "output_type": "stream",
          "text": [
            "Using TensorFlow backend.\n"
          ],
          "name": "stderr"
        },
        {
          "output_type": "execute_result",
          "data": {
            "text/plain": [
              "'2.2.5'"
            ]
          },
          "metadata": {
            "tags": []
          },
          "execution_count": 1
        }
      ]
    },
    {
      "cell_type": "code",
      "metadata": {
        "id": "cpF94ZnOIjMV",
        "colab_type": "code",
        "colab": {}
      },
      "source": [
        "# 데이터 불러오기\n",
        "from keras.datasets import boston_housing\n",
        "\n",
        "(train_data, train_targets), (test_data, test_targets) = boston_housing.load_data()"
      ],
      "execution_count": 0,
      "outputs": []
    },
    {
      "cell_type": "code",
      "metadata": {
        "id": "pdCETqM4Iw6l",
        "colab_type": "code",
        "outputId": "6f4ffd81-aef2-4130-f1c6-d56561dcdc70",
        "colab": {
          "base_uri": "https://localhost:8080/",
          "height": 35
        }
      },
      "source": [
        "print(train_data.shape, test_data.shape)"
      ],
      "execution_count": 3,
      "outputs": [
        {
          "output_type": "stream",
          "text": [
            "(404, 13) (102, 13)\n"
          ],
          "name": "stdout"
        }
      ]
    },
    {
      "cell_type": "markdown",
      "metadata": {
        "id": "iT8QiDobJAiO",
        "colab_type": "text"
      },
      "source": [
        "여기서 볼 수 있듯이 404개의 훈련 샘플과 102개의 테스트 샘플이 있고 모두 13개의 수치 특성을 가지고 있습니다. 13개의 특성은 다음과 같습니다:\n",
        "\n",
        "1. Per capita crime rate.\n",
        "2. Proportion of residential land zoned for lots over 25,000 square feet.\n",
        "3. Proportion of non-retail business acres per town.\n",
        "4. Charles River dummy variable (= 1 if tract bounds river; 0 otherwise).\n",
        "5. Nitric oxides concentration (parts per 10 million).\n",
        "6. Average number of rooms per dwelling.\n",
        "7. Proportion of owner-occupied units built prior to 1940.\n",
        "8. Weighted distances to five Boston employment centres.\n",
        "9. Index of accessibility to radial highways.\n",
        "10. Full-value property-tax rate per $10,000.\n",
        "11. Pupil-teacher ratio by town.\n",
        "12. 1000 * (Bk - 0.63) ** 2 where Bk is the proportion of Black people by town.\n",
        "13. % lower status of the population.\n",
        "\n",
        "타깃은 주택의 중간 가격으로 천달러 단위입니다:"
      ]
    },
    {
      "cell_type": "code",
      "metadata": {
        "id": "G2lTjnTNqayK",
        "colab_type": "code",
        "colab": {
          "base_uri": "https://localhost:8080/",
          "height": 89
        },
        "outputId": "00786340-f15a-441d-b392-487e64527b6e"
      },
      "source": [
        "print(len(train_data), len(test_data))\n",
        "print(train_data[0])\n",
        "print(train_targets[0])"
      ],
      "execution_count": 4,
      "outputs": [
        {
          "output_type": "stream",
          "text": [
            "404 102\n",
            "[  1.23247   0.        8.14      0.        0.538     6.142    91.7\n",
            "   3.9769    4.      307.       21.      396.9      18.72   ]\n",
            "15.2\n"
          ],
          "name": "stdout"
        }
      ]
    },
    {
      "cell_type": "code",
      "metadata": {
        "id": "QLhtni55Nzxg",
        "colab_type": "code",
        "outputId": "3f1ca5a2-e2c9-45ac-cd49-b5b8850c6324",
        "colab": {
          "base_uri": "https://localhost:8080/",
          "height": 419
        }
      },
      "source": [
        "import pandas as pd\n",
        "train_data_df = pd.DataFrame(train_data)\n",
        "train_data_df"
      ],
      "execution_count": 5,
      "outputs": [
        {
          "output_type": "execute_result",
          "data": {
            "text/html": [
              "<div>\n",
              "<style scoped>\n",
              "    .dataframe tbody tr th:only-of-type {\n",
              "        vertical-align: middle;\n",
              "    }\n",
              "\n",
              "    .dataframe tbody tr th {\n",
              "        vertical-align: top;\n",
              "    }\n",
              "\n",
              "    .dataframe thead th {\n",
              "        text-align: right;\n",
              "    }\n",
              "</style>\n",
              "<table border=\"1\" class=\"dataframe\">\n",
              "  <thead>\n",
              "    <tr style=\"text-align: right;\">\n",
              "      <th></th>\n",
              "      <th>0</th>\n",
              "      <th>1</th>\n",
              "      <th>2</th>\n",
              "      <th>3</th>\n",
              "      <th>4</th>\n",
              "      <th>5</th>\n",
              "      <th>6</th>\n",
              "      <th>7</th>\n",
              "      <th>8</th>\n",
              "      <th>9</th>\n",
              "      <th>10</th>\n",
              "      <th>11</th>\n",
              "      <th>12</th>\n",
              "    </tr>\n",
              "  </thead>\n",
              "  <tbody>\n",
              "    <tr>\n",
              "      <th>0</th>\n",
              "      <td>1.23247</td>\n",
              "      <td>0.0</td>\n",
              "      <td>8.14</td>\n",
              "      <td>0.0</td>\n",
              "      <td>0.5380</td>\n",
              "      <td>6.142</td>\n",
              "      <td>91.7</td>\n",
              "      <td>3.9769</td>\n",
              "      <td>4.0</td>\n",
              "      <td>307.0</td>\n",
              "      <td>21.0</td>\n",
              "      <td>396.90</td>\n",
              "      <td>18.72</td>\n",
              "    </tr>\n",
              "    <tr>\n",
              "      <th>1</th>\n",
              "      <td>0.02177</td>\n",
              "      <td>82.5</td>\n",
              "      <td>2.03</td>\n",
              "      <td>0.0</td>\n",
              "      <td>0.4150</td>\n",
              "      <td>7.610</td>\n",
              "      <td>15.7</td>\n",
              "      <td>6.2700</td>\n",
              "      <td>2.0</td>\n",
              "      <td>348.0</td>\n",
              "      <td>14.7</td>\n",
              "      <td>395.38</td>\n",
              "      <td>3.11</td>\n",
              "    </tr>\n",
              "    <tr>\n",
              "      <th>2</th>\n",
              "      <td>4.89822</td>\n",
              "      <td>0.0</td>\n",
              "      <td>18.10</td>\n",
              "      <td>0.0</td>\n",
              "      <td>0.6310</td>\n",
              "      <td>4.970</td>\n",
              "      <td>100.0</td>\n",
              "      <td>1.3325</td>\n",
              "      <td>24.0</td>\n",
              "      <td>666.0</td>\n",
              "      <td>20.2</td>\n",
              "      <td>375.52</td>\n",
              "      <td>3.26</td>\n",
              "    </tr>\n",
              "    <tr>\n",
              "      <th>3</th>\n",
              "      <td>0.03961</td>\n",
              "      <td>0.0</td>\n",
              "      <td>5.19</td>\n",
              "      <td>0.0</td>\n",
              "      <td>0.5150</td>\n",
              "      <td>6.037</td>\n",
              "      <td>34.5</td>\n",
              "      <td>5.9853</td>\n",
              "      <td>5.0</td>\n",
              "      <td>224.0</td>\n",
              "      <td>20.2</td>\n",
              "      <td>396.90</td>\n",
              "      <td>8.01</td>\n",
              "    </tr>\n",
              "    <tr>\n",
              "      <th>4</th>\n",
              "      <td>3.69311</td>\n",
              "      <td>0.0</td>\n",
              "      <td>18.10</td>\n",
              "      <td>0.0</td>\n",
              "      <td>0.7130</td>\n",
              "      <td>6.376</td>\n",
              "      <td>88.4</td>\n",
              "      <td>2.5671</td>\n",
              "      <td>24.0</td>\n",
              "      <td>666.0</td>\n",
              "      <td>20.2</td>\n",
              "      <td>391.43</td>\n",
              "      <td>14.65</td>\n",
              "    </tr>\n",
              "    <tr>\n",
              "      <th>...</th>\n",
              "      <td>...</td>\n",
              "      <td>...</td>\n",
              "      <td>...</td>\n",
              "      <td>...</td>\n",
              "      <td>...</td>\n",
              "      <td>...</td>\n",
              "      <td>...</td>\n",
              "      <td>...</td>\n",
              "      <td>...</td>\n",
              "      <td>...</td>\n",
              "      <td>...</td>\n",
              "      <td>...</td>\n",
              "      <td>...</td>\n",
              "    </tr>\n",
              "    <tr>\n",
              "      <th>399</th>\n",
              "      <td>0.21977</td>\n",
              "      <td>0.0</td>\n",
              "      <td>6.91</td>\n",
              "      <td>0.0</td>\n",
              "      <td>0.4480</td>\n",
              "      <td>5.602</td>\n",
              "      <td>62.0</td>\n",
              "      <td>6.0877</td>\n",
              "      <td>3.0</td>\n",
              "      <td>233.0</td>\n",
              "      <td>17.9</td>\n",
              "      <td>396.90</td>\n",
              "      <td>16.20</td>\n",
              "    </tr>\n",
              "    <tr>\n",
              "      <th>400</th>\n",
              "      <td>0.16211</td>\n",
              "      <td>20.0</td>\n",
              "      <td>6.96</td>\n",
              "      <td>0.0</td>\n",
              "      <td>0.4640</td>\n",
              "      <td>6.240</td>\n",
              "      <td>16.3</td>\n",
              "      <td>4.4290</td>\n",
              "      <td>3.0</td>\n",
              "      <td>223.0</td>\n",
              "      <td>18.6</td>\n",
              "      <td>396.90</td>\n",
              "      <td>6.59</td>\n",
              "    </tr>\n",
              "    <tr>\n",
              "      <th>401</th>\n",
              "      <td>0.03466</td>\n",
              "      <td>35.0</td>\n",
              "      <td>6.06</td>\n",
              "      <td>0.0</td>\n",
              "      <td>0.4379</td>\n",
              "      <td>6.031</td>\n",
              "      <td>23.3</td>\n",
              "      <td>6.6407</td>\n",
              "      <td>1.0</td>\n",
              "      <td>304.0</td>\n",
              "      <td>16.9</td>\n",
              "      <td>362.25</td>\n",
              "      <td>7.83</td>\n",
              "    </tr>\n",
              "    <tr>\n",
              "      <th>402</th>\n",
              "      <td>2.14918</td>\n",
              "      <td>0.0</td>\n",
              "      <td>19.58</td>\n",
              "      <td>0.0</td>\n",
              "      <td>0.8710</td>\n",
              "      <td>5.709</td>\n",
              "      <td>98.5</td>\n",
              "      <td>1.6232</td>\n",
              "      <td>5.0</td>\n",
              "      <td>403.0</td>\n",
              "      <td>14.7</td>\n",
              "      <td>261.95</td>\n",
              "      <td>15.79</td>\n",
              "    </tr>\n",
              "    <tr>\n",
              "      <th>403</th>\n",
              "      <td>0.01439</td>\n",
              "      <td>60.0</td>\n",
              "      <td>2.93</td>\n",
              "      <td>0.0</td>\n",
              "      <td>0.4010</td>\n",
              "      <td>6.604</td>\n",
              "      <td>18.8</td>\n",
              "      <td>6.2196</td>\n",
              "      <td>1.0</td>\n",
              "      <td>265.0</td>\n",
              "      <td>15.6</td>\n",
              "      <td>376.70</td>\n",
              "      <td>4.38</td>\n",
              "    </tr>\n",
              "  </tbody>\n",
              "</table>\n",
              "<p>404 rows × 13 columns</p>\n",
              "</div>"
            ],
            "text/plain": [
              "          0     1      2    3       4   ...    8      9     10      11     12\n",
              "0    1.23247   0.0   8.14  0.0  0.5380  ...   4.0  307.0  21.0  396.90  18.72\n",
              "1    0.02177  82.5   2.03  0.0  0.4150  ...   2.0  348.0  14.7  395.38   3.11\n",
              "2    4.89822   0.0  18.10  0.0  0.6310  ...  24.0  666.0  20.2  375.52   3.26\n",
              "3    0.03961   0.0   5.19  0.0  0.5150  ...   5.0  224.0  20.2  396.90   8.01\n",
              "4    3.69311   0.0  18.10  0.0  0.7130  ...  24.0  666.0  20.2  391.43  14.65\n",
              "..       ...   ...    ...  ...     ...  ...   ...    ...   ...     ...    ...\n",
              "399  0.21977   0.0   6.91  0.0  0.4480  ...   3.0  233.0  17.9  396.90  16.20\n",
              "400  0.16211  20.0   6.96  0.0  0.4640  ...   3.0  223.0  18.6  396.90   6.59\n",
              "401  0.03466  35.0   6.06  0.0  0.4379  ...   1.0  304.0  16.9  362.25   7.83\n",
              "402  2.14918   0.0  19.58  0.0  0.8710  ...   5.0  403.0  14.7  261.95  15.79\n",
              "403  0.01439  60.0   2.93  0.0  0.4010  ...   1.0  265.0  15.6  376.70   4.38\n",
              "\n",
              "[404 rows x 13 columns]"
            ]
          },
          "metadata": {
            "tags": []
          },
          "execution_count": 5
        }
      ]
    },
    {
      "cell_type": "code",
      "metadata": {
        "id": "IxNyiJ7oI_Yz",
        "colab_type": "code",
        "colab": {
          "base_uri": "https://localhost:8080/",
          "height": 179
        },
        "outputId": "1f3a72a5-2695-4bba-8289-307111d72a9a"
      },
      "source": [
        "# 데이터 전처리 (정규화)\n",
        "# : 각 데이터ㅓ에서 평균값을 뺀 다음 표준편차로 나눈 것. 이것은 데이터 분포를 정규분포로 옮기는 역할을 한다.\n",
        "# 평균과 표준편차를 구할 때ㅐ 훈련 데이터의 평균과 표준편차를 구한 후 이것을 테스트 데이터로 정규화한다.\n",
        "\n",
        "# data\n",
        "x_mean = train_data.mean()\n",
        "x_std = train_data.std()\n",
        "train_data -= x_mean\n",
        "train_data /= x_std\n",
        "test_data -= x_mean\n",
        "test_data /= x_std\n",
        "\n",
        "# targets\n",
        "y_mean = train_targets.mean()\n",
        "y_std = train_targets.std()\n",
        "train_targets -= y_mean\n",
        "train_targets /= y_std\n",
        "test_targets -= y_mean\n",
        "test_targets /= y_std\n",
        "\n",
        "print(train_data[0])\n",
        "print(train_targets[0])\n",
        "print('-'*30)\n",
        "print(test_data[0])\n",
        "print(test_targets[0])"
      ],
      "execution_count": 6,
      "outputs": [
        {
          "output_type": "stream",
          "text": [
            "[-0.47482083 -0.48335641 -0.42698208 -0.48335641 -0.47963044 -0.44081941\n",
            "  0.15172056 -0.45581402 -0.45565404  1.64280094 -0.33791894  2.26541184\n",
            " -0.35370929]\n",
            "-0.7821526033779157\n",
            "------------------------------\n",
            "[-0.35810982 -0.48335641 -0.35800316 -0.48335641 -0.47865393 -0.43879714\n",
            "  0.20920299 -0.47065003 -0.31714216  4.12908918 -0.34345941 -0.29463398\n",
            " -0.28216791]\n",
            "-1.6518090001432328\n"
          ],
          "name": "stdout"
        }
      ]
    },
    {
      "cell_type": "code",
      "metadata": {
        "id": "66DfNG34NyCW",
        "colab_type": "code",
        "colab": {
          "base_uri": "https://localhost:8080/",
          "height": 305
        },
        "outputId": "08639ccb-bce3-4e0c-cd00-62d862667c73"
      },
      "source": [
        "import tensorflow as tf\n",
        "\n",
        "# Boston Housing Dataset Regression model 생성\n",
        "model = tf.keras.Sequential([\n",
        "      tf.keras.layers.Dense(units=52, activation='relu', input_shape=(13,)),\n",
        "      tf.keras.layers.Dense(units=39, activation='relu'),\n",
        "      tf.keras.layers.Dense(units=26, activation='relu'),\n",
        "      tf.keras.layers.Dense(units=1)\n",
        "])\n",
        "\n",
        "model.compile(optimizer='adam', lr=0.07, loss='mse')\n",
        "\n",
        "model.summary()"
      ],
      "execution_count": 7,
      "outputs": [
        {
          "output_type": "stream",
          "text": [
            "Model: \"sequential\"\n",
            "_________________________________________________________________\n",
            "Layer (type)                 Output Shape              Param #   \n",
            "=================================================================\n",
            "dense (Dense)                (None, 52)                728       \n",
            "_________________________________________________________________\n",
            "dense_1 (Dense)              (None, 39)                2067      \n",
            "_________________________________________________________________\n",
            "dense_2 (Dense)              (None, 26)                1040      \n",
            "_________________________________________________________________\n",
            "dense_3 (Dense)              (None, 1)                 27        \n",
            "=================================================================\n",
            "Total params: 3,862\n",
            "Trainable params: 3,862\n",
            "Non-trainable params: 0\n",
            "_________________________________________________________________\n"
          ],
          "name": "stdout"
        }
      ]
    },
    {
      "cell_type": "code",
      "metadata": {
        "id": "jOgKRbfjxp29",
        "colab_type": "code",
        "colab": {
          "base_uri": "https://localhost:8080/",
          "height": 265
        },
        "outputId": "1d7950c0-9180-4d96-9f7e-f3967872d958"
      },
      "source": [
        "# 출력 코드 및 시각화\n",
        "import math\n",
        "import numpy as np\n",
        "import matplotlib.pyplot as plt\n",
        "\n",
        "def sigmoid(x):\n",
        "  return 1/ (1 + math.exp(-x))\n",
        "\n",
        "x = np.arange(-5, 5, 0.01)\n",
        "sigmoid_x  = [sigmoid(z) for z in x]\n",
        "tanh_x = [math.tanh(z) for z in x]\n",
        "relu = [0 if z < 0 else z for z in x]\n",
        "\n",
        "plt.axhline(0, color = 'gray')\n",
        "plt.axvline(0, color = 'gray')\n",
        "plt.plot(x, sigmoid_x, 'b-', label='sigmoid')\n",
        "plt.plot(x, tanh_x, 'r--', label='tanh')\n",
        "plt.plot(x, relu, 'g', label='relu')\n",
        "plt.legend()\n",
        "plt.show()"
      ],
      "execution_count": 8,
      "outputs": [
        {
          "output_type": "display_data",
          "data": {
            "image/png": "[encoded data removed]",
            "text/plain": [
              "<Figure size 432x288 with 1 Axes>"
            ]
          },
          "metadata": {
            "tags": []
          }
        }
      ]
    },
    {
      "cell_type": "code",
      "metadata": {
        "id": "7U6pyAKFyszU",
        "colab_type": "code",
        "colab": {
          "base_uri": "https://localhost:8080/",
          "height": 935
        },
        "outputId": "42b4a532-a593-4900-b57f-1db8223f81c2"
      },
      "source": [
        "# regression 모델 학습\n",
        "history = model.fit(train_data, train_targets, epochs=25, batch_size=32, validation_split=0.25)"
      ],
      "execution_count": 9,
      "outputs": [
        {
          "output_type": "stream",
          "text": [
            "Train on 303 samples, validate on 101 samples\n",
            "Epoch 1/25\n",
            "303/303 [==============================] - 1s 2ms/sample - loss: 0.9176 - val_loss: 1.2016\n",
            "Epoch 2/25\n",
            "303/303 [==============================] - 0s 165us/sample - loss: 0.7453 - val_loss: 1.0531\n",
            "Epoch 3/25\n",
            "303/303 [==============================] - 0s 144us/sample - loss: 0.6938 - val_loss: 1.0517\n",
            "Epoch 4/25\n",
            "303/303 [==============================] - 0s 132us/sample - loss: 0.6754 - val_loss: 1.0117\n",
            "Epoch 5/25\n",
            "303/303 [==============================] - 0s 153us/sample - loss: 0.6707 - val_loss: 1.0702\n",
            "Epoch 6/25\n",
            "303/303 [==============================] - 0s 155us/sample - loss: 0.6495 - val_loss: 1.0059\n",
            "Epoch 7/25\n",
            "303/303 [==============================] - 0s 146us/sample - loss: 0.6464 - val_loss: 1.0427\n",
            "Epoch 8/25\n",
            "303/303 [==============================] - 0s 138us/sample - loss: 0.6382 - val_loss: 1.0198\n",
            "Epoch 9/25\n",
            "303/303 [==============================] - 0s 147us/sample - loss: 0.6328 - val_loss: 1.0284\n",
            "Epoch 10/25\n",
            "303/303 [==============================] - 0s 151us/sample - loss: 0.6358 - val_loss: 1.0554\n",
            "Epoch 11/25\n",
            "303/303 [==============================] - 0s 132us/sample - loss: 0.6298 - val_loss: 1.0273\n",
            "Epoch 12/25\n",
            "303/303 [==============================] - 0s 142us/sample - loss: 0.6166 - val_loss: 1.0073\n",
            "Epoch 13/25\n",
            "303/303 [==============================] - 0s 142us/sample - loss: 0.6092 - val_loss: 1.0520\n",
            "Epoch 14/25\n",
            "303/303 [==============================] - 0s 152us/sample - loss: 0.6096 - val_loss: 1.0027\n",
            "Epoch 15/25\n",
            "303/303 [==============================] - 0s 132us/sample - loss: 0.6003 - val_loss: 1.0321\n",
            "Epoch 16/25\n",
            "303/303 [==============================] - 0s 170us/sample - loss: 0.5999 - val_loss: 1.0096\n",
            "Epoch 17/25\n",
            "303/303 [==============================] - 0s 158us/sample - loss: 0.5962 - val_loss: 0.9993\n",
            "Epoch 18/25\n",
            "303/303 [==============================] - 0s 145us/sample - loss: 0.5954 - val_loss: 1.0004\n",
            "Epoch 19/25\n",
            "303/303 [==============================] - 0s 140us/sample - loss: 0.5970 - val_loss: 0.9999\n",
            "Epoch 20/25\n",
            "303/303 [==============================] - 0s 140us/sample - loss: 0.6092 - val_loss: 1.0442\n",
            "Epoch 21/25\n",
            "303/303 [==============================] - 0s 158us/sample - loss: 0.5873 - val_loss: 0.9775\n",
            "Epoch 22/25\n",
            "303/303 [==============================] - 0s 145us/sample - loss: 0.5855 - val_loss: 1.0073\n",
            "Epoch 23/25\n",
            "303/303 [==============================] - 0s 167us/sample - loss: 0.5758 - val_loss: 0.9930\n",
            "Epoch 24/25\n",
            "303/303 [==============================] - 0s 160us/sample - loss: 0.5727 - val_loss: 0.9961\n",
            "Epoch 25/25\n",
            "303/303 [==============================] - 0s 141us/sample - loss: 0.5738 - val_loss: 0.9910\n"
          ],
          "name": "stdout"
        }
      ]
    },
    {
      "cell_type": "code",
      "metadata": {
        "id": "rHVg-4dW0GeV",
        "colab_type": "code",
        "colab": {
          "base_uri": "https://localhost:8080/",
          "height": 279
        },
        "outputId": "7199c87c-9b0e-48b0-98ee-868ba1869bad"
      },
      "source": [
        "# regression 모델 학습 결과 시각화\n",
        "plt.plot(history.history['loss'], 'b-', label='loss')\n",
        "plt.plot(history.history['val_loss'], 'r--', label='val_loss')\n",
        "plt.xlabel('Epoch')\n",
        "plt.legend()\n",
        "plt.show()"
      ],
      "execution_count": 12,
      "outputs": [
        {
          "output_type": "display_data",
          "data": {
            "image/png": "[encoded data removed]",
            "text/plain": [
              "<Figure size 432x288 with 1 Axes>"
            ]
          },
          "metadata": {
            "tags": []
          }
        }
      ]
    },
    {
      "cell_type": "code",
      "metadata": {
        "id": "RgSX3KxY3aCH",
        "colab_type": "code",
        "colab": {
          "base_uri": "https://localhost:8080/",
          "height": 73
        },
        "outputId": "8eb4ded3-0802-407a-ce51-0e253095ff92"
      },
      "source": [
        "# regression 모델 평가\n",
        "model.evaluate(test_data, test_targets)"
      ],
      "execution_count": 16,
      "outputs": [
        {
          "output_type": "stream",
          "text": [
            "\r102/1 [====================================================================================================================================================================================================================================================================================================================================================================================================================================================================================================================================================================================================================================================================================================================================================================================================================================================================================================================================================================================================================================================================================================================================================================================================================================================================================================================================================================================================================================================================================================================================================================================================================================================================================================================================================================================================================================================================================================================================================================================================================================================================================================================================================================================================================================================================================================================================================================================================================================================================================================================================================================================================================================================================================================================================================================================================================================================================================================================================================================================================================================================================================================================================================================================] - 0s 57us/sample - loss: 1.3970\n"
          ],
          "name": "stdout"
        },
        {
          "output_type": "execute_result",
          "data": {
            "text/plain": [
              "0.6529330038556865"
            ]
          },
          "metadata": {
            "tags": []
          },
          "execution_count": 16
        }
      ]
    },
    {
      "cell_type": "code",
      "metadata": {
        "id": "GMgPaXTY3vRM",
        "colab_type": "code",
        "colab": {
          "base_uri": "https://localhost:8080/",
          "height": 338
        },
        "outputId": "29381516-af75-4848-d37e-1b18467337ce"
      },
      "source": [
        "# 실제 주택 가격과 예측 주택 가격 시각화\n",
        "\n",
        "pred_y = model.predict(test_data)\n",
        "\n",
        "plt.figure(figsize=(5,5))\n",
        "plt.plot(test_targets, pred_y, 'b.')\n",
        "plt.axis([min(test_targets), max(test_targets), min(test_targets), max(test_targets)])\n",
        "\n",
        "# y=x 에 해당하는 대각선\n",
        "plt.plot([min(test_targets), max(test_targets)], [min(test_targets), max(test_targets)], ls='--', c=\".3\")\n",
        "plt.xlabel('test_targets')\n",
        "plt.ylabel('pred_y')\n",
        "\n",
        "plt.show()"
      ],
      "execution_count": 19,
      "outputs": [
        {
          "output_type": "display_data",
          "data": {
            "image/png": "[encoded data removed]",
            "text/plain": [
              "<Figure size 360x360 with 1 Axes>"
            ]
          },
          "metadata": {
            "tags": []
          }
        }
      ]
    },
    {
      "cell_type": "code",
      "metadata": {
        "id": "0yCBs5115Pp_",
        "colab_type": "code",
        "colab": {
          "base_uri": "https://localhost:8080/",
          "height": 719
        },
        "outputId": "7811d62e-a7ae-48b9-9cfe-59a9ebe44fa5"
      },
      "source": [
        "# 모델 재정의 및 학습\n",
        "model = tf.keras.Sequential([\n",
        "        tf.keras.layers.Dense(units=52, activation='relu', input_shape=(13,)),\n",
        "        tf.keras.layers.Dense(units=39, activation='relu'),\n",
        "        tf.keras.layers.Dense(units=26, activation='relu'),\n",
        "        tf.keras.layers.Dense(units=1)\n",
        "])\n",
        "\n",
        "model.compile(optimizer='adam', lr=0.07, loss='mse')\n",
        "\n",
        "history = model.fit(train_data, train_targets, epochs=25, batch_size=32, validation_split=0.25, callbacks=[tf.keras.callbacks.EarlyStopping(patience=3, monitor='val_loss')])"
      ],
      "execution_count": 28,
      "outputs": [
        {
          "output_type": "stream",
          "text": [
            "Train on 303 samples, validate on 101 samples\n",
            "Epoch 1/25\n",
            "303/303 [==============================] - 0s 2ms/sample - loss: 0.8420 - val_loss: 1.1722\n",
            "Epoch 2/25\n",
            "303/303 [==============================] - 0s 138us/sample - loss: 0.7435 - val_loss: 1.0944\n",
            "Epoch 3/25\n",
            "303/303 [==============================] - 0s 130us/sample - loss: 0.6934 - val_loss: 1.0770\n",
            "Epoch 4/25\n",
            "303/303 [==============================] - 0s 138us/sample - loss: 0.6757 - val_loss: 1.0496\n",
            "Epoch 5/25\n",
            "303/303 [==============================] - 0s 131us/sample - loss: 0.6691 - val_loss: 1.0515\n",
            "Epoch 6/25\n",
            "303/303 [==============================] - 0s 145us/sample - loss: 0.6570 - val_loss: 1.0266\n",
            "Epoch 7/25\n",
            "303/303 [==============================] - 0s 138us/sample - loss: 0.6453 - val_loss: 1.0382\n",
            "Epoch 8/25\n",
            "303/303 [==============================] - 0s 132us/sample - loss: 0.6317 - val_loss: 1.0539\n",
            "Epoch 9/25\n",
            "303/303 [==============================] - 0s 137us/sample - loss: 0.6221 - val_loss: 1.0189\n",
            "Epoch 10/25\n",
            "303/303 [==============================] - 0s 132us/sample - loss: 0.6160 - val_loss: 1.0185\n",
            "Epoch 11/25\n",
            "303/303 [==============================] - 0s 145us/sample - loss: 0.6078 - val_loss: 1.0431\n",
            "Epoch 12/25\n",
            "303/303 [==============================] - 0s 161us/sample - loss: 0.6041 - val_loss: 1.0158\n",
            "Epoch 13/25\n",
            "303/303 [==============================] - 0s 136us/sample - loss: 0.6066 - val_loss: 1.0081\n",
            "Epoch 14/25\n",
            "303/303 [==============================] - 0s 151us/sample - loss: 0.5946 - val_loss: 1.0298\n",
            "Epoch 15/25\n",
            "303/303 [==============================] - 0s 145us/sample - loss: 0.5956 - val_loss: 1.0023\n",
            "Epoch 16/25\n",
            "303/303 [==============================] - 0s 147us/sample - loss: 0.5987 - val_loss: 0.9806\n",
            "Epoch 17/25\n",
            "303/303 [==============================] - 0s 149us/sample - loss: 0.5822 - val_loss: 1.0474\n",
            "Epoch 18/25\n",
            "303/303 [==============================] - 0s 138us/sample - loss: 0.5865 - val_loss: 1.0089\n",
            "Epoch 19/25\n",
            "303/303 [==============================] - 0s 157us/sample - loss: 0.5958 - val_loss: 1.0156\n"
          ],
          "name": "stdout"
        }
      ]
    },
    {
      "cell_type": "code",
      "metadata": {
        "id": "5vx02OYk6kKM",
        "colab_type": "code",
        "colab": {
          "base_uri": "https://localhost:8080/",
          "height": 283
        },
        "outputId": "08aae26c-669a-4412-cdd7-2c4ab50ce306"
      },
      "source": [
        "# regression 모델 학습 결과 시각화\n",
        "plt.plot(history.history['loss'], 'b-', label='loss')\n",
        "plt.plot(history.history['val_loss'], 'r--', label='val_loss')\n",
        "plt.xlabel('Epoch')\n",
        "plt.legend()\n",
        "\n",
        "plt.show()"
      ],
      "execution_count": 29,
      "outputs": [
        {
          "output_type": "display_data",
          "data": {
            "image/png": "[encoded data removed]",
            "text/plain": [
              "<Figure size 432x288 with 1 Axes>"
            ]
          },
          "metadata": {
            "tags": []
          }
        }
      ]
    },
    {
      "cell_type": "code",
      "metadata": {
        "id": "jQV4rWqE7Lqx",
        "colab_type": "code",
        "colab": {
          "base_uri": "https://localhost:8080/",
          "height": 73
        },
        "outputId": "90a97f61-76b8-480c-a08a-e11846a7e8c2"
      },
      "source": [
        "# regression 모델 평가\n",
        "model.evaluate(test_data, test_targets)"
      ],
      "execution_count": 30,
      "outputs": [
        {
          "output_type": "stream",
          "text": [
            "\r102/1 [====================================================================================================================================================================================================================================================================================================================================================================================================================================================================================================================================================================================================================================================================================================================================================================================================================================================================================================================================================================================================================================================================================================================================================================================================================================================================================================================================================================================================================================================================================================================================================================================================================================================================================================================================================================================================================================================================================================================================================================================================================================================================================================================================================================================================================================================================================================================================================================================================================================================================================================================================================================================================================================================================================================================================================================================================================================================================================================================================================================================================================================================================================================================================================================================] - 0s 58us/sample - loss: 1.4498\n"
          ],
          "name": "stdout"
        },
        {
          "output_type": "execute_result",
          "data": {
            "text/plain": [
              "0.6452729328005922"
            ]
          },
          "metadata": {
            "tags": []
          },
          "execution_count": 30
        }
      ]
    },
    {
      "cell_type": "code",
      "metadata": {
        "id": "zQQU_VJ99RjS",
        "colab_type": "code",
        "colab": {
          "base_uri": "https://localhost:8080/",
          "height": 35
        },
        "outputId": "085e2e30-5db8-4934-bf9b-746a149027b4"
      },
      "source": [
        "test_targets.shape"
      ],
      "execution_count": 33,
      "outputs": [
        {
          "output_type": "execute_result",
          "data": {
            "text/plain": [
              "(102,)"
            ]
          },
          "metadata": {
            "tags": []
          },
          "execution_count": 33
        }
      ]
    },
    {
      "cell_type": "code",
      "metadata": {
        "id": "SLP0LzVr9UJ5",
        "colab_type": "code",
        "colab": {
          "base_uri": "https://localhost:8080/",
          "height": 35
        },
        "outputId": "68a3f0e4-b498-492e-f3ad-df8d16e9ab0e"
      },
      "source": [
        "test_targets[0:1].shape"
      ],
      "execution_count": 38,
      "outputs": [
        {
          "output_type": "execute_result",
          "data": {
            "text/plain": [
              "(1,)"
            ]
          },
          "metadata": {
            "tags": []
          },
          "execution_count": 38
        }
      ]
    },
    {
      "cell_type": "code",
      "metadata": {
        "id": "0YQ79ltS7R-g",
        "colab_type": "code",
        "colab": {
          "base_uri": "https://localhost:8080/",
          "height": 338
        },
        "outputId": "89ee1c80-c4d8-46dd-ba3d-63f248f907a9"
      },
      "source": [
        "# 실제 주택 가격과 예측 주택 가격 시각화\n",
        "\n",
        "pred_y = model.predict(test_data)\n",
        "\n",
        "plt.figure(figsize=(5,5))\n",
        "plt.plot(test_targets, pred_y, 'b.')\n",
        "plt.axis([min(test_targets), max(test_targets), min(test_targets), max(test_targets)])\n",
        "\n",
        "# y=x 에 해당하는 대각선\n",
        "plt.plot([min(test_targets), max(test_targets)], [min(test_targets), max(test_targets)], ls='--', c=\".3\")\n",
        "plt.xlabel('test_targets')\n",
        "plt.ylabel('pred_y')\n",
        "\n",
        "plt.show()"
      ],
      "execution_count": 41,
      "outputs": [
        {
          "output_type": "display_data",
          "data": {
            "image/png": "[encoded data removed]",
            "text/plain": [
              "<Figure size 360x360 with 1 Axes>"
            ]
          },
          "metadata": {
            "tags": []
          }
        }
      ]
    },
    {
      "cell_type": "code",
      "metadata": {
        "id": "8DyilI_473Nk",
        "colab_type": "code",
        "colab": {}
      },
      "source": [
        ""
      ],
      "execution_count": 0,
      "outputs": []
    }
  ]
}