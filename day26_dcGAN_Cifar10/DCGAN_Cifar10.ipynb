{
  "nbformat": 4,
  "nbformat_minor": 0,
  "metadata": {
    "kernelspec": {
      "name": "python3",
      "display_name": "Python 3"
    },
    "language_info": {
      "pygments_lexer": "ipython3",
      "nbconvert_exporter": "python",
      "version": "3.6.4",
      "file_extension": ".py",
      "codemirror_mode": {
        "name": "ipython",
        "version": 3
      },
      "name": "python",
      "mimetype": "text/x-python"
    },
    "colab": {
      "name": "DCGAN_Cifar10.ipynb",
      "provenance": [],
      "collapsed_sections": []
    },
    "accelerator": "GPU"
  },
  "cells": [
    {
      "cell_type": "code",
      "metadata": {
        "_uuid": "8f2839f25d086af736a60e9eeb907d3b93b6e0e5",
        "_cell_guid": "b1076dfc-b9ad-4769-8c92-a6c4dae69d19",
        "trusted": true,
        "id": "KS9yk1hiZJcJ",
        "colab_type": "code",
        "outputId": "10fd25a9-c755-4802-d19d-b4d14f785c41",
        "colab": {
          "base_uri": "https://localhost:8080/",
          "height": 125
        }
      },
      "source": [
        "# 구글 드라이브와 연동하는 방법 입니다. \n",
        "# Google File Drive Stream 접근을 허용해야 합니다.\n",
        "from google.colab import auth\n",
        "auth.authenticate_user()\n",
        "\n",
        "# 구글 드라이브 mount \n",
        "from google.colab import drive\n",
        "drive.mount('/content/gdrive')"
      ],
      "execution_count": 1,
      "outputs": [
        {
          "output_type": "stream",
          "text": [
            "Go to this URL in a browser: https://accounts.google.com/o/oauth2/auth?client_id=947318989803-6bn6qk8qdgf4n4g3pfee6491hc0brc4i.apps.googleusercontent.com&redirect_uri=urn%3aietf%3awg%3aoauth%3a2.0%3aoob&response_type=code&scope=email%20https%3a%2f%2fwww.googleapis.com%2fauth%2fdocs.test%20https%3a%2f%2fwww.googleapis.com%2fauth%2fdrive%20https%3a%2f%2fwww.googleapis.com%2fauth%2fdrive.photos.readonly%20https%3a%2f%2fwww.googleapis.com%2fauth%2fpeopleapi.readonly\n",
            "\n",
            "Enter your authorization code:\n",
            "··········\n",
            "Mounted at /content/gdrive\n"
          ],
          "name": "stdout"
        }
      ]
    },
    {
      "cell_type": "code",
      "metadata": {
        "id": "6d6rH6d1ZsOR",
        "colab_type": "code",
        "outputId": "63bced15-f17a-4253-e319-5afb30fe8208",
        "colab": {
          "base_uri": "https://localhost:8080/",
          "height": 35
        }
      },
      "source": [
        "cd gdrive/My Drive/Colab Notebooks/DCGAN"
      ],
      "execution_count": 2,
      "outputs": [
        {
          "output_type": "stream",
          "text": [
            "/content/gdrive/My Drive/Colab Notebooks/DCGAN\n"
          ],
          "name": "stdout"
        }
      ]
    },
    {
      "cell_type": "code",
      "metadata": {
        "_uuid": "d629ff2d2480ee46fbb7e2d37f6b5fab8052498a",
        "_cell_guid": "79c7e3d0-c299-4dcb-8224-4455121ee9b0",
        "trusted": true,
        "id": "KafrAqB2ZJcO",
        "colab_type": "code",
        "outputId": "f87c1d6d-1977-4883-b25f-d197694f90e9",
        "colab": {
          "base_uri": "https://localhost:8080/",
          "height": 35
        }
      },
      "source": [
        "from keras.layers import Input, Dense, Reshape, Flatten, Dropout\n",
        "from keras.layers import BatchNormalization, Activation, ZeroPadding2D, GlobalAveragePooling2D\n",
        "from keras.layers.advanced_activations import LeakyReLU, ReLU\n",
        "from keras.layers.convolutional import UpSampling2D, Conv2D, Conv2DTranspose\n",
        "from keras.models import Sequential, Model\n",
        "from keras.optimizers import Adam,SGD\n",
        "from keras import initializers\n",
        "import os\n",
        "import keras\n",
        "from keras import layers\n",
        "import matplotlib.pyplot as plt\n",
        "import sys\n",
        "import numpy as np\n",
        "from keras.preprocessing import image"
      ],
      "execution_count": 3,
      "outputs": [
        {
          "output_type": "stream",
          "text": [
            "Using TensorFlow backend.\n"
          ],
          "name": "stderr"
        }
      ]
    },
    {
      "cell_type": "code",
      "metadata": {
        "trusted": true,
        "id": "XHhmOD72ZJcU",
        "colab_type": "code",
        "outputId": "b446f7b7-48a7-468d-b273-7c192b38ec46",
        "colab": {
          "base_uri": "https://localhost:8080/",
          "height": 52
        }
      },
      "source": [
        "(X_train, y_train), (_, _) = keras.datasets.cifar10.load_data()\n",
        "X_train = X_train[y_train.flatten() == 3]"
      ],
      "execution_count": 4,
      "outputs": [
        {
          "output_type": "stream",
          "text": [
            "Downloading data from https://www.cs.toronto.edu/~kriz/cifar-10-python.tar.gz\n",
            "170500096/170498071 [==============================] - 4s 0us/step\n"
          ],
          "name": "stdout"
        }
      ]
    },
    {
      "cell_type": "code",
      "metadata": {
        "id": "9T7t4X8hdUvk",
        "colab_type": "code",
        "colab": {}
      },
      "source": [
        "# figure를 plt로 visualize\n",
        "def visualize_rgb(img):\n",
        "    \"\"\"\n",
        "    Visualize a rgb image\n",
        "    :param img: RGB image\n",
        "    \"\"\"\n",
        "    fig = plt.figure()\n",
        "    ax = fig.add_subplot(1, 1, 1)\n",
        "    ax.imshow(img)\n",
        "    ax.axis(\"off\")\n",
        "    ax.set_title(\"Image\")\n",
        "    plt.show()"
      ],
      "execution_count": 0,
      "outputs": []
    },
    {
      "cell_type": "code",
      "metadata": {
        "id": "qRu1W1uidWjg",
        "colab_type": "code",
        "outputId": "6fe88924-9c90-4eb3-ed76-4699821ce3fd",
        "colab": {
          "base_uri": "https://localhost:8080/",
          "height": 263
        }
      },
      "source": [
        "visualize_rgb(X_train[0])"
      ],
      "execution_count": 6,
      "outputs": [
        {
          "output_type": "display_data",
          "data": {
            "image/png": "[encoded data removed]",
            "text/plain": [
              "<Figure size 432x288 with 1 Axes>"
            ]
          },
          "metadata": {
            "tags": [],
            "needs_background": "light"
          }
        }
      ]
    },
    {
      "cell_type": "code",
      "metadata": {
        "trusted": true,
        "id": "2H6usnXXZJcX",
        "colab_type": "code",
        "colab": {}
      },
      "source": [
        "# Input shape\n",
        "img_rows = 32\n",
        "img_cols = 32\n",
        "channels = 3\n",
        "        \n",
        "img_shape = (img_rows, img_cols, channels)        \n",
        "latent_dim = 100  "
      ],
      "execution_count": 0,
      "outputs": []
    },
    {
      "cell_type": "code",
      "metadata": {
        "trusted": true,
        "id": "1UOwnAAsZJcZ",
        "colab_type": "code",
        "colab": {}
      },
      "source": [
        "# latent space dimension\n",
        "latent_dim = 100\n",
        "\n",
        "init = initializers.RandomNormal(stddev=0.02)\n",
        "\n",
        "# Generator network\n",
        "generator = Sequential()\n",
        "\n",
        "# FC: 2x2x512\n",
        "generator.add(Dense(2*2*512, input_shape=(latent_dim,), activation='relu', kernel_initializer=init))\n",
        "generator.add(BatchNormalization())\n",
        "generator.add(Reshape((2, 2, 512)))\n",
        "\n",
        "# # Conv 1: 4x4x256\n",
        "generator.add(Conv2DTranspose(256, kernel_size=3, activation='relu', kernel_initializer=init, strides=2, padding='same'))\n",
        "generator.add(BatchNormalization())\n",
        "\n",
        "# Conv 2: 8x8x128\n",
        "generator.add(Conv2DTranspose(128, kernel_size=3, activation='relu', kernel_initializer=init, strides=2, padding='same'))\n",
        "generator.add(BatchNormalization())\n",
        "\n",
        "\n",
        "# Conv 3: 16x16x64\n",
        "generator.add(Conv2DTranspose(64, kernel_size=3, activation='relu', kernel_initializer=init, strides=2, padding='same'))\n",
        "generator.add(BatchNormalization())\n",
        "\n",
        "# Conv 4: 32x32x3\n",
        "generator.add(Conv2DTranspose(3, kernel_size=3, strides=2, padding='same',kernel_initializer=init,\n",
        "                              activation='tanh'))"
      ],
      "execution_count": 0,
      "outputs": []
    },
    {
      "cell_type": "code",
      "metadata": {
        "id": "tllUPN5cn7rZ",
        "colab_type": "code",
        "outputId": "7755fb2e-67ae-4ff3-b3ec-8c44674c526a",
        "colab": {
          "base_uri": "https://localhost:8080/",
          "height": 507
        }
      },
      "source": [
        "generator.summary()"
      ],
      "execution_count": 10,
      "outputs": [
        {
          "output_type": "stream",
          "text": [
            "Model: \"sequential_2\"\n",
            "_________________________________________________________________\n",
            "Layer (type)                 Output Shape              Param #   \n",
            "=================================================================\n",
            "dense_2 (Dense)              (None, 2048)              206848    \n",
            "_________________________________________________________________\n",
            "batch_normalization_5 (Batch (None, 2048)              8192      \n",
            "_________________________________________________________________\n",
            "reshape_2 (Reshape)          (None, 2, 2, 512)         0         \n",
            "_________________________________________________________________\n",
            "conv2d_transpose_5 (Conv2DTr (None, 4, 4, 256)         1179904   \n",
            "_________________________________________________________________\n",
            "batch_normalization_6 (Batch (None, 4, 4, 256)         1024      \n",
            "_________________________________________________________________\n",
            "conv2d_transpose_6 (Conv2DTr (None, 8, 8, 128)         295040    \n",
            "_________________________________________________________________\n",
            "batch_normalization_7 (Batch (None, 8, 8, 128)         512       \n",
            "_________________________________________________________________\n",
            "conv2d_transpose_7 (Conv2DTr (None, 16, 16, 64)        73792     \n",
            "_________________________________________________________________\n",
            "batch_normalization_8 (Batch (None, 16, 16, 64)        256       \n",
            "_________________________________________________________________\n",
            "conv2d_transpose_8 (Conv2DTr (None, 32, 32, 3)         1731      \n",
            "=================================================================\n",
            "Total params: 1,767,299\n",
            "Trainable params: 1,762,307\n",
            "Non-trainable params: 4,992\n",
            "_________________________________________________________________\n"
          ],
          "name": "stdout"
        }
      ]
    },
    {
      "cell_type": "code",
      "metadata": {
        "trusted": true,
        "id": "crqr73bhZJcc",
        "colab_type": "code",
        "colab": {}
      },
      "source": [
        "# imagem shape 32x32x3\n",
        "img_shape = X_train[0].shape\n",
        "\n",
        "# Discriminator network\n",
        "discriminator = Sequential()\n",
        "\n",
        "# Conv 1: 16x16x64\n",
        "discriminator.add(Conv2D(64, kernel_size=3, strides=2, use_bias=False, padding='valid',\n",
        "                         input_shape=(img_shape), kernel_initializer=init))\n",
        "discriminator.add(BatchNormalization())\n",
        "discriminator.add(LeakyReLU(0.2))\n",
        "\n",
        "\n",
        "# Conv 2:\n",
        "discriminator.add(Conv2D(128, kernel_size=3, strides=2,  kernel_initializer=init, use_bias=False, padding='valid'))\n",
        "discriminator.add(BatchNormalization())\n",
        "discriminator.add(LeakyReLU(0.2))\n",
        "\n",
        "# Conv 3: \n",
        "discriminator.add(Conv2D(256, kernel_size=3, strides=2, kernel_initializer=init, use_bias=False, padding='valid'))\n",
        "discriminator.add(BatchNormalization())\n",
        "discriminator.add(LeakyReLU(0.2))\n",
        "\n",
        "# discriminator.add(Flatten())\n",
        "discriminator.add(GlobalAveragePooling2D())\n",
        "\n",
        "# Output\n",
        "discriminator.add(Dense(1, activation='sigmoid'))"
      ],
      "execution_count": 0,
      "outputs": []
    },
    {
      "cell_type": "code",
      "metadata": {
        "id": "lZB1l_AZn_l7",
        "colab_type": "code",
        "outputId": "4cfbd5b6-1127-48d1-b555-97f5b8c72814",
        "colab": {
          "base_uri": "https://localhost:8080/",
          "height": 542
        }
      },
      "source": [
        "discriminator.summary()"
      ],
      "execution_count": 12,
      "outputs": [
        {
          "output_type": "stream",
          "text": [
            "Model: \"sequential_3\"\n",
            "_________________________________________________________________\n",
            "Layer (type)                 Output Shape              Param #   \n",
            "=================================================================\n",
            "conv2d_1 (Conv2D)            (None, 15, 15, 64)        1728      \n",
            "_________________________________________________________________\n",
            "batch_normalization_9 (Batch (None, 15, 15, 64)        256       \n",
            "_________________________________________________________________\n",
            "leaky_re_lu_1 (LeakyReLU)    (None, 15, 15, 64)        0         \n",
            "_________________________________________________________________\n",
            "conv2d_2 (Conv2D)            (None, 7, 7, 128)         73728     \n",
            "_________________________________________________________________\n",
            "batch_normalization_10 (Batc (None, 7, 7, 128)         512       \n",
            "_________________________________________________________________\n",
            "leaky_re_lu_2 (LeakyReLU)    (None, 7, 7, 128)         0         \n",
            "_________________________________________________________________\n",
            "conv2d_3 (Conv2D)            (None, 3, 3, 256)         294912    \n",
            "_________________________________________________________________\n",
            "batch_normalization_11 (Batc (None, 3, 3, 256)         1024      \n",
            "_________________________________________________________________\n",
            "leaky_re_lu_3 (LeakyReLU)    (None, 3, 3, 256)         0         \n",
            "_________________________________________________________________\n",
            "global_average_pooling2d_1 ( (None, 256)               0         \n",
            "_________________________________________________________________\n",
            "dense_3 (Dense)              (None, 1)                 257       \n",
            "=================================================================\n",
            "Total params: 372,417\n",
            "Trainable params: 371,521\n",
            "Non-trainable params: 896\n",
            "_________________________________________________________________\n"
          ],
          "name": "stdout"
        }
      ]
    },
    {
      "cell_type": "code",
      "metadata": {
        "trusted": true,
        "id": "Ue8qQ637ZJcf",
        "colab_type": "code",
        "colab": {}
      },
      "source": [
        "# Optimizer\n",
        "discriminator.compile(Adam(lr=0.0002, beta_1=0.5), loss='binary_crossentropy',\n",
        "                      metrics=['binary_accuracy'])"
      ],
      "execution_count": 0,
      "outputs": []
    },
    {
      "cell_type": "code",
      "metadata": {
        "trusted": true,
        "id": "SHZxK8pVZJch",
        "colab_type": "code",
        "colab": {}
      },
      "source": [
        "# d_g = discriminador(generador(z))\n",
        "discriminator.trainable = False\n",
        "\n",
        "z = Input(shape=(latent_dim,))\n",
        "img = generator(z)\n",
        "decision = discriminator(img)\n",
        "gan_model = Model(inputs=z, outputs=decision)\n",
        "\n",
        "gan_model.compile(Adam(lr=0.0002, beta_1=0.5), loss='binary_crossentropy',\n",
        "            metrics=['binary_accuracy'])"
      ],
      "execution_count": 0,
      "outputs": []
    },
    {
      "cell_type": "code",
      "metadata": {
        "id": "PZ9BgpuEby-E",
        "colab_type": "code",
        "colab": {}
      },
      "source": [
        "def normalize(img):\n",
        "    return (img - 127.5) / 127.5"
      ],
      "execution_count": 0,
      "outputs": []
    },
    {
      "cell_type": "code",
      "metadata": {
        "id": "Dyp3cIV6cYEn",
        "colab_type": "code",
        "colab": {}
      },
      "source": [
        "def denormalize(img):\n",
        "    img = (img * 127.5) + 127.5\n",
        "    return img.astype(np.uint8)"
      ],
      "execution_count": 0,
      "outputs": []
    },
    {
      "cell_type": "code",
      "metadata": {
        "id": "PSvUjcAmbrfl",
        "colab_type": "code",
        "outputId": "d728eb51-1ff2-4ddd-dd27-b555a8f4dedc",
        "colab": {
          "base_uri": "https://localhost:8080/",
          "height": 35
        }
      },
      "source": [
        "print(X_train.shape)"
      ],
      "execution_count": 17,
      "outputs": [
        {
          "output_type": "stream",
          "text": [
            "(5000, 32, 32, 3)\n"
          ],
          "name": "stdout"
        }
      ]
    },
    {
      "cell_type": "code",
      "metadata": {
        "trusted": true,
        "id": "TAj-x29hZJcj",
        "colab_type": "code",
        "colab": {}
      },
      "source": [
        "# 데이터를 정규화합니다\n",
        "X_train = normalize(X_train)\n",
        "\n",
        "iterations = 5000\n",
        "batch_size = 20\n",
        "save_dir = os.path.join(\"./\", 'gan_images')\n",
        "if not os.path.exists(save_dir):\n",
        "    os.mkdir(save_dir)"
      ],
      "execution_count": 0,
      "outputs": []
    },
    {
      "cell_type": "code",
      "metadata": {
        "id": "cGvri1v1wY3R",
        "colab_type": "code",
        "outputId": "1226c437-8a52-48e9-b83b-c1c9494118b7",
        "colab": {
          "base_uri": "https://localhost:8080/",
          "height": 1000
        }
      },
      "source": [
        "epochs = 100\n",
        "batch_size = 32\n",
        "smooth = 0.1\n",
        "\n",
        "real = np.ones(shape=(batch_size, 1))\n",
        "fake = np.zeros(shape=(batch_size, 1))\n",
        "\n",
        "d_loss = []\n",
        "g_loss = []\n",
        "\n",
        "for e in range(epochs + 1):\n",
        "    for i in range(len(X_train) // batch_size):\n",
        "        \n",
        "        # Train Discriminator weights\n",
        "        discriminator.trainable = True\n",
        "        \n",
        "        # Real samples\n",
        "        X_batch = X_train[i*batch_size:(i+1)*batch_size]\n",
        "        d_loss_real = discriminator.train_on_batch(x=X_batch,\n",
        "                                                   y=real * (1 - smooth))\n",
        "        \n",
        "        # Fake Samples\n",
        "        z = np.random.normal(loc=0, scale=1, size=(batch_size, latent_dim))\n",
        "        X_fake = generator.predict_on_batch(z)\n",
        "        d_loss_fake = discriminator.train_on_batch(x=X_fake, y=fake)\n",
        "         \n",
        "        # Discriminator loss\n",
        "        d_loss_batch = (d_loss_real[0] + d_loss_fake[0])\n",
        "        \n",
        "        # Train Generator weights\n",
        "        discriminator.trainable = False\n",
        "        g_loss_batch = gan_model.train_on_batch(x=z, y=real)\n",
        "\n",
        "        print(\n",
        "            'epoch = %d/%d, batch = %d/%d, d_loss=%.3f, g_loss=%.3f' % (e + 1, epochs, i, len(X_train) // batch_size, d_loss_batch, g_loss_batch[0]),\n",
        "            100*' ',\n",
        "            end='\\r'\n",
        "        )\n",
        "    \n",
        "    d_loss.append(d_loss_batch)\n",
        "    g_loss.append(g_loss_batch[0])\n",
        "    print('epoch = %d/%d, d_loss=%.3f, g_loss=%.3f' % (e + 1, epochs, d_loss[-1], g_loss[-1]), 100*' ')\n",
        "\n",
        "    if e % 3 == 0:\n",
        "      gan_model.save_weights('gan.h5')\n",
        "\n",
        "      img = image.array_to_img(denormalize(X_fake[0]), scale=False)\n",
        "      img.save(os.path.join(save_dir, 'generated' + str(e) + '.png'))\n",
        "\n",
        "      img = image.array_to_img(denormalize(X_batch[0]), scale=False)\n",
        "      img.save(os.path.join(save_dir, 'real' + str(e) + '.png'))\n",
        "       "
      ],
      "execution_count": 22,
      "outputs": [
        {
          "output_type": "stream",
          "text": [
            "epoch = 1/100, d_loss=1.270, g_loss=0.885                                                                                                     \n",
            "epoch = 2/100, d_loss=1.226, g_loss=0.980                                                                                                     \n",
            "epoch = 3/100, d_loss=1.384, g_loss=0.908                                                                                                     \n",
            "epoch = 4/100, d_loss=1.301, g_loss=0.970                                                                                                     \n",
            "epoch = 5/100, d_loss=1.298, g_loss=0.903                                                                                                     \n",
            "epoch = 6/100, d_loss=1.273, g_loss=0.926                                                                                                     \n",
            "epoch = 7/100, d_loss=1.327, g_loss=0.955                                                                                                     \n",
            "epoch = 8/100, d_loss=1.349, g_loss=1.020                                                                                                     \n",
            "epoch = 9/100, d_loss=1.284, g_loss=0.872                                                                                                     \n",
            "epoch = 10/100, d_loss=1.210, g_loss=1.009                                                                                                     \n",
            "epoch = 11/100, d_loss=1.294, g_loss=0.977                                                                                                     \n",
            "epoch = 12/100, d_loss=1.282, g_loss=0.897                                                                                                     \n",
            "epoch = 13/100, d_loss=1.291, g_loss=0.921                                                                                                     \n",
            "epoch = 14/100, d_loss=1.203, g_loss=0.946                                                                                                     \n",
            "epoch = 15/100, d_loss=1.265, g_loss=0.903                                                                                                     \n",
            "epoch = 16/100, d_loss=1.300, g_loss=0.909                                                                                                     \n",
            "epoch = 17/100, d_loss=1.160, g_loss=0.949                                                                                                     \n",
            "epoch = 18/100, d_loss=1.207, g_loss=0.959                                                                                                     \n",
            "epoch = 19/100, d_loss=1.230, g_loss=0.927                                                                                                     \n",
            "epoch = 20/100, d_loss=1.321, g_loss=0.846                                                                                                     \n",
            "epoch = 21/100, d_loss=1.237, g_loss=0.853                                                                                                     \n",
            "epoch = 22/100, d_loss=1.195, g_loss=0.885                                                                                                     \n",
            "epoch = 23/100, d_loss=1.201, g_loss=0.921                                                                                                     \n",
            "epoch = 24/100, d_loss=1.306, g_loss=0.857                                                                                                     \n",
            "epoch = 25/100, d_loss=1.206, g_loss=0.907                                                                                                     \n",
            "epoch = 26/100, d_loss=1.119, g_loss=1.053                                                                                                     \n",
            "epoch = 27/100, d_loss=1.128, g_loss=0.899                                                                                                     \n",
            "epoch = 28/100, d_loss=1.152, g_loss=1.071                                                                                                     \n",
            "epoch = 29/100, d_loss=1.247, g_loss=0.973                                                                                                     \n",
            "epoch = 30/100, d_loss=1.080, g_loss=0.937                                                                                                     \n",
            "epoch = 31/100, d_loss=1.061, g_loss=0.946                                                                                                     \n",
            "epoch = 32/100, d_loss=1.209, g_loss=0.895                                                                                                     \n",
            "epoch = 33/100, d_loss=1.134, g_loss=1.033                                                                                                     \n",
            "epoch = 34/100, d_loss=1.050, g_loss=0.966                                                                                                     \n",
            "epoch = 35/100, d_loss=1.115, g_loss=0.950                                                                                                     \n",
            "epoch = 36/100, d_loss=1.000, g_loss=1.022                                                                                                     \n",
            "epoch = 37/100, d_loss=1.010, g_loss=1.072                                                                                                     \n",
            "epoch = 38/100, d_loss=1.161, g_loss=1.104                                                                                                     \n",
            "epoch = 39/100, d_loss=1.039, g_loss=0.947                                                                                                     \n",
            "epoch = 40/100, d_loss=0.987, g_loss=1.182                                                                                                     \n",
            "epoch = 41/100, d_loss=0.926, g_loss=1.063                                                                                                     \n",
            "epoch = 42/100, d_loss=1.182, g_loss=1.043                                                                                                     \n",
            "epoch = 43/100, d_loss=1.061, g_loss=1.069                                                                                                     \n",
            "epoch = 44/100, d_loss=0.969, g_loss=1.107                                                                                                     \n",
            "epoch = 45/100, d_loss=1.091, g_loss=1.130                                                                                                     \n",
            "epoch = 46/100, d_loss=1.087, g_loss=1.237                                                                                                     \n",
            "epoch = 47/100, d_loss=0.968, g_loss=1.036                                                                                                     \n",
            "epoch = 48/100, d_loss=0.974, g_loss=1.070                                                                                                     \n",
            "epoch = 49/100, d_loss=1.160, g_loss=0.928                                                                                                     \n",
            "epoch = 50/100, d_loss=0.993, g_loss=1.016                                                                                                     \n",
            "epoch = 51/100, d_loss=1.082, g_loss=0.932                                                                                                     \n",
            "epoch = 52/100, d_loss=0.997, g_loss=1.054                                                                                                     \n",
            "epoch = 53/100, d_loss=1.017, g_loss=1.091                                                                                                     \n",
            "epoch = 54/100, d_loss=1.148, g_loss=1.066                                                                                                     \n",
            "epoch = 55/100, d_loss=1.013, g_loss=1.145                                                                                                     \n",
            "epoch = 56/100, d_loss=0.973, g_loss=1.102                                                                                                     \n",
            "epoch = 57/100, d_loss=0.920, g_loss=1.228                                                                                                     \n",
            "epoch = 58/100, d_loss=1.101, g_loss=1.153                                                                                                     \n",
            "epoch = 59/100, d_loss=1.137, g_loss=1.127                                                                                                     \n",
            "epoch = 60/100, d_loss=0.884, g_loss=1.147                                                                                                     \n",
            "epoch = 61/100, d_loss=0.944, g_loss=1.116                                                                                                     \n",
            "epoch = 62/100, d_loss=1.134, g_loss=1.173                                                                                                     \n",
            "epoch = 63/100, d_loss=1.207, g_loss=1.028                                                                                                     \n",
            "epoch = 64/100, d_loss=1.074, g_loss=1.164                                                                                                     \n",
            "epoch = 65/100, d_loss=1.247, g_loss=1.117                                                                                                     \n",
            "epoch = 66/100, d_loss=0.989, g_loss=1.328                                                                                                     \n",
            "epoch = 67/100, d_loss=1.097, g_loss=1.050                                                                                                     \n",
            "epoch = 68/100, d_loss=1.378, g_loss=1.043                                                                                                     \n",
            "epoch = 69/100, d_loss=0.979, g_loss=1.145                                                                                                     \n",
            "epoch = 70/100, d_loss=0.961, g_loss=1.149                                                                                                     \n",
            "epoch = 71/100, d_loss=0.880, g_loss=1.233                                                                                                     \n",
            "epoch = 72/100, d_loss=1.050, g_loss=1.368                                                                                                     \n",
            "epoch = 73/100, d_loss=1.104, g_loss=1.177                                                                                                     \n",
            "epoch = 74/100, d_loss=0.848, g_loss=1.376                                                                                                     \n",
            "epoch = 75/100, d_loss=1.067, g_loss=1.011                                                                                                     \n",
            "epoch = 76/100, d_loss=1.255, g_loss=1.101                                                                                                     \n",
            "epoch = 77/100, d_loss=0.855, g_loss=1.334                                                                                                     \n",
            "epoch = 78/100, d_loss=0.944, g_loss=1.258                                                                                                     \n",
            "epoch = 79/100, d_loss=1.327, g_loss=0.993                                                                                                     \n",
            "epoch = 80/100, d_loss=0.975, g_loss=0.916                                                                                                     \n",
            "epoch = 81/100, d_loss=0.953, g_loss=1.096                                                                                                     \n",
            "epoch = 82/100, d_loss=1.083, g_loss=1.077                                                                                                     \n",
            "epoch = 83/100, d_loss=0.985, g_loss=1.197                                                                                                     \n",
            "epoch = 84/100, d_loss=1.002, g_loss=1.160                                                                                                     \n",
            "epoch = 85/100, d_loss=0.996, g_loss=1.323                                                                                                     \n",
            "epoch = 86/100, d_loss=0.923, g_loss=0.899                                                                                                     \n",
            "epoch = 87/100, d_loss=0.883, g_loss=1.279                                                                                                     \n",
            "epoch = 88/100, d_loss=0.936, g_loss=1.140                                                                                                     \n",
            "epoch = 89/100, d_loss=0.904, g_loss=1.170                                                                                                     \n",
            "epoch = 90/100, d_loss=0.888, g_loss=1.507                                                                                                     \n",
            "epoch = 91/100, d_loss=1.226, g_loss=1.183                                                                                                     \n",
            "epoch = 92/100, d_loss=0.903, g_loss=1.262                                                                                                     \n",
            "epoch = 93/100, d_loss=0.955, g_loss=1.273                                                                                                     \n",
            "epoch = 94/100, d_loss=0.879, g_loss=1.460                                                                                                     \n",
            "epoch = 95/100, d_loss=0.787, g_loss=1.455                                                                                                     \n",
            "epoch = 96/100, d_loss=0.960, g_loss=1.237                                                                                                     \n",
            "epoch = 97/100, d_loss=0.894, g_loss=1.414                                                                                                     \n",
            "epoch = 98/100, d_loss=1.139, g_loss=1.380                                                                                                     \n",
            "epoch = 99/100, d_loss=0.753, g_loss=1.247                                                                                                     \n",
            "epoch = 100/100, d_loss=1.207, g_loss=1.178                                                                                                     \n",
            "epoch = 101/100, d_loss=1.036, g_loss=1.334                                                                                                     \n"
          ],
          "name": "stdout"
        }
      ]
    },
    {
      "cell_type": "code",
      "metadata": {
        "id": "_FMyPM0A3iiV",
        "colab_type": "code",
        "colab": {
          "base_uri": "https://localhost:8080/",
          "height": 35
        },
        "outputId": "4d089211-4f5c-49da-d729-24cc888c7410"
      },
      "source": [
        "from glob import glob\n",
        "import cv2\n",
        "import numpy as np\n",
        "\n",
        "path = '/content/gdrive/My Drive/Colab Notebooks/DCGAN/gan_images'\n",
        "\n",
        "path_list = glob(os.path.join(path, '*.png'))\n",
        "print('path list length :', len(path_list))\n"
      ],
      "execution_count": 29,
      "outputs": [
        {
          "output_type": "stream",
          "text": [
            "path list length : 62\n"
          ],
          "name": "stdout"
        }
      ]
    },
    {
      "cell_type": "code",
      "metadata": {
        "id": "6cJBF-cU36vU",
        "colab_type": "code",
        "colab": {}
      },
      "source": [
        "def show_image(path):\n",
        "\n",
        "    img = path_list[path]\n",
        "    img = cv2.imread(img)\n",
        "\n",
        "    # opencv --> bgr, matplotlib --? rgb\n",
        "\n",
        "    b, g, r = cv2.split(img) # split b, g, r from images\n",
        "    img = cv2.merge([r,g,b])\n",
        "\n",
        "    plt.imshow(img)\n",
        "    plt.show()\n",
        "\n",
        "    return path_list[path]"
      ],
      "execution_count": 0,
      "outputs": []
    },
    {
      "cell_type": "code",
      "metadata": {
        "id": "YwHu7FHH39gB",
        "colab_type": "code",
        "colab": {
          "base_uri": "https://localhost:8080/",
          "height": 1000
        },
        "outputId": "dbf873c9-f58a-4ee4-d8dd-a7e07b95f568"
      },
      "source": [
        "for sample in range(len(path_list)):\n",
        "    if sample % 5 == 0:\n",
        "        print(sample)\n",
        "        show_image(sample)"
      ],
      "execution_count": 32,
      "outputs": [
        {
          "output_type": "stream",
          "text": [
            "0\n"
          ],
          "name": "stdout"
        },
        {
          "output_type": "display_data",
          "data": {
            "image/png": "[encoded data removed]",
            "text/plain": [
              "<Figure size 432x288 with 1 Axes>"
            ]
          },
          "metadata": {
            "tags": [],
            "needs_background": "light"
          }
        },
        {
          "output_type": "stream",
          "text": [
            "5\n"
          ],
          "name": "stdout"
        },
        {
          "output_type": "display_data",
          "data": {
            "image/png": "[encoded data removed]",
            "text/plain": [
              "<Figure size 432x288 with 1 Axes>"
            ]
          },
          "metadata": {
            "tags": [],
            "needs_background": "light"
          }
        },
        {
          "output_type": "stream",
          "text": [
            "10\n"
          ],
          "name": "stdout"
        },
        {
          "output_type": "display_data",
          "data": {
            "image/png": "[encoded data removed]",
            "text/plain": [
              "<Figure size 432x288 with 1 Axes>"
            ]
          },
          "metadata": {
            "tags": [],
            "needs_background": "light"
          }
        },
        {
          "output_type": "stream",
          "text": [
            "15\n"
          ],
          "name": "stdout"
        },
        {
          "output_type": "display_data",
          "data": {
            "image/png": "[encoded data removed]",
            "text/plain": [
              "<Figure size 432x288 with 1 Axes>"
            ]
          },
          "metadata": {
            "tags": [],
            "needs_background": "light"
          }
        },
        {
          "output_type": "stream",
          "text": [
            "20\n"
          ],
          "name": "stdout"
        },
        {
          "output_type": "display_data",
          "data": {
            "image/png": "[encoded data removed]",
            "text/plain": [
              "<Figure size 432x288 with 1 Axes>"
            ]
          },
          "metadata": {
            "tags": [],
            "needs_background": "light"
          }
        },
        {
          "output_type": "stream",
          "text": [
            "25\n"
          ],
          "name": "stdout"
        },
        {
          "output_type": "display_data",
          "data": {
            "image/png": "[encoded data removed]",
            "text/plain": [
              "<Figure size 432x288 with 1 Axes>"
            ]
          },
          "metadata": {
            "tags": [],
            "needs_background": "light"
          }
        },
        {
          "output_type": "stream",
          "text": [
            "30\n"
          ],
          "name": "stdout"
        },
        {
          "output_type": "display_data",
          "data": {
            "image/png": "[encoded data removed]",
            "text/plain": [
              "<Figure size 432x288 with 1 Axes>"
            ]
          },
          "metadata": {
            "tags": [],
            "needs_background": "light"
          }
        },
        {
          "output_type": "stream",
          "text": [
            "35\n"
          ],
          "name": "stdout"
        },
        {
          "output_type": "display_data",
          "data": {
            "image/png": "[encoded data removed]",
            "text/plain": [
              "<Figure size 432x288 with 1 Axes>"
            ]
          },
          "metadata": {
            "tags": [],
            "needs_background": "light"
          }
        },
        {
          "output_type": "stream",
          "text": [
            "40\n"
          ],
          "name": "stdout"
        },
        {
          "output_type": "display_data",
          "data": {
            "image/png": "[encoded data removed]",
            "text/plain": [
              "<Figure size 432x288 with 1 Axes>"
            ]
          },
          "metadata": {
            "tags": [],
            "needs_background": "light"
          }
        },
        {
          "output_type": "stream",
          "text": [
            "45\n"
          ],
          "name": "stdout"
        },
        {
          "output_type": "display_data",
          "data": {
            "image/png": "[encoded data removed]",
            "text/plain": [
              "<Figure size 432x288 with 1 Axes>"
            ]
          },
          "metadata": {
            "tags": [],
            "needs_background": "light"
          }
        },
        {
          "output_type": "stream",
          "text": [
            "50\n"
          ],
          "name": "stdout"
        },
        {
          "output_type": "display_data",
          "data": {
            "image/png": "[encoded data removed]",
            "text/plain": [
              "<Figure size 432x288 with 1 Axes>"
            ]
          },
          "metadata": {
            "tags": [],
            "needs_background": "light"
          }
        },
        {
          "output_type": "stream",
          "text": [
            "55\n"
          ],
          "name": "stdout"
        },
        {
          "output_type": "display_data",
          "data": {
            "image/png": "[encoded data removed]",
            "text/plain": [
              "<Figure size 432x288 with 1 Axes>"
            ]
          },
          "metadata": {
            "tags": [],
            "needs_background": "light"
          }
        },
        {
          "output_type": "stream",
          "text": [
            "60\n"
          ],
          "name": "stdout"
        },
        {
          "output_type": "display_data",
          "data": {
            "image/png": "[encoded data removed]",
            "text/plain": [
              "<Figure size 432x288 with 1 Axes>"
            ]
          },
          "metadata": {
            "tags": [],
            "needs_background": "light"
          }
        }
      ]
    },
    {
      "cell_type": "code",
      "metadata": {
        "id": "-SH0ZeRG44-D",
        "colab_type": "code",
        "colab": {}
      },
      "source": [
        ""
      ],
      "execution_count": 0,
      "outputs": []
    }
  ]
}