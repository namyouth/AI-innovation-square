{
  "nbformat": 4,
  "nbformat_minor": 0,
  "metadata": {
    "colab": {
      "name": "4-3_VGG4smalldataset_with_prediction.ipynb",
      "provenance": []
    },
    "kernelspec": {
      "name": "python3",
      "display_name": "Python 3"
    }
  },
  "cells": [
    {
      "cell_type": "code",
      "metadata": {
        "id": "9LDPqc028t2T",
        "colab_type": "code",
        "outputId": "8f57f3b5-b7fd-4379-b1d5-e0027b61bd0f",
        "colab": {
          "base_uri": "https://localhost:8080/",
          "height": 35
        }
      },
      "source": [
        "# 구글 드라이브와 연동하는방법\n",
        "# Google File Driver Stream 접근을 허용해야 한다\n",
        "from google.colab import auth\n",
        "auth.authenticate_user()\n",
        "\n",
        "# 구글 드라이브 mount\n",
        "from google.colab import drive\n",
        "drive.mount('/content/gdrive')"
      ],
      "execution_count": 4,
      "outputs": [
        {
          "output_type": "stream",
          "text": [
            "Drive already mounted at /content/gdrive; to attempt to forcibly remount, call drive.mount(\"/content/gdrive\", force_remount=True).\n"
          ],
          "name": "stdout"
        }
      ]
    },
    {
      "cell_type": "code",
      "metadata": {
        "id": "KqpzvEb89FoO",
        "colab_type": "code",
        "outputId": "cfb679d8-bdd1-4014-8e5e-9d490fd68751",
        "colab": {
          "base_uri": "https://localhost:8080/",
          "height": 53
        }
      },
      "source": [
        "# 1. 홈 디렉토리에 datasets 폴더 생성 후, 그 안에 cats_and_dogs_small 폴더를 생성 합니다.\n",
        "# 2. cats_and_dogs_small 안에 train, test, validation 폴더가 위치 하도록 압축을 풉니다.\n",
        "cd gdrive/My Drive/datasets/cats_and_dogs_small"
      ],
      "execution_count": 5,
      "outputs": [
        {
          "output_type": "stream",
          "text": [
            "[Errno 2] No such file or directory: 'gdrive/My Drive/datasets/cats_and_dogs_small'\n",
            "/content/gdrive/My Drive/datasets/cats_and_dogs_small\n"
          ],
          "name": "stdout"
        }
      ]
    },
    {
      "cell_type": "code",
      "metadata": {
        "id": "PjAk_0dk9x5B",
        "colab_type": "code",
        "outputId": "fafccab1-ba24-43ba-dfdd-3e4425946c4f",
        "colab": {
          "base_uri": "https://localhost:8080/",
          "height": 53
        }
      },
      "source": [
        "import os\n",
        "import numpy as np\n",
        "from keras.preprocessing.image import ImageDataGenerator\n",
        "\n",
        "# 모든 이미지를 1/255로 스케일을 조정한다\n",
        "train_datagen = ImageDataGenerator(rescale = 1./255, \n",
        "                                   shear_range = 0.2, \n",
        "                                   zoom_range = 0.2, \n",
        "                                   horizontal_flip = True)\n",
        "\n",
        "test_datagen = ImageDataGenerator(rescale=1./255)\n",
        "\n",
        "base_dir = '/content/gdrive/My Drive/datasets/cats_and_dogs_small'\n",
        "\n",
        "train_dir = os.path.join(base_dir,'train')\n",
        "validation_dir = os.path.join(base_dir, 'validation')\n",
        "test_dir = os.path.join(base_dir, 'test')\n",
        "\n",
        "train_generator = train_datagen.flow_from_directory(\n",
        "    # 타겟 디렉터리\n",
        "    train_dir,\n",
        "    # 모든 이미지를 224 X 224 크기로 바꾼다.\n",
        "    target_size = (224,224),\n",
        "    batch_size = 20,\n",
        "    # binary_crossentropy 손실을 사용하기 때문에 이진 레이블이 필요하다\n",
        "    class_mode = 'binary')\n",
        "\n",
        "validation_generator = test_datagen.flow_from_directory(\n",
        "    validation_dir,\n",
        "    target_size=(224,224),\n",
        "    batch_size=20,\n",
        "    class_mode = 'binary')\n"
      ],
      "execution_count": 6,
      "outputs": [
        {
          "output_type": "stream",
          "text": [
            "Found 0 images belonging to 2 classes.\n",
            "Found 0 images belonging to 0 classes.\n"
          ],
          "name": "stdout"
        }
      ]
    },
    {
      "cell_type": "code",
      "metadata": {
        "id": "5WVNK5XCAlJV",
        "colab_type": "code",
        "colab": {}
      },
      "source": [
        ""
      ],
      "execution_count": 0,
      "outputs": []
    }
  ]
}