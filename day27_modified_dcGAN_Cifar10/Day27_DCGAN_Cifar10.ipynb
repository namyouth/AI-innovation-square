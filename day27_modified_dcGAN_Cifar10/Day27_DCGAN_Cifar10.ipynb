{
  "nbformat": 4,
  "nbformat_minor": 0,
  "metadata": {
    "kernelspec": {
      "name": "python3",
      "display_name": "Python 3"
    },
    "language_info": {
      "pygments_lexer": "ipython3",
      "nbconvert_exporter": "python",
      "version": "3.6.4",
      "file_extension": ".py",
      "codemirror_mode": {
        "name": "ipython",
        "version": 3
      },
      "name": "python",
      "mimetype": "text/x-python"
    },
    "colab": {
      "name": "Day27_DCGAN_Cifar10.ipynb",
      "provenance": [],
      "collapsed_sections": []
    },
    "accelerator": "GPU"
  },
  "cells": [
    {
      "cell_type": "markdown",
      "metadata": {
        "id": "VOa4pIJ9l5O4",
        "colab_type": "text"
      },
      "source": [
        "# Day27 과제\n",
        "논문의 Guidline에 따라서 코드 수정\n",
        "- Generator 부분에서 LeakyRelu -> 'Relu' 로 변경\n",
        "- Discriminator 부분에서 padding='same'\n",
        "- Discriminator 부분에서 Flatten -> 'Global Average Pooling'으로 변경 (결과적으로 parameter수가 줄어든다.)\n",
        "- discriminator.compile 부분에서 Adam의 lr='0.0002'로 변경\n",
        "- gan_model.compile 부분에서 Adam의 lr은 논문마다 다르다.\n",
        "  (같게  해줘도 무관.) 그러므로 discriminator.compile과 동일하게 해주자.\n",
        "\n",
        "- Discriminator loss 에서\n",
        "d_loss_batch = (d_loss_real[0] + d_loss_fake[0])\n",
        "\n",
        "\n"
      ]
    },
    {
      "cell_type": "code",
      "metadata": {
        "_uuid": "8f2839f25d086af736a60e9eeb907d3b93b6e0e5",
        "_cell_guid": "b1076dfc-b9ad-4769-8c92-a6c4dae69d19",
        "trusted": true,
        "id": "KS9yk1hiZJcJ",
        "colab_type": "code",
        "outputId": "dcc3c4fe-53f3-42c8-e80e-3bfba85e14b3",
        "colab": {
          "base_uri": "https://localhost:8080/",
          "height": 127
        }
      },
      "source": [
        "# 구글 드라이브와 연동하는 방법 입니다. \n",
        "# Google File Drive Stream 접근을 허용해야 합니다.\n",
        "from google.colab import auth\n",
        "auth.authenticate_user()\n",
        "\n",
        "# 구글 드라이브 mount \n",
        "from google.colab import drive\n",
        "drive.mount('/content/gdrive')"
      ],
      "execution_count": 0,
      "outputs": [
        {
          "output_type": "stream",
          "text": [
            "Go to this URL in a browser: https://accounts.google.com/o/oauth2/auth?client_id=947318989803-6bn6qk8qdgf4n4g3pfee6491hc0brc4i.apps.googleusercontent.com&redirect_uri=urn%3aietf%3awg%3aoauth%3a2.0%3aoob&response_type=code&scope=email%20https%3a%2f%2fwww.googleapis.com%2fauth%2fdocs.test%20https%3a%2f%2fwww.googleapis.com%2fauth%2fdrive%20https%3a%2f%2fwww.googleapis.com%2fauth%2fdrive.photos.readonly%20https%3a%2f%2fwww.googleapis.com%2fauth%2fpeopleapi.readonly\n",
            "\n",
            "Enter your authorization code:\n",
            "··········\n",
            "Mounted at /content/gdrive\n"
          ],
          "name": "stdout"
        }
      ]
    },
    {
      "cell_type": "code",
      "metadata": {
        "id": "6d6rH6d1ZsOR",
        "colab_type": "code",
        "outputId": "9ad516c9-e37c-4f3a-e157-2745fadea048",
        "colab": {
          "base_uri": "https://localhost:8080/",
          "height": 35
        }
      },
      "source": [
        "cd gdrive/My Drive/datasets/DCGAN"
      ],
      "execution_count": 0,
      "outputs": [
        {
          "output_type": "stream",
          "text": [
            "/content/gdrive/My Drive/datasets/DCGAN\n"
          ],
          "name": "stdout"
        }
      ]
    },
    {
      "cell_type": "code",
      "metadata": {
        "_uuid": "d629ff2d2480ee46fbb7e2d37f6b5fab8052498a",
        "_cell_guid": "79c7e3d0-c299-4dcb-8224-4455121ee9b0",
        "trusted": true,
        "id": "KafrAqB2ZJcO",
        "colab_type": "code",
        "colab": {}
      },
      "source": [
        "from keras.layers import Input, Dense, Reshape, Flatten, Dropout\n",
        "from keras.layers import BatchNormalization, Activation, ZeroPadding2D, GlobalAveragePooling2D\n",
        "from keras.layers.advanced_activations import LeakyReLU, ReLU\n",
        "from keras.layers.convolutional import UpSampling2D, Conv2D, Conv2DTranspose\n",
        "from keras.models import Sequential, Model\n",
        "from keras.optimizers import Adam,SGD\n",
        "from keras import initializers\n",
        "import os\n",
        "import keras\n",
        "from keras import layers\n",
        "import matplotlib.pyplot as plt\n",
        "import sys\n",
        "import numpy as np\n",
        "from keras.preprocessing import image"
      ],
      "execution_count": 0,
      "outputs": []
    },
    {
      "cell_type": "code",
      "metadata": {
        "trusted": true,
        "id": "XHhmOD72ZJcU",
        "colab_type": "code",
        "outputId": "1b6daa3a-db47-4c99-ddc0-88c51064f484",
        "colab": {
          "base_uri": "https://localhost:8080/",
          "height": 53
        }
      },
      "source": [
        "(X_train, y_train), (_, _) = keras.datasets.cifar10.load_data()\n",
        "X_train = X_train[y_train.flatten() == 2]"
      ],
      "execution_count": 0,
      "outputs": [
        {
          "output_type": "stream",
          "text": [
            "Downloading data from https://www.cs.toronto.edu/~kriz/cifar-10-python.tar.gz\n",
            "170500096/170498071 [==============================] - 11s 0us/step\n"
          ],
          "name": "stdout"
        }
      ]
    },
    {
      "cell_type": "code",
      "metadata": {
        "id": "9T7t4X8hdUvk",
        "colab_type": "code",
        "colab": {}
      },
      "source": [
        "# figure를 plt로 visualize\n",
        "def visualize_rgb(img):\n",
        "    \"\"\"\n",
        "    Visualize a rgb image\n",
        "    :param img: RGB image\n",
        "    \"\"\"\n",
        "    fig = plt.figure()\n",
        "    ax = fig.add_subplot(1, 1, 1)\n",
        "    ax.imshow(img)\n",
        "    ax.axis(\"off\")\n",
        "    ax.set_title(\"Image\")\n",
        "    plt.show()"
      ],
      "execution_count": 0,
      "outputs": []
    },
    {
      "cell_type": "code",
      "metadata": {
        "id": "qRu1W1uidWjg",
        "colab_type": "code",
        "outputId": "390a778c-2101-408b-f7fa-1392c7f60dae",
        "colab": {
          "base_uri": "https://localhost:8080/",
          "height": 264
        }
      },
      "source": [
        "visualize_rgb(X_train[0])"
      ],
      "execution_count": 0,
      "outputs": [
        {
          "output_type": "display_data",
          "data": {
            "image/png": "[encoded data removed]",
            "text/plain": [
              "<Figure size 432x288 with 1 Axes>"
            ]
          },
          "metadata": {
            "tags": []
          }
        }
      ]
    },
    {
      "cell_type": "code",
      "metadata": {
        "trusted": true,
        "id": "2H6usnXXZJcX",
        "colab_type": "code",
        "colab": {}
      },
      "source": [
        "# Input shape\n",
        "img_rows = 32\n",
        "img_cols = 32\n",
        "channels = 3\n",
        "        \n",
        "img_shape = (img_rows, img_cols, channels)        \n",
        "latent_dim = 100  "
      ],
      "execution_count": 0,
      "outputs": []
    },
    {
      "cell_type": "code",
      "metadata": {
        "trusted": true,
        "id": "1UOwnAAsZJcZ",
        "colab_type": "code",
        "outputId": "b9544111-0e18-4fbc-9a00-cc5d8fe1ea6a",
        "colab": {
          "base_uri": "https://localhost:8080/",
          "height": 53
        }
      },
      "source": [
        "# latent space dimension\n",
        "latent_dim = 100\n",
        "\n",
        "init = initializers.RandomNormal(stddev=0.02)\n",
        "\n",
        "# Generator network\n",
        "generator = Sequential()\n",
        "\n",
        "# FC: 2x2x512\n",
        "generator.add(Dense(2*2*512, input_shape=(latent_dim,), kernel_initializer=init))\n",
        "generator.add(Reshape((2, 2, 512)))\n",
        "generator.add(BatchNormalization())\n",
        "generator.add(ReLU(0.2)) # G 이므로 relu로 변경\n",
        "\n",
        "# # Conv 1: 4x4x256\n",
        "generator.add(Conv2DTranspose(256, kernel_size=5, strides=2, padding='same'))\n",
        "generator.add(BatchNormalization())\n",
        "generator.add(ReLU(0.2))\n",
        "\n",
        "# Conv 2: 8x8x128\n",
        "generator.add(Conv2DTranspose(128, kernel_size=5, strides=2, padding='same'))\n",
        "generator.add(BatchNormalization())\n",
        "generator.add(ReLU(0.2))\n",
        "\n",
        "# Conv 3: 16x16x64\n",
        "generator.add(Conv2DTranspose(64, kernel_size=5, strides=2, padding='same'))\n",
        "generator.add(BatchNormalization())\n",
        "generator.add(ReLU(0.2))\n",
        "\n",
        "# Conv 4: 32x32x3\n",
        "generator.add(Conv2DTranspose(3, kernel_size=5, strides=2, padding='same',\n",
        "                              activation='tanh'))"
      ],
      "execution_count": 0,
      "outputs": [
        {
          "output_type": "stream",
          "text": [
            "WARNING:tensorflow:From /usr/local/lib/python3.6/dist-packages/keras/backend/tensorflow_backend.py:4432: The name tf.random_uniform is deprecated. Please use tf.random.uniform instead.\n",
            "\n"
          ],
          "name": "stdout"
        }
      ]
    },
    {
      "cell_type": "code",
      "metadata": {
        "id": "tllUPN5cn7rZ",
        "colab_type": "code",
        "outputId": "fc9f2518-61d1-4707-ff75-e85140dcdac3",
        "colab": {
          "base_uri": "https://localhost:8080/",
          "height": 665
        }
      },
      "source": [
        "generator.summary()"
      ],
      "execution_count": 0,
      "outputs": [
        {
          "output_type": "stream",
          "text": [
            "Model: \"sequential_3\"\n",
            "_________________________________________________________________\n",
            "Layer (type)                 Output Shape              Param #   \n",
            "=================================================================\n",
            "dense_3 (Dense)              (None, 2048)              206848    \n",
            "_________________________________________________________________\n",
            "reshape_3 (Reshape)          (None, 2, 2, 512)         0         \n",
            "_________________________________________________________________\n",
            "batch_normalization_3 (Batch (None, 2, 2, 512)         2048      \n",
            "_________________________________________________________________\n",
            "re_lu_1 (ReLU)               (None, 2, 2, 512)         0         \n",
            "_________________________________________________________________\n",
            "conv2d_transpose_1 (Conv2DTr (None, 4, 4, 256)         3277056   \n",
            "_________________________________________________________________\n",
            "batch_normalization_4 (Batch (None, 4, 4, 256)         1024      \n",
            "_________________________________________________________________\n",
            "re_lu_2 (ReLU)               (None, 4, 4, 256)         0         \n",
            "_________________________________________________________________\n",
            "conv2d_transpose_2 (Conv2DTr (None, 8, 8, 128)         819328    \n",
            "_________________________________________________________________\n",
            "batch_normalization_5 (Batch (None, 8, 8, 128)         512       \n",
            "_________________________________________________________________\n",
            "re_lu_3 (ReLU)               (None, 8, 8, 128)         0         \n",
            "_________________________________________________________________\n",
            "conv2d_transpose_3 (Conv2DTr (None, 16, 16, 64)        204864    \n",
            "_________________________________________________________________\n",
            "batch_normalization_6 (Batch (None, 16, 16, 64)        256       \n",
            "_________________________________________________________________\n",
            "re_lu_4 (ReLU)               (None, 16, 16, 64)        0         \n",
            "_________________________________________________________________\n",
            "conv2d_transpose_4 (Conv2DTr (None, 32, 32, 3)         4803      \n",
            "=================================================================\n",
            "Total params: 4,516,739\n",
            "Trainable params: 4,514,819\n",
            "Non-trainable params: 1,920\n",
            "_________________________________________________________________\n"
          ],
          "name": "stdout"
        }
      ]
    },
    {
      "cell_type": "code",
      "metadata": {
        "trusted": true,
        "id": "crqr73bhZJcc",
        "colab_type": "code",
        "colab": {}
      },
      "source": [
        "# imagem shape 32x32x3\n",
        "img_shape = X_train[0].shape\n",
        "\n",
        "# Discriminator network\n",
        "discriminator = Sequential()\n",
        "\n",
        "# Conv 1: 16x16x64\n",
        "discriminator.add(Conv2D(64, kernel_size=5, strides=2, padding='same',\n",
        "                         input_shape=(img_shape), kernel_initializer=init))\n",
        "discriminator.add(LeakyReLU(0.2))\n",
        "\n",
        "# Conv 2:\n",
        "discriminator.add(Conv2D(128, kernel_size=5, strides=2, padding='same'))\n",
        "discriminator.add(BatchNormalization())\n",
        "discriminator.add(LeakyReLU(0.2))\n",
        "\n",
        "# Conv 3: \n",
        "discriminator.add(Conv2D(256, kernel_size=5, strides=2, padding='same'))\n",
        "discriminator.add(BatchNormalization())\n",
        "discriminator.add(LeakyReLU(0.2))\n",
        "\n",
        "# Conv 3: \n",
        "discriminator.add(Conv2D(512, kernel_size=5, strides=2, padding='same'))\n",
        "discriminator.add(BatchNormalization())\n",
        "discriminator.add(LeakyReLU(0.2))\n",
        "\n",
        "# FC (X), Global Average Pooling (O)\n",
        "# discriminator.add(Flatten())\n",
        "discriminator.add(GlobalAveragePooling2D())\n",
        "\n",
        "# Output\n",
        "discriminator.add(Dense(1, activation='sigmoid'))"
      ],
      "execution_count": 0,
      "outputs": []
    },
    {
      "cell_type": "code",
      "metadata": {
        "id": "lZB1l_AZn_l7",
        "colab_type": "code",
        "outputId": "b49bb438-ac5e-4953-c57e-622bc6e288bf",
        "colab": {
          "base_uri": "https://localhost:8080/",
          "height": 629
        }
      },
      "source": [
        "discriminator.summary()"
      ],
      "execution_count": 0,
      "outputs": [
        {
          "output_type": "stream",
          "text": [
            "Model: \"sequential_7\"\n",
            "_________________________________________________________________\n",
            "Layer (type)                 Output Shape              Param #   \n",
            "=================================================================\n",
            "conv2d_13 (Conv2D)           (None, 16, 16, 64)        4864      \n",
            "_________________________________________________________________\n",
            "leaky_re_lu_13 (LeakyReLU)   (None, 16, 16, 64)        0         \n",
            "_________________________________________________________________\n",
            "conv2d_14 (Conv2D)           (None, 8, 8, 128)         204928    \n",
            "_________________________________________________________________\n",
            "batch_normalization_16 (Batc (None, 8, 8, 128)         512       \n",
            "_________________________________________________________________\n",
            "leaky_re_lu_14 (LeakyReLU)   (None, 8, 8, 128)         0         \n",
            "_________________________________________________________________\n",
            "conv2d_15 (Conv2D)           (None, 4, 4, 256)         819456    \n",
            "_________________________________________________________________\n",
            "batch_normalization_17 (Batc (None, 4, 4, 256)         1024      \n",
            "_________________________________________________________________\n",
            "leaky_re_lu_15 (LeakyReLU)   (None, 4, 4, 256)         0         \n",
            "_________________________________________________________________\n",
            "conv2d_16 (Conv2D)           (None, 2, 2, 512)         3277312   \n",
            "_________________________________________________________________\n",
            "batch_normalization_18 (Batc (None, 2, 2, 512)         2048      \n",
            "_________________________________________________________________\n",
            "leaky_re_lu_16 (LeakyReLU)   (None, 2, 2, 512)         0         \n",
            "_________________________________________________________________\n",
            "global_average_pooling2d_3 ( (None, 512)               0         \n",
            "_________________________________________________________________\n",
            "dense_4 (Dense)              (None, 1)                 513       \n",
            "=================================================================\n",
            "Total params: 4,310,657\n",
            "Trainable params: 4,308,865\n",
            "Non-trainable params: 1,792\n",
            "_________________________________________________________________\n"
          ],
          "name": "stdout"
        }
      ]
    },
    {
      "cell_type": "code",
      "metadata": {
        "trusted": true,
        "id": "Ue8qQ637ZJcf",
        "colab_type": "code",
        "outputId": "c882e465-2068-4e53-efdb-a4376c989682",
        "colab": {
          "base_uri": "https://localhost:8080/",
          "height": 143
        }
      },
      "source": [
        "# Optimizer\n",
        "discriminator.compile(Adam(lr=0.0002, beta_1=0.5), loss='binary_crossentropy',\n",
        "                      metrics=['binary_accuracy'])"
      ],
      "execution_count": 0,
      "outputs": [
        {
          "output_type": "stream",
          "text": [
            "WARNING:tensorflow:From /usr/local/lib/python3.6/dist-packages/keras/optimizers.py:793: The name tf.train.Optimizer is deprecated. Please use tf.compat.v1.train.Optimizer instead.\n",
            "\n",
            "WARNING:tensorflow:From /usr/local/lib/python3.6/dist-packages/keras/backend/tensorflow_backend.py:3657: The name tf.log is deprecated. Please use tf.math.log instead.\n",
            "\n",
            "WARNING:tensorflow:From /tensorflow-1.15.0/python3.6/tensorflow_core/python/ops/nn_impl.py:183: where (from tensorflow.python.ops.array_ops) is deprecated and will be removed in a future version.\n",
            "Instructions for updating:\n",
            "Use tf.where in 2.0, which has the same broadcast rule as np.where\n"
          ],
          "name": "stdout"
        }
      ]
    },
    {
      "cell_type": "code",
      "metadata": {
        "trusted": true,
        "id": "SHZxK8pVZJch",
        "colab_type": "code",
        "colab": {}
      },
      "source": [
        "# d_g = discriminador(generador(z))\n",
        "discriminator.trainable = False\n",
        "\n",
        "z = Input(shape=(latent_dim,))\n",
        "img = generator(z)\n",
        "decision = discriminator(img)\n",
        "gan_model = Model(inputs=z, outputs=decision)\n",
        "\n",
        "gan_model.compile(Adam(lr=0.0002, beta_1=0.5), loss='binary_crossentropy',\n",
        "            metrics=['binary_accuracy'])"
      ],
      "execution_count": 0,
      "outputs": []
    },
    {
      "cell_type": "code",
      "metadata": {
        "id": "PZ9BgpuEby-E",
        "colab_type": "code",
        "colab": {}
      },
      "source": [
        "def normalize(img):\n",
        "    return (img - 127.5) / 127.5"
      ],
      "execution_count": 0,
      "outputs": []
    },
    {
      "cell_type": "code",
      "metadata": {
        "id": "Dyp3cIV6cYEn",
        "colab_type": "code",
        "colab": {}
      },
      "source": [
        "def denormalize(img):\n",
        "    img = (img * 127.5) + 127.5\n",
        "    return img.astype(np.uint8)"
      ],
      "execution_count": 0,
      "outputs": []
    },
    {
      "cell_type": "code",
      "metadata": {
        "id": "PSvUjcAmbrfl",
        "colab_type": "code",
        "outputId": "5d1cad29-f949-40ad-b70c-24fb76fdc869",
        "colab": {
          "base_uri": "https://localhost:8080/",
          "height": 35
        }
      },
      "source": [
        "print(X_train.shape)"
      ],
      "execution_count": 0,
      "outputs": [
        {
          "output_type": "stream",
          "text": [
            "(5000, 32, 32, 3)\n"
          ],
          "name": "stdout"
        }
      ]
    },
    {
      "cell_type": "code",
      "metadata": {
        "trusted": true,
        "id": "TAj-x29hZJcj",
        "colab_type": "code",
        "colab": {}
      },
      "source": [
        "# 데이터를 정규화합니다\n",
        "X_train = normalize(X_train)\n",
        "\n",
        "iterations = 5000\n",
        "batch_size = 20\n",
        "save_dir = os.path.join(\"./\", 'gan_images')\n",
        "if not os.path.exists(save_dir):\n",
        "    os.mkdir(save_dir)"
      ],
      "execution_count": 0,
      "outputs": []
    },
    {
      "cell_type": "code",
      "metadata": {
        "id": "cGvri1v1wY3R",
        "colab_type": "code",
        "outputId": "fe8d0179-fed3-43ef-ccbf-ca2edc71295b",
        "colab": {
          "base_uri": "https://localhost:8080/",
          "height": 1000
        }
      },
      "source": [
        "epochs = 100\n",
        "batch_size = 32\n",
        "smooth = 0.1\n",
        "\n",
        "real = np.ones(shape=(batch_size, 1))\n",
        "fake = np.zeros(shape=(batch_size, 1))\n",
        "\n",
        "d_loss = []\n",
        "g_loss = []\n",
        "\n",
        "for e in range(epochs + 1):\n",
        "    for i in range(len(X_train) // batch_size):\n",
        "        \n",
        "        # Train Discriminator weights\n",
        "        discriminator.trainable = True\n",
        "        \n",
        "        # Real samples\n",
        "        X_batch = X_train[i*batch_size:(i+1)*batch_size]\n",
        "        d_loss_real = discriminator.train_on_batch(x=X_batch,\n",
        "                                                   y=real * (1 - smooth))\n",
        "        \n",
        "        # Fake Samples\n",
        "        z = np.random.normal(loc=0, scale=1, size=(batch_size, latent_dim))\n",
        "        X_fake = generator.predict_on_batch(z)\n",
        "        d_loss_fake = discriminator.train_on_batch(x=X_fake, y=fake)\n",
        "         \n",
        "        # Discriminator loss\n",
        "        d_loss_batch = (d_loss_real[0] + d_loss_fake[0])\n",
        "        \n",
        "        # Train Generator weights\n",
        "        discriminator.trainable = False\n",
        "        g_loss_batch = gan_model.train_on_batch(x=z, y=real)\n",
        "\n",
        "        print(\n",
        "            'epoch = %d/%d, batch = %d/%d, d_loss=%.3f, g_loss=%.3f' % (e + 1, epochs, i, len(X_train) // batch_size, d_loss_batch, g_loss_batch[0]),\n",
        "            100*' ',\n",
        "            end='\\r'\n",
        "        )\n",
        "    \n",
        "    d_loss.append(d_loss_batch)\n",
        "    g_loss.append(g_loss_batch[0])\n",
        "    print('epoch = %d/%d, d_loss=%.3f, g_loss=%.3f' % (e + 1, epochs, d_loss[-1], g_loss[-1]), 100*' ')\n",
        "\n",
        "    if e % 3 == 0:\n",
        "      # 모델 가중치를 저장합니다\n",
        "      gan_model.save_weights('gan.h5')\n",
        "\n",
        "      # 생성된 이미지 하나를 저장합니다\n",
        "      img = image.array_to_img(denormalize(X_fake[0]), scale=False)\n",
        "      img.save(os.path.join(save_dir, 'generated' + str(e) + '.png'))\n",
        "      # 비교를 위해 진짜 이미지 하나를 저장합니다\n",
        "      img = image.array_to_img(denormalize(X_batch[0]), scale=False)\n",
        "      img.save(os.path.join(save_dir, 'real' + str(e) + '.png'))\n",
        "       "
      ],
      "execution_count": 0,
      "outputs": [
        {
          "output_type": "stream",
          "text": [
            "WARNING:tensorflow:From /usr/local/lib/python3.6/dist-packages/keras/backend/tensorflow_backend.py:1033: The name tf.assign_add is deprecated. Please use tf.compat.v1.assign_add instead.\n",
            "\n",
            "WARNING:tensorflow:From /usr/local/lib/python3.6/dist-packages/keras/backend/tensorflow_backend.py:1020: The name tf.assign is deprecated. Please use tf.compat.v1.assign instead.\n",
            "\n",
            "epoch = 1/100, d_loss=0.378, g_loss=3.096                                                                                                     \n",
            "epoch = 2/100, d_loss=0.349, g_loss=3.802                                                                                                     \n",
            "epoch = 3/100, d_loss=0.346, g_loss=3.982                                                                                                     \n",
            "epoch = 4/100, d_loss=0.337, g_loss=4.465                                                                                                     \n",
            "epoch = 5/100, d_loss=0.334, g_loss=4.770                                                                                                     \n",
            "epoch = 6/100, d_loss=0.333, g_loss=4.993                                                                                                     \n",
            "epoch = 7/100, d_loss=0.331, g_loss=5.324                                                                                                     \n",
            "epoch = 8/100, d_loss=0.400, g_loss=2.596                                                                                                     \n",
            "epoch = 9/100, d_loss=0.352, g_loss=4.432                                                                                                     \n",
            "epoch = 10/100, d_loss=0.341, g_loss=5.218                                                                                                     \n",
            "epoch = 11/100, d_loss=0.356, g_loss=5.275                                                                                                     \n",
            "epoch = 12/100, d_loss=0.333, g_loss=5.382                                                                                                     \n",
            "epoch = 13/100, d_loss=0.333, g_loss=5.755                                                                                                     \n",
            "epoch = 14/100, d_loss=0.336, g_loss=5.883                                                                                                     \n",
            "epoch = 15/100, d_loss=0.334, g_loss=6.020                                                                                                     \n",
            "epoch = 16/100, d_loss=0.331, g_loss=6.120                                                                                                     \n",
            "epoch = 17/100, d_loss=0.339, g_loss=4.028                                                                                                     \n",
            "epoch = 18/100, d_loss=0.334, g_loss=5.552                                                                                                     \n",
            "epoch = 19/100, d_loss=0.328, g_loss=6.281                                                                                                     \n",
            "epoch = 20/100, d_loss=0.327, g_loss=6.514                                                                                                     \n",
            "epoch = 21/100, d_loss=0.327, g_loss=6.682                                                                                                     \n",
            "epoch = 22/100, d_loss=0.327, g_loss=6.783                                                                                                     \n",
            "epoch = 23/100, d_loss=0.327, g_loss=6.896                                                                                                     \n",
            "epoch = 24/100, d_loss=0.327, g_loss=6.993                                                                                                     \n",
            "epoch = 25/100, d_loss=0.326, g_loss=7.037                                                                                                     \n",
            "epoch = 26/100, d_loss=0.327, g_loss=7.199                                                                                                     \n",
            "epoch = 27/100, d_loss=0.372, g_loss=5.993                                                                                                     \n",
            "epoch = 28/100, d_loss=0.326, g_loss=6.946                                                                                                     \n",
            "epoch = 29/100, d_loss=0.326, g_loss=7.247                                                                                                     \n",
            "epoch = 30/100, d_loss=0.326, g_loss=7.480                                                                                                     \n",
            "epoch = 31/100, d_loss=0.326, g_loss=7.615                                                                                                     \n",
            "epoch = 32/100, d_loss=0.326, g_loss=7.658                                                                                                     \n",
            "epoch = 33/100, d_loss=0.326, g_loss=7.744                                                                                                     \n",
            "epoch = 34/100, d_loss=0.326, g_loss=7.828                                                                                                     \n",
            "epoch = 35/100, d_loss=0.334, g_loss=6.973                                                                                                     \n",
            "epoch = 36/100, d_loss=0.326, g_loss=7.346                                                                                                     \n",
            "epoch = 37/100, d_loss=0.326, g_loss=7.631                                                                                                     \n",
            "epoch = 38/100, d_loss=0.326, g_loss=7.860                                                                                                     \n",
            "epoch = 39/100, d_loss=0.327, g_loss=7.994                                                                                                     \n",
            "epoch = 40/100, d_loss=0.326, g_loss=8.103                                                                                                     \n",
            "epoch = 41/100, d_loss=0.326, g_loss=8.179                                                                                                     \n",
            "epoch = 42/100, d_loss=0.329, g_loss=5.659                                                                                                     \n",
            "epoch = 43/100, d_loss=0.326, g_loss=7.204                                                                                                     \n",
            "epoch = 44/100, d_loss=0.326, g_loss=7.687                                                                                                     \n",
            "epoch = 45/100, d_loss=0.326, g_loss=7.904                                                                                                     \n",
            "epoch = 46/100, d_loss=0.326, g_loss=8.070                                                                                                     \n",
            "epoch = 47/100, d_loss=0.326, g_loss=8.203                                                                                                     \n",
            "epoch = 48/100, d_loss=0.325, g_loss=8.319                                                                                                     \n",
            "epoch = 49/100, d_loss=0.325, g_loss=8.392                                                                                                     \n",
            "epoch = 50/100, d_loss=0.325, g_loss=8.474                                                                                                     \n",
            "epoch = 51/100, d_loss=0.326, g_loss=8.524                                                                                                     \n",
            "epoch = 52/100, d_loss=0.325, g_loss=8.595                                                                                                     \n",
            "epoch = 53/100, d_loss=0.326, g_loss=8.651                                                                                                     \n",
            "epoch = 54/100, d_loss=0.331, g_loss=7.868                                                                                                     \n",
            "epoch = 55/100, d_loss=0.326, g_loss=8.095                                                                                                     \n",
            "epoch = 56/100, d_loss=0.325, g_loss=8.281                                                                                                     \n",
            "epoch = 57/100, d_loss=0.326, g_loss=8.454                                                                                                     \n",
            "epoch = 58/100, d_loss=0.326, g_loss=8.610                                                                                                     \n",
            "epoch = 59/100, d_loss=0.325, g_loss=8.748                                                                                                     \n",
            "epoch = 60/100, d_loss=0.325, g_loss=8.771                                                                                                     \n",
            "epoch = 61/100, d_loss=0.326, g_loss=8.899                                                                                                     \n",
            "epoch = 62/100, d_loss=0.325, g_loss=8.950                                                                                                     \n",
            "epoch = 63/100, d_loss=0.325, g_loss=8.972                                                                                                     \n",
            "epoch = 64/100, d_loss=0.326, g_loss=8.375                                                                                                     \n",
            "epoch = 65/100, d_loss=0.325, g_loss=8.566                                                                                                     \n",
            "epoch = 66/100, d_loss=0.325, g_loss=8.713                                                                                                     \n",
            "epoch = 67/100, d_loss=0.325, g_loss=8.855                                                                                                     \n",
            "epoch = 68/100, d_loss=0.326, g_loss=8.974                                                                                                     \n",
            "epoch = 69/100, d_loss=0.325, g_loss=9.069                                                                                                     \n",
            "epoch = 70/100, d_loss=0.326, g_loss=9.143                                                                                                     \n",
            "epoch = 71/100, d_loss=0.326, g_loss=8.233                                                                                                     \n",
            "epoch = 72/100, d_loss=0.325, g_loss=8.786                                                                                                     \n",
            "epoch = 73/100, d_loss=0.325, g_loss=8.983                                                                                                     \n",
            "epoch = 74/100, d_loss=0.325, g_loss=8.869                                                                                                     \n",
            "epoch = 75/100, d_loss=0.325, g_loss=8.800                                                                                                     \n",
            "epoch = 76/100, d_loss=0.325, g_loss=8.932                                                                                                     \n",
            "epoch = 77/100, d_loss=0.325, g_loss=9.037                                                                                                     \n",
            "epoch = 78/100, d_loss=0.326, g_loss=9.135                                                                                                     \n",
            "epoch = 79/100, d_loss=0.325, g_loss=9.148                                                                                                     \n",
            "epoch = 80/100, d_loss=0.325, g_loss=9.219                                                                                                     \n",
            "epoch = 81/100, d_loss=0.328, g_loss=8.938                                                                                                     \n",
            "epoch = 82/100, d_loss=0.326, g_loss=9.102                                                                                                     \n",
            "epoch = 83/100, d_loss=0.325, g_loss=9.212                                                                                                     \n",
            "epoch = 84/100, d_loss=0.325, g_loss=9.313                                                                                                     \n",
            "epoch = 85/100, d_loss=0.328, g_loss=9.348                                                                                                     \n",
            "epoch = 86/100, d_loss=0.325, g_loss=9.399                                                                                                     \n",
            "epoch = 87/100, d_loss=0.326, g_loss=9.447                                                                                                     \n",
            "epoch = 88/100, d_loss=0.325, g_loss=9.403                                                                                                     \n",
            "epoch = 89/100, d_loss=0.325, g_loss=9.484                                                                                                     \n",
            "epoch = 90/100, d_loss=0.325, g_loss=9.558                                                                                                     \n",
            "epoch = 91/100, d_loss=0.325, g_loss=9.601                                                                                                     \n",
            "epoch = 92/100, d_loss=0.325, g_loss=9.533                                                                                                     \n",
            "epoch = 93/100, d_loss=0.325, g_loss=9.596                                                                                                     \n",
            "epoch = 94/100, d_loss=0.325, g_loss=9.680                                                                                                     \n",
            "epoch = 95/100, d_loss=0.325, g_loss=9.689                                                                                                     \n",
            "epoch = 96/100, d_loss=0.325, g_loss=9.677                                                                                                     \n",
            "epoch = 97/100, d_loss=0.326, g_loss=9.743                                                                                                     \n",
            "epoch = 98/100, d_loss=0.325, g_loss=9.774                                                                                                     \n",
            "epoch = 99/100, d_loss=0.326, g_loss=9.791                                                                                                     \n",
            "epoch = 100/100, d_loss=0.325, g_loss=9.822                                                                                                     \n",
            "epoch = 101/100, d_loss=0.325, g_loss=9.852                                                                                                     \n"
          ],
          "name": "stdout"
        }
      ]
    },
    {
      "cell_type": "code",
      "metadata": {
        "id": "_FMyPM0A3iiV",
        "colab_type": "code",
        "colab": {}
      },
      "source": [
        ""
      ],
      "execution_count": 0,
      "outputs": []
    }
  ]
}