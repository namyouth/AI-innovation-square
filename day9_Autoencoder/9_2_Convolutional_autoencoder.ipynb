{
  "nbformat": 4,
  "nbformat_minor": 0,
  "metadata": {
    "colab": {
      "name": "9-2_Convolutional autoencoder.ipynb",
      "provenance": [],
      "collapsed_sections": []
    },
    "kernelspec": {
      "name": "python3",
      "display_name": "Python 3"
    },
    "accelerator": "GPU"
  },
  "cells": [
    {
      "cell_type": "markdown",
      "metadata": {
        "id": "vjYqh4O7E70I",
        "colab_type": "text"
      },
      "source": [
        "# Convolutional autoencoder"
      ]
    },
    {
      "cell_type": "code",
      "metadata": {
        "id": "f3yaxs3xEzic",
        "colab_type": "code",
        "colab": {
          "base_uri": "https://localhost:8080/",
          "height": 118
        },
        "outputId": "38f8f068-5227-4930-e0ea-af3bcf4e1c2d"
      },
      "source": [
        "from keras.datasets import mnist\n",
        "import numpy as np\n",
        "\n",
        "(x_train, _), (x_test, _) = mnist.load_data()\n",
        "\n",
        "x_train = x_train.astype('float32') / 255.\n",
        "x_test = x_test.astype('float32') / 255.\n",
        "\n",
        "x_train = np.reshape(x_train, (len(x_train), 28, 28, 1))\n",
        "x_test =np.reshape(x_test, (len(x_test), 28, 28, 1))"
      ],
      "execution_count": 1,
      "outputs": [
        {
          "output_type": "stream",
          "text": [
            "Using TensorFlow backend.\n"
          ],
          "name": "stderr"
        },
        {
          "output_type": "display_data",
          "data": {
            "text/html": [
              "<p style=\"color: red;\">\n",
              "The default version of TensorFlow in Colab will soon switch to TensorFlow 2.x.<br>\n",
              "We recommend you <a href=\"https://www.tensorflow.org/guide/migrate\" target=\"_blank\">upgrade</a> now \n",
              "or ensure your notebook will continue to use TensorFlow 1.x via the <code>%tensorflow_version 1.x</code> magic:\n",
              "<a href=\"https://colab.research.google.com/notebooks/tensorflow_version.ipynb\" target=\"_blank\">more info</a>.</p>\n"
            ],
            "text/plain": [
              "<IPython.core.display.HTML object>"
            ]
          },
          "metadata": {
            "tags": []
          }
        },
        {
          "output_type": "stream",
          "text": [
            "Downloading data from https://s3.amazonaws.com/img-datasets/mnist.npz\n",
            "11493376/11490434 [==============================] - 1s 0us/step\n"
          ],
          "name": "stdout"
        }
      ]
    },
    {
      "cell_type": "code",
      "metadata": {
        "id": "cl04013rJG0O",
        "colab_type": "code",
        "colab": {
          "base_uri": "https://localhost:8080/",
          "height": 343
        },
        "outputId": "42f60651-ca97-41ce-f0ab-f547c8362a39"
      },
      "source": [
        "from keras.layers import Input, Dense, Conv2D, MaxPooling2D, UpSampling2D\n",
        "from keras.models import Model\n",
        "from keras import backend as K\n",
        "\n",
        "input_img = Input(shape=(28,28,1)) # adapt this if using 'channels_first' image data format\n",
        "\n",
        "x = Conv2D(16, (3,3), activation='relu', padding='same')(input_img)\n",
        "x = MaxPooling2D((2,2), padding='same')(x)\n",
        "x = Conv2D(8, (3,3), activation='relu', padding='same')(x)\n",
        "x = MaxPooling2D((2,2), padding='same')(x)\n",
        "x = Conv2D(8, (3,3), activation='relu', padding='same')(x)\n",
        "encoded = MaxPooling2D((2,2), padding='same')(x)\n",
        "\n",
        "# at this point representation is (4, 4, 8) i.e. 128-dimentional\n",
        "\n",
        "x = Conv2D(8, (3,3), activation='relu', padding='same')(encoded)\n",
        "x = UpSampling2D((2,2))(x)\n",
        "x = Conv2D(8, (3,3), activation='relu', padding='same')(x)\n",
        "x = UpSampling2D((2,2))(x)\n",
        "x = Conv2D(16, (3,3), activation='relu')(x)\n",
        "x = UpSampling2D((2,2))(x)\n",
        "decoded = Conv2D(1, (3,3), activation='sigmoid', padding='same')(x)\n",
        "\n",
        "autoencoder = Model(input_img, decoded)\n",
        "autoencoder.compile(optimizer='adadelta', loss='binary_crossentropy')"
      ],
      "execution_count": 2,
      "outputs": [
        {
          "output_type": "stream",
          "text": [
            "WARNING:tensorflow:From /usr/local/lib/python3.6/dist-packages/keras/backend/tensorflow_backend.py:66: The name tf.get_default_graph is deprecated. Please use tf.compat.v1.get_default_graph instead.\n",
            "\n",
            "WARNING:tensorflow:From /usr/local/lib/python3.6/dist-packages/keras/backend/tensorflow_backend.py:541: The name tf.placeholder is deprecated. Please use tf.compat.v1.placeholder instead.\n",
            "\n",
            "WARNING:tensorflow:From /usr/local/lib/python3.6/dist-packages/keras/backend/tensorflow_backend.py:4432: The name tf.random_uniform is deprecated. Please use tf.random.uniform instead.\n",
            "\n",
            "WARNING:tensorflow:From /usr/local/lib/python3.6/dist-packages/keras/backend/tensorflow_backend.py:4267: The name tf.nn.max_pool is deprecated. Please use tf.nn.max_pool2d instead.\n",
            "\n",
            "WARNING:tensorflow:From /usr/local/lib/python3.6/dist-packages/keras/backend/tensorflow_backend.py:2239: The name tf.image.resize_nearest_neighbor is deprecated. Please use tf.compat.v1.image.resize_nearest_neighbor instead.\n",
            "\n",
            "WARNING:tensorflow:From /usr/local/lib/python3.6/dist-packages/keras/optimizers.py:793: The name tf.train.Optimizer is deprecated. Please use tf.compat.v1.train.Optimizer instead.\n",
            "\n",
            "WARNING:tensorflow:From /usr/local/lib/python3.6/dist-packages/keras/backend/tensorflow_backend.py:3657: The name tf.log is deprecated. Please use tf.math.log instead.\n",
            "\n",
            "WARNING:tensorflow:From /usr/local/lib/python3.6/dist-packages/tensorflow_core/python/ops/nn_impl.py:183: where (from tensorflow.python.ops.array_ops) is deprecated and will be removed in a future version.\n",
            "Instructions for updating:\n",
            "Use tf.where in 2.0, which has the same broadcast rule as np.where\n"
          ],
          "name": "stdout"
        }
      ]
    },
    {
      "cell_type": "code",
      "metadata": {
        "id": "Lg6vz9nBJGwn",
        "colab_type": "code",
        "colab": {
          "base_uri": "https://localhost:8080/",
          "height": 1000
        },
        "outputId": "68a46896-fb02-4a66-ba81-8ca20188fc41"
      },
      "source": [
        "autoencoder.fit(x_train, x_train, epochs=50, batch_size=128, shuffle=True, validation_data=(x_test, x_test))"
      ],
      "execution_count": 3,
      "outputs": [
        {
          "output_type": "stream",
          "text": [
            "WARNING:tensorflow:From /usr/local/lib/python3.6/dist-packages/keras/backend/tensorflow_backend.py:1033: The name tf.assign_add is deprecated. Please use tf.compat.v1.assign_add instead.\n",
            "\n",
            "WARNING:tensorflow:From /usr/local/lib/python3.6/dist-packages/keras/backend/tensorflow_backend.py:1020: The name tf.assign is deprecated. Please use tf.compat.v1.assign instead.\n",
            "\n",
            "WARNING:tensorflow:From /usr/local/lib/python3.6/dist-packages/keras/backend/tensorflow_backend.py:3005: The name tf.Session is deprecated. Please use tf.compat.v1.Session instead.\n",
            "\n",
            "Train on 60000 samples, validate on 10000 samples\n",
            "Epoch 1/50\n",
            "WARNING:tensorflow:From /usr/local/lib/python3.6/dist-packages/keras/backend/tensorflow_backend.py:190: The name tf.get_default_session is deprecated. Please use tf.compat.v1.get_default_session instead.\n",
            "\n",
            "WARNING:tensorflow:From /usr/local/lib/python3.6/dist-packages/keras/backend/tensorflow_backend.py:197: The name tf.ConfigProto is deprecated. Please use tf.compat.v1.ConfigProto instead.\n",
            "\n",
            "WARNING:tensorflow:From /usr/local/lib/python3.6/dist-packages/keras/backend/tensorflow_backend.py:207: The name tf.global_variables is deprecated. Please use tf.compat.v1.global_variables instead.\n",
            "\n",
            "WARNING:tensorflow:From /usr/local/lib/python3.6/dist-packages/keras/backend/tensorflow_backend.py:216: The name tf.is_variable_initialized is deprecated. Please use tf.compat.v1.is_variable_initialized instead.\n",
            "\n",
            "WARNING:tensorflow:From /usr/local/lib/python3.6/dist-packages/keras/backend/tensorflow_backend.py:223: The name tf.variables_initializer is deprecated. Please use tf.compat.v1.variables_initializer instead.\n",
            "\n",
            "60000/60000 [==============================] - 18s 307us/step - loss: 0.2220 - val_loss: 0.1772\n",
            "Epoch 2/50\n",
            "60000/60000 [==============================] - 4s 69us/step - loss: 0.1520 - val_loss: 0.1429\n",
            "Epoch 3/50\n",
            "60000/60000 [==============================] - 4s 69us/step - loss: 0.1382 - val_loss: 0.1298\n",
            "Epoch 4/50\n",
            "60000/60000 [==============================] - 4s 71us/step - loss: 0.1309 - val_loss: 0.1254\n",
            "Epoch 5/50\n",
            "60000/60000 [==============================] - 4s 74us/step - loss: 0.1261 - val_loss: 0.1233\n",
            "Epoch 6/50\n",
            "60000/60000 [==============================] - 4s 72us/step - loss: 0.1228 - val_loss: 0.1205\n",
            "Epoch 7/50\n",
            "60000/60000 [==============================] - 4s 69us/step - loss: 0.1204 - val_loss: 0.1169\n",
            "Epoch 8/50\n",
            "60000/60000 [==============================] - 4s 70us/step - loss: 0.1180 - val_loss: 0.1163\n",
            "Epoch 9/50\n",
            "60000/60000 [==============================] - 4s 69us/step - loss: 0.1161 - val_loss: 0.1166\n",
            "Epoch 10/50\n",
            "60000/60000 [==============================] - 4s 70us/step - loss: 0.1147 - val_loss: 0.1128\n",
            "Epoch 11/50\n",
            "60000/60000 [==============================] - 4s 68us/step - loss: 0.1135 - val_loss: 0.1123\n",
            "Epoch 12/50\n",
            "60000/60000 [==============================] - 4s 69us/step - loss: 0.1125 - val_loss: 0.1093\n",
            "Epoch 13/50\n",
            "60000/60000 [==============================] - 4s 69us/step - loss: 0.1114 - val_loss: 0.1094\n",
            "Epoch 14/50\n",
            "60000/60000 [==============================] - 4s 69us/step - loss: 0.1108 - val_loss: 0.1129\n",
            "Epoch 15/50\n",
            "60000/60000 [==============================] - 4s 69us/step - loss: 0.1102 - val_loss: 0.1097\n",
            "Epoch 16/50\n",
            "60000/60000 [==============================] - 4s 70us/step - loss: 0.1098 - val_loss: 0.1131\n",
            "Epoch 17/50\n",
            "60000/60000 [==============================] - 4s 70us/step - loss: 0.1093 - val_loss: 0.1093\n",
            "Epoch 18/50\n",
            "60000/60000 [==============================] - 4s 69us/step - loss: 0.1087 - val_loss: 0.1069\n",
            "Epoch 19/50\n",
            "60000/60000 [==============================] - 4s 69us/step - loss: 0.1080 - val_loss: 0.1043\n",
            "Epoch 20/50\n",
            "60000/60000 [==============================] - 4s 69us/step - loss: 0.1079 - val_loss: 0.1047\n",
            "Epoch 21/50\n",
            "60000/60000 [==============================] - 4s 69us/step - loss: 0.1074 - val_loss: 0.1071\n",
            "Epoch 22/50\n",
            "60000/60000 [==============================] - 4s 70us/step - loss: 0.1073 - val_loss: 0.1077\n",
            "Epoch 23/50\n",
            "60000/60000 [==============================] - 4s 70us/step - loss: 0.1066 - val_loss: 0.1050\n",
            "Epoch 24/50\n",
            "60000/60000 [==============================] - 4s 69us/step - loss: 0.1064 - val_loss: 0.1059\n",
            "Epoch 25/50\n",
            "60000/60000 [==============================] - 4s 70us/step - loss: 0.1060 - val_loss: 0.1037\n",
            "Epoch 26/50\n",
            "60000/60000 [==============================] - 4s 69us/step - loss: 0.1057 - val_loss: 0.1042\n",
            "Epoch 27/50\n",
            "60000/60000 [==============================] - 4s 69us/step - loss: 0.1055 - val_loss: 0.1023\n",
            "Epoch 28/50\n",
            "60000/60000 [==============================] - 4s 69us/step - loss: 0.1053 - val_loss: 0.1036\n",
            "Epoch 29/50\n",
            "60000/60000 [==============================] - 4s 69us/step - loss: 0.1049 - val_loss: 0.1022\n",
            "Epoch 30/50\n",
            "60000/60000 [==============================] - 4s 70us/step - loss: 0.1046 - val_loss: 0.1087\n",
            "Epoch 31/50\n",
            "60000/60000 [==============================] - 4s 70us/step - loss: 0.1040 - val_loss: 0.1014\n",
            "Epoch 32/50\n",
            "60000/60000 [==============================] - 4s 68us/step - loss: 0.1040 - val_loss: 0.1022\n",
            "Epoch 33/50\n",
            "60000/60000 [==============================] - 4s 69us/step - loss: 0.1040 - val_loss: 0.1063\n",
            "Epoch 34/50\n",
            "60000/60000 [==============================] - 4s 70us/step - loss: 0.1038 - val_loss: 0.1018\n",
            "Epoch 35/50\n",
            "60000/60000 [==============================] - 4s 69us/step - loss: 0.1037 - val_loss: 0.1019\n",
            "Epoch 36/50\n",
            "60000/60000 [==============================] - 4s 69us/step - loss: 0.1036 - val_loss: 0.1045\n",
            "Epoch 37/50\n",
            "60000/60000 [==============================] - 4s 69us/step - loss: 0.1032 - val_loss: 0.1021\n",
            "Epoch 38/50\n",
            "60000/60000 [==============================] - 4s 69us/step - loss: 0.1031 - val_loss: 0.0996\n",
            "Epoch 39/50\n",
            "60000/60000 [==============================] - 4s 70us/step - loss: 0.1030 - val_loss: 0.1017\n",
            "Epoch 40/50\n",
            "60000/60000 [==============================] - 4s 69us/step - loss: 0.1027 - val_loss: 0.1020\n",
            "Epoch 41/50\n",
            "60000/60000 [==============================] - 4s 69us/step - loss: 0.1026 - val_loss: 0.1003\n",
            "Epoch 42/50\n",
            "60000/60000 [==============================] - 4s 69us/step - loss: 0.1022 - val_loss: 0.1006\n",
            "Epoch 43/50\n",
            "60000/60000 [==============================] - 4s 69us/step - loss: 0.1020 - val_loss: 0.1003\n",
            "Epoch 44/50\n",
            "60000/60000 [==============================] - 4s 69us/step - loss: 0.1017 - val_loss: 0.0999\n",
            "Epoch 45/50\n",
            "60000/60000 [==============================] - 4s 69us/step - loss: 0.1013 - val_loss: 0.1002\n",
            "Epoch 46/50\n",
            "60000/60000 [==============================] - 4s 70us/step - loss: 0.1011 - val_loss: 0.0995\n",
            "Epoch 47/50\n",
            "60000/60000 [==============================] - 4s 69us/step - loss: 0.1013 - val_loss: 0.0992\n",
            "Epoch 48/50\n",
            "60000/60000 [==============================] - 4s 70us/step - loss: 0.1012 - val_loss: 0.1021\n",
            "Epoch 49/50\n",
            "60000/60000 [==============================] - 4s 70us/step - loss: 0.1011 - val_loss: 0.0984\n",
            "Epoch 50/50\n",
            "60000/60000 [==============================] - 4s 69us/step - loss: 0.1010 - val_loss: 0.0994\n"
          ],
          "name": "stdout"
        },
        {
          "output_type": "execute_result",
          "data": {
            "text/plain": [
              "<keras.callbacks.History at 0x7f0b94c9e7b8>"
            ]
          },
          "metadata": {
            "tags": []
          },
          "execution_count": 3
        }
      ]
    },
    {
      "cell_type": "code",
      "metadata": {
        "id": "5n_NsIVwJGu9",
        "colab_type": "code",
        "colab": {}
      },
      "source": [
        "decoded_imgs = autoencoder.predict(x_test)"
      ],
      "execution_count": 0,
      "outputs": []
    },
    {
      "cell_type": "code",
      "metadata": {
        "id": "ZR-DheiQJGl4",
        "colab_type": "code",
        "colab": {
          "base_uri": "https://localhost:8080/",
          "height": 268
        },
        "outputId": "5925c1e7-d09f-4bf9-dfcb-b3e1e78a51e1"
      },
      "source": [
        "# use Matplotlib\n",
        "import matplotlib.pyplot as plt\n",
        "\n",
        "n = 10\n",
        "plt.figure(figsize=(20, 4))\n",
        "for i in range(n):\n",
        "    # display original\n",
        "    ax = plt.subplot(2, n, i + 1)\n",
        "    plt.imshow(x_test[i].reshape(28,28))\n",
        "    plt.gray()\n",
        "    ax.get_xaxis().set_visible(False)\n",
        "    ax.get_yaxis().set_visible(False)\n",
        "\n",
        "    # display reconstruction\n",
        "    ax =  plt.subplot(2, n, i + 1 + n)\n",
        "    plt.imshow(decoded_imgs[i].reshape(28,28))\n",
        "    plt.gray()\n",
        "    ax.get_xaxis().set_visible(False)\n",
        "    ax.get_yaxis().set_visible(False)\n",
        "\n",
        "plt.show()"
      ],
      "execution_count": 7,
      "outputs": [
        {
          "output_type": "display_data",
          "data": {
            "image/png": "[encoded data removed]",
            "text/plain": [
              "<Figure size 1440x288 with 20 Axes>"
            ]
          },
          "metadata": {
            "tags": []
          }
        }
      ]
    },
    {
      "cell_type": "code",
      "metadata": {
        "id": "3F-yXXe6JGfK",
        "colab_type": "code",
        "colab": {}
      },
      "source": [
        ""
      ],
      "execution_count": 0,
      "outputs": []
    },
    {
      "cell_type": "markdown",
      "metadata": {
        "id": "P-l0HJdlE6kj",
        "colab_type": "text"
      },
      "source": [
        ""
      ]
    }
  ]
}