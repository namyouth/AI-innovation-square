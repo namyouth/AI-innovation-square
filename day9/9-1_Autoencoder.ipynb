{
  "nbformat": 4,
  "nbformat_minor": 0,
  "metadata": {
    "colab": {
      "name": "9-1_Autoencoder.ipynb",
      "provenance": [],
      "collapsed_sections": []
    },
    "kernelspec": {
      "name": "python3",
      "display_name": "Python 3"
    },
    "accelerator": "GPU"
  },
  "cells": [
    {
      "cell_type": "code",
      "metadata": {
        "id": "96k3aowLmrYx",
        "colab_type": "code",
        "colab": {
          "base_uri": "https://localhost:8080/",
          "height": 82
        },
        "outputId": "5d66c475-08ac-4260-899c-6310779fb3c0"
      },
      "source": [
        "from keras.layers import Input, Dense\n",
        "from keras.models import Model"
      ],
      "execution_count": 1,
      "outputs": [
        {
          "output_type": "stream",
          "text": [
            "Using TensorFlow backend.\n"
          ],
          "name": "stderr"
        },
        {
          "output_type": "display_data",
          "data": {
            "text/html": [
              "<p style=\"color: red;\">\n",
              "The default version of TensorFlow in Colab will soon switch to TensorFlow 2.x.<br>\n",
              "We recommend you <a href=\"https://www.tensorflow.org/guide/migrate\" target=\"_blank\">upgrade</a> now \n",
              "or ensure your notebook will continue to use TensorFlow 1.x via the <code>%tensorflow_version 1.x</code> magic:\n",
              "<a href=\"https://colab.research.google.com/notebooks/tensorflow_version.ipynb\" target=\"_blank\">more info</a>.</p>\n"
            ],
            "text/plain": [
              "<IPython.core.display.HTML object>"
            ]
          },
          "metadata": {
            "tags": []
          }
        }
      ]
    },
    {
      "cell_type": "markdown",
      "metadata": {
        "id": "FTMyFtte01XM",
        "colab_type": "text"
      },
      "source": [
        "### Simple autoencoder"
      ]
    },
    {
      "cell_type": "code",
      "metadata": {
        "id": "XKS-baLpmyja",
        "colab_type": "code",
        "colab": {
          "base_uri": "https://localhost:8080/",
          "height": 145
        },
        "outputId": "3e94681f-c0ec-40d0-c056-c04dbc6b0a63"
      },
      "source": [
        "# encoding dim is the size of representation vector, which is reduced.\n",
        "encoding_dim = 32 # 32 floats -> compression of factor 24.5, assuming the input is 784 floats\n",
        "\n",
        "input_img = Input(shape=(784,))\n",
        "encoded = Dense(encoding_dim, activation='relu')(input_img)\n",
        "decoded = Dense(784, activation='sigmoid')(encoded)\n",
        "\n",
        "autoencoder = Model(input_img, decoded)"
      ],
      "execution_count": 2,
      "outputs": [
        {
          "output_type": "stream",
          "text": [
            "WARNING:tensorflow:From /usr/local/lib/python3.6/dist-packages/keras/backend/tensorflow_backend.py:66: The name tf.get_default_graph is deprecated. Please use tf.compat.v1.get_default_graph instead.\n",
            "\n",
            "WARNING:tensorflow:From /usr/local/lib/python3.6/dist-packages/keras/backend/tensorflow_backend.py:541: The name tf.placeholder is deprecated. Please use tf.compat.v1.placeholder instead.\n",
            "\n",
            "WARNING:tensorflow:From /usr/local/lib/python3.6/dist-packages/keras/backend/tensorflow_backend.py:4432: The name tf.random_uniform is deprecated. Please use tf.random.uniform instead.\n",
            "\n"
          ],
          "name": "stdout"
        }
      ]
    },
    {
      "cell_type": "code",
      "metadata": {
        "id": "hNgUkr-vneQI",
        "colab_type": "code",
        "colab": {
          "base_uri": "https://localhost:8080/",
          "height": 233
        },
        "outputId": "1a76ba30-70b1-4784-b79f-e43a911ba236"
      },
      "source": [
        "# this model maps an input to its encoded representation\n",
        "encoder = Model(input_img, encoded)\n",
        "encoder.summary()"
      ],
      "execution_count": 3,
      "outputs": [
        {
          "output_type": "stream",
          "text": [
            "Model: \"model_2\"\n",
            "_________________________________________________________________\n",
            "Layer (type)                 Output Shape              Param #   \n",
            "=================================================================\n",
            "input_1 (InputLayer)         (None, 784)               0         \n",
            "_________________________________________________________________\n",
            "dense_1 (Dense)              (None, 32)                25120     \n",
            "=================================================================\n",
            "Total params: 25,120\n",
            "Trainable params: 25,120\n",
            "Non-trainable params: 0\n",
            "_________________________________________________________________\n"
          ],
          "name": "stdout"
        }
      ]
    },
    {
      "cell_type": "code",
      "metadata": {
        "id": "ACGQyIu_nnZm",
        "colab_type": "code",
        "colab": {}
      },
      "source": [
        "encoded_input = Input(shape=(encoding_dim,))\n",
        "decoder_layer = autoencoder.layers[-1]\n",
        "# Decoder Model\n",
        "decoder = Model(encoded_input, decoder_layer(encoded_input))"
      ],
      "execution_count": 0,
      "outputs": []
    },
    {
      "cell_type": "code",
      "metadata": {
        "id": "wVJNX5JTn1TT",
        "colab_type": "code",
        "colab": {
          "base_uri": "https://localhost:8080/",
          "height": 233
        },
        "outputId": "3df3aa06-050b-4149-aac1-26493b535930"
      },
      "source": [
        "decoder.summary()"
      ],
      "execution_count": 5,
      "outputs": [
        {
          "output_type": "stream",
          "text": [
            "Model: \"model_3\"\n",
            "_________________________________________________________________\n",
            "Layer (type)                 Output Shape              Param #   \n",
            "=================================================================\n",
            "input_2 (InputLayer)         (None, 32)                0         \n",
            "_________________________________________________________________\n",
            "dense_2 (Dense)              (None, 784)               25872     \n",
            "=================================================================\n",
            "Total params: 25,872\n",
            "Trainable params: 25,872\n",
            "Non-trainable params: 0\n",
            "_________________________________________________________________\n"
          ],
          "name": "stdout"
        }
      ]
    },
    {
      "cell_type": "code",
      "metadata": {
        "id": "MNSzxYsPn3Oe",
        "colab_type": "code",
        "colab": {
          "base_uri": "https://localhost:8080/",
          "height": 163
        },
        "outputId": "95e84b53-acf2-438a-e8b6-28315f9715b5"
      },
      "source": [
        "autoencoder.compile(optimizer='adadelta', loss='binary_crossentropy')"
      ],
      "execution_count": 6,
      "outputs": [
        {
          "output_type": "stream",
          "text": [
            "WARNING:tensorflow:From /usr/local/lib/python3.6/dist-packages/keras/optimizers.py:793: The name tf.train.Optimizer is deprecated. Please use tf.compat.v1.train.Optimizer instead.\n",
            "\n",
            "WARNING:tensorflow:From /usr/local/lib/python3.6/dist-packages/keras/backend/tensorflow_backend.py:3657: The name tf.log is deprecated. Please use tf.math.log instead.\n",
            "\n",
            "WARNING:tensorflow:From /usr/local/lib/python3.6/dist-packages/tensorflow_core/python/ops/nn_impl.py:183: where (from tensorflow.python.ops.array_ops) is deprecated and will be removed in a future version.\n",
            "Instructions for updating:\n",
            "Use tf.where in 2.0, which has the same broadcast rule as np.where\n"
          ],
          "name": "stdout"
        }
      ]
    },
    {
      "cell_type": "code",
      "metadata": {
        "id": "-FoVru88oHhE",
        "colab_type": "code",
        "colab": {}
      },
      "source": [
        "from keras.datasets import mnist\n",
        "import numpy as np\n",
        "import matplotlib.pyplot as plt\n",
        "(x_train,_), (x_test, _) = mnist.load_data() # In this case, we don't use x_labels, y_labels because we're interested in encoding and decoding the input_img.\n"
      ],
      "execution_count": 0,
      "outputs": []
    },
    {
      "cell_type": "code",
      "metadata": {
        "id": "wBDLLSA4orwH",
        "colab_type": "code",
        "colab": {
          "base_uri": "https://localhost:8080/",
          "height": 53
        },
        "outputId": "2471692d-090f-429b-db5b-c14d4bde872a"
      },
      "source": [
        "print(x_train.shape)\n",
        "print(x_train[0].shape)"
      ],
      "execution_count": 8,
      "outputs": [
        {
          "output_type": "stream",
          "text": [
            "(60000, 28, 28)\n",
            "(28, 28)\n"
          ],
          "name": "stdout"
        }
      ]
    },
    {
      "cell_type": "code",
      "metadata": {
        "id": "4JM0i9h6pH5J",
        "colab_type": "code",
        "colab": {
          "base_uri": "https://localhost:8080/",
          "height": 53
        },
        "outputId": "3c9da589-126a-421b-e887-82ac0eb90753"
      },
      "source": [
        "# Normalize and convert 28 x 28 to 784.\n",
        "x_train = x_train.astype('float32') / 255.\n",
        "x_test = x_test.astype('float32') / 255.\n",
        "x_train = x_train.reshape((len(x_train), np.prod(x_train.shape[1:])))\n",
        "x_test = x_test.reshape((len(x_test), np.prod(x_test.shape[1:])))\n",
        "print(x_train.shape)\n",
        "print(x_test.shape)"
      ],
      "execution_count": 9,
      "outputs": [
        {
          "output_type": "stream",
          "text": [
            "(60000, 784)\n",
            "(10000, 784)\n"
          ],
          "name": "stdout"
        }
      ]
    },
    {
      "cell_type": "code",
      "metadata": {
        "id": "qgp2eFDurmRJ",
        "colab_type": "code",
        "colab": {
          "base_uri": "https://localhost:8080/",
          "height": 1000
        },
        "outputId": "4c5a35a9-5d44-4592-da27-b7fa87e3ebc4"
      },
      "source": [
        "autoencoder.fit(x_train, x_train, epochs=50, batch_size=256, shuffle=True, validation_data=(x_test, x_test))"
      ],
      "execution_count": 10,
      "outputs": [
        {
          "output_type": "stream",
          "text": [
            "WARNING:tensorflow:From /usr/local/lib/python3.6/dist-packages/keras/backend/tensorflow_backend.py:1033: The name tf.assign_add is deprecated. Please use tf.compat.v1.assign_add instead.\n",
            "\n",
            "WARNING:tensorflow:From /usr/local/lib/python3.6/dist-packages/keras/backend/tensorflow_backend.py:1020: The name tf.assign is deprecated. Please use tf.compat.v1.assign instead.\n",
            "\n",
            "WARNING:tensorflow:From /usr/local/lib/python3.6/dist-packages/keras/backend/tensorflow_backend.py:3005: The name tf.Session is deprecated. Please use tf.compat.v1.Session instead.\n",
            "\n",
            "Train on 60000 samples, validate on 10000 samples\n",
            "Epoch 1/50\n",
            "WARNING:tensorflow:From /usr/local/lib/python3.6/dist-packages/keras/backend/tensorflow_backend.py:190: The name tf.get_default_session is deprecated. Please use tf.compat.v1.get_default_session instead.\n",
            "\n",
            "WARNING:tensorflow:From /usr/local/lib/python3.6/dist-packages/keras/backend/tensorflow_backend.py:197: The name tf.ConfigProto is deprecated. Please use tf.compat.v1.ConfigProto instead.\n",
            "\n",
            "WARNING:tensorflow:From /usr/local/lib/python3.6/dist-packages/keras/backend/tensorflow_backend.py:207: The name tf.global_variables is deprecated. Please use tf.compat.v1.global_variables instead.\n",
            "\n",
            "WARNING:tensorflow:From /usr/local/lib/python3.6/dist-packages/keras/backend/tensorflow_backend.py:216: The name tf.is_variable_initialized is deprecated. Please use tf.compat.v1.is_variable_initialized instead.\n",
            "\n",
            "WARNING:tensorflow:From /usr/local/lib/python3.6/dist-packages/keras/backend/tensorflow_backend.py:223: The name tf.variables_initializer is deprecated. Please use tf.compat.v1.variables_initializer instead.\n",
            "\n",
            "60000/60000 [==============================] - 2s 40us/step - loss: 0.3717 - val_loss: 0.2721\n",
            "Epoch 2/50\n",
            "60000/60000 [==============================] - 1s 20us/step - loss: 0.2662 - val_loss: 0.2569\n",
            "Epoch 3/50\n",
            "60000/60000 [==============================] - 1s 21us/step - loss: 0.2451 - val_loss: 0.2310\n",
            "Epoch 4/50\n",
            "60000/60000 [==============================] - 1s 20us/step - loss: 0.2218 - val_loss: 0.2113\n",
            "Epoch 5/50\n",
            "60000/60000 [==============================] - 1s 20us/step - loss: 0.2058 - val_loss: 0.1983\n",
            "Epoch 6/50\n",
            "60000/60000 [==============================] - 1s 20us/step - loss: 0.1948 - val_loss: 0.1889\n",
            "Epoch 7/50\n",
            "60000/60000 [==============================] - 1s 20us/step - loss: 0.1864 - val_loss: 0.1815\n",
            "Epoch 8/50\n",
            "60000/60000 [==============================] - 1s 20us/step - loss: 0.1797 - val_loss: 0.1755\n",
            "Epoch 9/50\n",
            "60000/60000 [==============================] - 1s 20us/step - loss: 0.1743 - val_loss: 0.1704\n",
            "Epoch 10/50\n",
            "60000/60000 [==============================] - 1s 20us/step - loss: 0.1696 - val_loss: 0.1662\n",
            "Epoch 11/50\n",
            "60000/60000 [==============================] - 1s 20us/step - loss: 0.1653 - val_loss: 0.1620\n",
            "Epoch 12/50\n",
            "60000/60000 [==============================] - 1s 20us/step - loss: 0.1614 - val_loss: 0.1580\n",
            "Epoch 13/50\n",
            "60000/60000 [==============================] - 1s 21us/step - loss: 0.1576 - val_loss: 0.1546\n",
            "Epoch 14/50\n",
            "60000/60000 [==============================] - 1s 20us/step - loss: 0.1541 - val_loss: 0.1509\n",
            "Epoch 15/50\n",
            "60000/60000 [==============================] - 1s 20us/step - loss: 0.1507 - val_loss: 0.1477\n",
            "Epoch 16/50\n",
            "60000/60000 [==============================] - 1s 19us/step - loss: 0.1477 - val_loss: 0.1448\n",
            "Epoch 17/50\n",
            "60000/60000 [==============================] - 1s 19us/step - loss: 0.1448 - val_loss: 0.1419\n",
            "Epoch 18/50\n",
            "60000/60000 [==============================] - 1s 20us/step - loss: 0.1422 - val_loss: 0.1393\n",
            "Epoch 19/50\n",
            "60000/60000 [==============================] - 1s 20us/step - loss: 0.1397 - val_loss: 0.1370\n",
            "Epoch 20/50\n",
            "60000/60000 [==============================] - 1s 20us/step - loss: 0.1374 - val_loss: 0.1347\n",
            "Epoch 21/50\n",
            "60000/60000 [==============================] - 1s 20us/step - loss: 0.1352 - val_loss: 0.1326\n",
            "Epoch 22/50\n",
            "60000/60000 [==============================] - 1s 19us/step - loss: 0.1331 - val_loss: 0.1307\n",
            "Epoch 23/50\n",
            "60000/60000 [==============================] - 1s 20us/step - loss: 0.1311 - val_loss: 0.1286\n",
            "Epoch 24/50\n",
            "60000/60000 [==============================] - 1s 20us/step - loss: 0.1292 - val_loss: 0.1267\n",
            "Epoch 25/50\n",
            "60000/60000 [==============================] - 1s 20us/step - loss: 0.1273 - val_loss: 0.1248\n",
            "Epoch 26/50\n",
            "60000/60000 [==============================] - 1s 20us/step - loss: 0.1255 - val_loss: 0.1230\n",
            "Epoch 27/50\n",
            "60000/60000 [==============================] - 1s 20us/step - loss: 0.1237 - val_loss: 0.1213\n",
            "Epoch 28/50\n",
            "60000/60000 [==============================] - 1s 20us/step - loss: 0.1221 - val_loss: 0.1196\n",
            "Epoch 29/50\n",
            "60000/60000 [==============================] - 1s 20us/step - loss: 0.1204 - val_loss: 0.1180\n",
            "Epoch 30/50\n",
            "60000/60000 [==============================] - 1s 20us/step - loss: 0.1189 - val_loss: 0.1166\n",
            "Epoch 31/50\n",
            "60000/60000 [==============================] - 1s 20us/step - loss: 0.1174 - val_loss: 0.1152\n",
            "Epoch 32/50\n",
            "60000/60000 [==============================] - 1s 20us/step - loss: 0.1160 - val_loss: 0.1138\n",
            "Epoch 33/50\n",
            "60000/60000 [==============================] - 1s 20us/step - loss: 0.1147 - val_loss: 0.1125\n",
            "Epoch 34/50\n",
            "60000/60000 [==============================] - 1s 20us/step - loss: 0.1135 - val_loss: 0.1114\n",
            "Epoch 35/50\n",
            "60000/60000 [==============================] - 1s 20us/step - loss: 0.1124 - val_loss: 0.1103\n",
            "Epoch 36/50\n",
            "60000/60000 [==============================] - 1s 20us/step - loss: 0.1114 - val_loss: 0.1093\n",
            "Epoch 37/50\n",
            "60000/60000 [==============================] - 1s 20us/step - loss: 0.1104 - val_loss: 0.1084\n",
            "Epoch 38/50\n",
            "60000/60000 [==============================] - 1s 21us/step - loss: 0.1095 - val_loss: 0.1075\n",
            "Epoch 39/50\n",
            "60000/60000 [==============================] - 1s 21us/step - loss: 0.1087 - val_loss: 0.1068\n",
            "Epoch 40/50\n",
            "60000/60000 [==============================] - 1s 21us/step - loss: 0.1080 - val_loss: 0.1060\n",
            "Epoch 41/50\n",
            "60000/60000 [==============================] - 1s 20us/step - loss: 0.1073 - val_loss: 0.1054\n",
            "Epoch 42/50\n",
            "60000/60000 [==============================] - 1s 20us/step - loss: 0.1066 - val_loss: 0.1047\n",
            "Epoch 43/50\n",
            "60000/60000 [==============================] - 1s 20us/step - loss: 0.1060 - val_loss: 0.1042\n",
            "Epoch 44/50\n",
            "60000/60000 [==============================] - 1s 20us/step - loss: 0.1055 - val_loss: 0.1036\n",
            "Epoch 45/50\n",
            "60000/60000 [==============================] - 1s 20us/step - loss: 0.1050 - val_loss: 0.1031\n",
            "Epoch 46/50\n",
            "60000/60000 [==============================] - 1s 20us/step - loss: 0.1045 - val_loss: 0.1027\n",
            "Epoch 47/50\n",
            "60000/60000 [==============================] - 1s 20us/step - loss: 0.1040 - val_loss: 0.1022\n",
            "Epoch 48/50\n",
            "60000/60000 [==============================] - 1s 20us/step - loss: 0.1036 - val_loss: 0.1018\n",
            "Epoch 49/50\n",
            "60000/60000 [==============================] - 1s 20us/step - loss: 0.1032 - val_loss: 0.1014\n",
            "Epoch 50/50\n",
            "60000/60000 [==============================] - 1s 20us/step - loss: 0.1028 - val_loss: 0.1011\n"
          ],
          "name": "stdout"
        },
        {
          "output_type": "execute_result",
          "data": {
            "text/plain": [
              "<keras.callbacks.History at 0x7f0369bd3b38>"
            ]
          },
          "metadata": {
            "tags": []
          },
          "execution_count": 10
        }
      ]
    },
    {
      "cell_type": "code",
      "metadata": {
        "id": "On3fkObusTqg",
        "colab_type": "code",
        "colab": {}
      },
      "source": [
        "# encoding / decoding the numbers\n",
        "# note that the numbers came from test set.\n",
        "\n",
        "encoded_imgs = encoder.predict(x_test)\n",
        "decoded_imgs = decoder.predict(encoded_imgs)"
      ],
      "execution_count": 0,
      "outputs": []
    },
    {
      "cell_type": "code",
      "metadata": {
        "id": "ffTcV9Kaw2ZP",
        "colab_type": "code",
        "colab": {
          "base_uri": "https://localhost:8080/",
          "height": 268
        },
        "outputId": "5c1028a5-18de-4d09-fcba-f0dcbee76e64"
      },
      "source": [
        "# use Matplotlib.\n",
        "import matplotlib.pyplot as plt\n",
        "\n",
        "n = 10 # how many digits we will display\n",
        "plt.figure(figsize=(20, 4))\n",
        "for i in range(n):\n",
        "    # disploay original\n",
        "    ax = plt.subplot(2, n, i + 1)\n",
        "    plt.imshow(x_test[i].reshape(28,28))\n",
        "    plt.gray()\n",
        "    ax.get_xaxis().set_visible(False)\n",
        "    ax.get_yaxis().set_visible(False)\n",
        "\n",
        "    # diaplay reconstruction\n",
        "    ax = plt.subplot(2, n, i + 1 + n)\n",
        "    plt.imshow(decoded_imgs[i].reshape(28,28))\n",
        "    plt.gray()\n",
        "    ax.get_xaxis().set_visible(False)\n",
        "    ax.get_yaxis().set_visible(False)\n",
        "\n",
        "plt.show()"
      ],
      "execution_count": 12,
      "outputs": [
        {
          "output_type": "display_data",
          "data": {
            "image/png": "[encoded data removed]",
            "text/plain": [
              "<Figure size 1440x288 with 20 Axes>"
            ]
          },
          "metadata": {
            "tags": []
          }
        }
      ]
    },
    {
      "cell_type": "markdown",
      "metadata": {
        "id": "v9UkQN3o0Xrw",
        "colab_type": "text"
      },
      "source": [
        "### Deep autoencoder"
      ]
    },
    {
      "cell_type": "code",
      "metadata": {
        "id": "BOwnmGsxySD7",
        "colab_type": "code",
        "colab": {}
      },
      "source": [
        "input_img = Input(shape=(784,))\n",
        "encoded = Dense(128, activation='relu')(input_img)\n",
        "encoded = Dense(64, activation='relu')(encoded)\n",
        "encoded = Dense(32, activation='relu')(encoded)\n",
        "\n",
        "decoded = Dense(64, activation='relu')(encoded)\n",
        "decoded = Dense(128, activation='relu')(decoded)\n",
        "decoded = Dense(784, activation='sigmoid')(decoded)"
      ],
      "execution_count": 0,
      "outputs": []
    },
    {
      "cell_type": "code",
      "metadata": {
        "id": "W5IW4lbM1bV9",
        "colab_type": "code",
        "colab": {
          "base_uri": "https://localhost:8080/",
          "height": 1000
        },
        "outputId": "c7c42b68-75d3-40b9-bf40-c037f64d51a1"
      },
      "source": [
        "autoencoder = Model(input_img, decoded)\n",
        "autoencoder.compile(optimizer='adadelta', loss='binary_crossentropy')\n",
        "\n",
        "autoencoder.fit(x_train, x_train, epochs=100, batch_size=256, shuffle=True, validation_data=(x_test, x_test))"
      ],
      "execution_count": 15,
      "outputs": [
        {
          "output_type": "stream",
          "text": [
            "Train on 60000 samples, validate on 10000 samples\n",
            "Epoch 1/100\n",
            "60000/60000 [==============================] - 2s 34us/step - loss: 0.3292 - val_loss: 0.2652\n",
            "Epoch 2/100\n",
            "60000/60000 [==============================] - 2s 28us/step - loss: 0.2561 - val_loss: 0.2469\n",
            "Epoch 3/100\n",
            "60000/60000 [==============================] - 2s 28us/step - loss: 0.2399 - val_loss: 0.2311\n",
            "Epoch 4/100\n",
            "60000/60000 [==============================] - 2s 28us/step - loss: 0.2165 - val_loss: 0.2018\n",
            "Epoch 5/100\n",
            "60000/60000 [==============================] - 2s 27us/step - loss: 0.1968 - val_loss: 0.1897\n",
            "Epoch 6/100\n",
            "60000/60000 [==============================] - 2s 27us/step - loss: 0.1858 - val_loss: 0.1797\n",
            "Epoch 7/100\n",
            "60000/60000 [==============================] - 2s 27us/step - loss: 0.1773 - val_loss: 0.1729\n",
            "Epoch 8/100\n",
            "60000/60000 [==============================] - 2s 28us/step - loss: 0.1712 - val_loss: 0.1660\n",
            "Epoch 9/100\n",
            "60000/60000 [==============================] - 2s 29us/step - loss: 0.1661 - val_loss: 0.1598\n",
            "Epoch 10/100\n",
            "60000/60000 [==============================] - 2s 28us/step - loss: 0.1606 - val_loss: 0.1551\n",
            "Epoch 11/100\n",
            "60000/60000 [==============================] - 2s 28us/step - loss: 0.1558 - val_loss: 0.1524\n",
            "Epoch 12/100\n",
            "60000/60000 [==============================] - 2s 28us/step - loss: 0.1517 - val_loss: 0.1500\n",
            "Epoch 13/100\n",
            "60000/60000 [==============================] - 2s 28us/step - loss: 0.1482 - val_loss: 0.1493\n",
            "Epoch 14/100\n",
            "60000/60000 [==============================] - 2s 29us/step - loss: 0.1454 - val_loss: 0.1431\n",
            "Epoch 15/100\n",
            "60000/60000 [==============================] - 2s 28us/step - loss: 0.1429 - val_loss: 0.1412\n",
            "Epoch 16/100\n",
            "60000/60000 [==============================] - 2s 27us/step - loss: 0.1406 - val_loss: 0.1405\n",
            "Epoch 17/100\n",
            "60000/60000 [==============================] - 2s 27us/step - loss: 0.1384 - val_loss: 0.1357\n",
            "Epoch 18/100\n",
            "60000/60000 [==============================] - 2s 29us/step - loss: 0.1365 - val_loss: 0.1336\n",
            "Epoch 19/100\n",
            "60000/60000 [==============================] - 2s 28us/step - loss: 0.1348 - val_loss: 0.1321\n",
            "Epoch 20/100\n",
            "60000/60000 [==============================] - 2s 27us/step - loss: 0.1332 - val_loss: 0.1305\n",
            "Epoch 21/100\n",
            "60000/60000 [==============================] - 2s 29us/step - loss: 0.1317 - val_loss: 0.1289\n",
            "Epoch 22/100\n",
            "60000/60000 [==============================] - 2s 28us/step - loss: 0.1303 - val_loss: 0.1287\n",
            "Epoch 23/100\n",
            "60000/60000 [==============================] - 2s 28us/step - loss: 0.1287 - val_loss: 0.1287\n",
            "Epoch 24/100\n",
            "60000/60000 [==============================] - 2s 28us/step - loss: 0.1273 - val_loss: 0.1274\n",
            "Epoch 25/100\n",
            "60000/60000 [==============================] - 2s 28us/step - loss: 0.1261 - val_loss: 0.1252\n",
            "Epoch 26/100\n",
            "60000/60000 [==============================] - 2s 27us/step - loss: 0.1250 - val_loss: 0.1234\n",
            "Epoch 27/100\n",
            "60000/60000 [==============================] - 2s 29us/step - loss: 0.1240 - val_loss: 0.1214\n",
            "Epoch 28/100\n",
            "60000/60000 [==============================] - 2s 28us/step - loss: 0.1229 - val_loss: 0.1217\n",
            "Epoch 29/100\n",
            "60000/60000 [==============================] - 2s 27us/step - loss: 0.1222 - val_loss: 0.1199\n",
            "Epoch 30/100\n",
            "60000/60000 [==============================] - 2s 28us/step - loss: 0.1213 - val_loss: 0.1206\n",
            "Epoch 31/100\n",
            "60000/60000 [==============================] - 2s 28us/step - loss: 0.1206 - val_loss: 0.1177\n",
            "Epoch 32/100\n",
            "60000/60000 [==============================] - 2s 28us/step - loss: 0.1199 - val_loss: 0.1172\n",
            "Epoch 33/100\n",
            "60000/60000 [==============================] - 2s 29us/step - loss: 0.1193 - val_loss: 0.1173\n",
            "Epoch 34/100\n",
            "60000/60000 [==============================] - 2s 28us/step - loss: 0.1187 - val_loss: 0.1157\n",
            "Epoch 35/100\n",
            "60000/60000 [==============================] - 2s 27us/step - loss: 0.1179 - val_loss: 0.1157\n",
            "Epoch 36/100\n",
            "60000/60000 [==============================] - 2s 29us/step - loss: 0.1173 - val_loss: 0.1162\n",
            "Epoch 37/100\n",
            "60000/60000 [==============================] - 2s 27us/step - loss: 0.1168 - val_loss: 0.1155\n",
            "Epoch 38/100\n",
            "60000/60000 [==============================] - 2s 28us/step - loss: 0.1164 - val_loss: 0.1145\n",
            "Epoch 39/100\n",
            "60000/60000 [==============================] - 2s 28us/step - loss: 0.1158 - val_loss: 0.1142\n",
            "Epoch 40/100\n",
            "60000/60000 [==============================] - 2s 27us/step - loss: 0.1153 - val_loss: 0.1139\n",
            "Epoch 41/100\n",
            "60000/60000 [==============================] - 2s 28us/step - loss: 0.1148 - val_loss: 0.1147\n",
            "Epoch 42/100\n",
            "60000/60000 [==============================] - 2s 28us/step - loss: 0.1143 - val_loss: 0.1133\n",
            "Epoch 43/100\n",
            "60000/60000 [==============================] - 2s 28us/step - loss: 0.1138 - val_loss: 0.1112\n",
            "Epoch 44/100\n",
            "60000/60000 [==============================] - 2s 29us/step - loss: 0.1132 - val_loss: 0.1111\n",
            "Epoch 45/100\n",
            "60000/60000 [==============================] - 2s 28us/step - loss: 0.1127 - val_loss: 0.1103\n",
            "Epoch 46/100\n",
            "60000/60000 [==============================] - 2s 27us/step - loss: 0.1122 - val_loss: 0.1111\n",
            "Epoch 47/100\n",
            "60000/60000 [==============================] - 2s 28us/step - loss: 0.1118 - val_loss: 0.1105\n",
            "Epoch 48/100\n",
            "60000/60000 [==============================] - 2s 28us/step - loss: 0.1114 - val_loss: 0.1094\n",
            "Epoch 49/100\n",
            "60000/60000 [==============================] - 2s 29us/step - loss: 0.1108 - val_loss: 0.1080\n",
            "Epoch 50/100\n",
            "60000/60000 [==============================] - 2s 29us/step - loss: 0.1104 - val_loss: 0.1089\n",
            "Epoch 51/100\n",
            "60000/60000 [==============================] - 2s 27us/step - loss: 0.1100 - val_loss: 0.1092\n",
            "Epoch 52/100\n",
            "60000/60000 [==============================] - 2s 29us/step - loss: 0.1097 - val_loss: 0.1068\n",
            "Epoch 53/100\n",
            "60000/60000 [==============================] - 2s 29us/step - loss: 0.1093 - val_loss: 0.1087\n",
            "Epoch 54/100\n",
            "60000/60000 [==============================] - 2s 28us/step - loss: 0.1089 - val_loss: 0.1106\n",
            "Epoch 55/100\n",
            "60000/60000 [==============================] - 2s 28us/step - loss: 0.1085 - val_loss: 0.1076\n",
            "Epoch 56/100\n",
            "60000/60000 [==============================] - 2s 28us/step - loss: 0.1083 - val_loss: 0.1080\n",
            "Epoch 57/100\n",
            "60000/60000 [==============================] - 2s 28us/step - loss: 0.1080 - val_loss: 0.1074\n",
            "Epoch 58/100\n",
            "60000/60000 [==============================] - 2s 28us/step - loss: 0.1076 - val_loss: 0.1054\n",
            "Epoch 59/100\n",
            "60000/60000 [==============================] - 2s 28us/step - loss: 0.1073 - val_loss: 0.1067\n",
            "Epoch 60/100\n",
            "60000/60000 [==============================] - 2s 28us/step - loss: 0.1070 - val_loss: 0.1055\n",
            "Epoch 61/100\n",
            "60000/60000 [==============================] - 2s 29us/step - loss: 0.1067 - val_loss: 0.1056\n",
            "Epoch 62/100\n",
            "60000/60000 [==============================] - 2s 29us/step - loss: 0.1063 - val_loss: 0.1063\n",
            "Epoch 63/100\n",
            "60000/60000 [==============================] - 2s 29us/step - loss: 0.1061 - val_loss: 0.1063\n",
            "Epoch 64/100\n",
            "60000/60000 [==============================] - 2s 29us/step - loss: 0.1058 - val_loss: 0.1051\n",
            "Epoch 65/100\n",
            "60000/60000 [==============================] - 2s 29us/step - loss: 0.1056 - val_loss: 0.1051\n",
            "Epoch 66/100\n",
            "60000/60000 [==============================] - 2s 28us/step - loss: 0.1053 - val_loss: 0.1048\n",
            "Epoch 67/100\n",
            "60000/60000 [==============================] - 2s 28us/step - loss: 0.1049 - val_loss: 0.1058\n",
            "Epoch 68/100\n",
            "60000/60000 [==============================] - 2s 28us/step - loss: 0.1048 - val_loss: 0.1038\n",
            "Epoch 69/100\n",
            "60000/60000 [==============================] - 2s 28us/step - loss: 0.1044 - val_loss: 0.1034\n",
            "Epoch 70/100\n",
            "60000/60000 [==============================] - 2s 28us/step - loss: 0.1040 - val_loss: 0.1043\n",
            "Epoch 71/100\n",
            "60000/60000 [==============================] - 2s 28us/step - loss: 0.1038 - val_loss: 0.1028\n",
            "Epoch 72/100\n",
            "60000/60000 [==============================] - 2s 28us/step - loss: 0.1037 - val_loss: 0.1028\n",
            "Epoch 73/100\n",
            "60000/60000 [==============================] - 2s 28us/step - loss: 0.1033 - val_loss: 0.1040\n",
            "Epoch 74/100\n",
            "60000/60000 [==============================] - 2s 28us/step - loss: 0.1030 - val_loss: 0.1031\n",
            "Epoch 75/100\n",
            "60000/60000 [==============================] - 2s 28us/step - loss: 0.1028 - val_loss: 0.1035\n",
            "Epoch 76/100\n",
            "60000/60000 [==============================] - 2s 27us/step - loss: 0.1026 - val_loss: 0.1020\n",
            "Epoch 77/100\n",
            "60000/60000 [==============================] - 2s 28us/step - loss: 0.1024 - val_loss: 0.1027\n",
            "Epoch 78/100\n",
            "60000/60000 [==============================] - 2s 28us/step - loss: 0.1021 - val_loss: 0.1022\n",
            "Epoch 79/100\n",
            "60000/60000 [==============================] - 2s 27us/step - loss: 0.1018 - val_loss: 0.1007\n",
            "Epoch 80/100\n",
            "60000/60000 [==============================] - 2s 27us/step - loss: 0.1016 - val_loss: 0.1022\n",
            "Epoch 81/100\n",
            "60000/60000 [==============================] - 2s 27us/step - loss: 0.1013 - val_loss: 0.0997\n",
            "Epoch 82/100\n",
            "60000/60000 [==============================] - 2s 28us/step - loss: 0.1012 - val_loss: 0.1011\n",
            "Epoch 83/100\n",
            "60000/60000 [==============================] - 2s 28us/step - loss: 0.1010 - val_loss: 0.0996\n",
            "Epoch 84/100\n",
            "60000/60000 [==============================] - 2s 27us/step - loss: 0.1008 - val_loss: 0.1015\n",
            "Epoch 85/100\n",
            "60000/60000 [==============================] - 2s 29us/step - loss: 0.1006 - val_loss: 0.1005\n",
            "Epoch 86/100\n",
            "60000/60000 [==============================] - 2s 28us/step - loss: 0.1005 - val_loss: 0.1013\n",
            "Epoch 87/100\n",
            "60000/60000 [==============================] - 2s 28us/step - loss: 0.1003 - val_loss: 0.1004\n",
            "Epoch 88/100\n",
            "60000/60000 [==============================] - 2s 28us/step - loss: 0.1001 - val_loss: 0.0985\n",
            "Epoch 89/100\n",
            "60000/60000 [==============================] - 2s 29us/step - loss: 0.1000 - val_loss: 0.0997\n",
            "Epoch 90/100\n",
            "60000/60000 [==============================] - 2s 28us/step - loss: 0.0999 - val_loss: 0.0986\n",
            "Epoch 91/100\n",
            "60000/60000 [==============================] - 2s 28us/step - loss: 0.0996 - val_loss: 0.0982\n",
            "Epoch 92/100\n",
            "60000/60000 [==============================] - 2s 28us/step - loss: 0.0996 - val_loss: 0.1011\n",
            "Epoch 93/100\n",
            "60000/60000 [==============================] - 2s 27us/step - loss: 0.0993 - val_loss: 0.0984\n",
            "Epoch 94/100\n",
            "60000/60000 [==============================] - 2s 28us/step - loss: 0.0992 - val_loss: 0.0988\n",
            "Epoch 95/100\n",
            "60000/60000 [==============================] - 2s 28us/step - loss: 0.0991 - val_loss: 0.0981\n",
            "Epoch 96/100\n",
            "60000/60000 [==============================] - 2s 29us/step - loss: 0.0989 - val_loss: 0.0996\n",
            "Epoch 97/100\n",
            "60000/60000 [==============================] - 2s 27us/step - loss: 0.0988 - val_loss: 0.0989\n",
            "Epoch 98/100\n",
            "60000/60000 [==============================] - 2s 27us/step - loss: 0.0987 - val_loss: 0.0978\n",
            "Epoch 99/100\n",
            "60000/60000 [==============================] - 2s 28us/step - loss: 0.0985 - val_loss: 0.0978\n",
            "Epoch 100/100\n",
            "60000/60000 [==============================] - 2s 28us/step - loss: 0.0985 - val_loss: 0.0980\n"
          ],
          "name": "stdout"
        },
        {
          "output_type": "execute_result",
          "data": {
            "text/plain": [
              "<keras.callbacks.History at 0x7f02ea9a8be0>"
            ]
          },
          "metadata": {
            "tags": []
          },
          "execution_count": 15
        }
      ]
    },
    {
      "cell_type": "code",
      "metadata": {
        "id": "ZCLhNbtC1z1N",
        "colab_type": "code",
        "colab": {
          "base_uri": "https://localhost:8080/",
          "height": 268
        },
        "outputId": "f8f1f36e-b754-43b8-d214-6a36abcd6c18"
      },
      "source": [
        "# use Matplotlib\n",
        "import matplotlib.pyplot as plt\n",
        "\n",
        "n = 10\n",
        "plt.figure(figsize=(20, 4))\n",
        "for i in range(n):\n",
        "    # display original\n",
        "    ax = plt.subplot(2, n, i + 1)\n",
        "    plt.imshow(x_test[i].reshape(28,28))\n",
        "    plt.gray()\n",
        "    ax.get_xaxis().set_visible(False)\n",
        "    ax.get_yaxis().set_visible(False)\n",
        "\n",
        "    # display reconstruction\n",
        "    ax = plt.subplot(2, n, i + 1 + n)\n",
        "    plt.imshow(decoded_imgs[i].reshape(28,28))\n",
        "    plt.gray()\n",
        "    ax.get_xaxis().set_visible(False)\n",
        "    ax.get_yaxis().set_visible(False)\n",
        "\n",
        "plt.show()"
      ],
      "execution_count": 16,
      "outputs": [
        {
          "output_type": "display_data",
          "data": {
            "image/png": "[encoded data removed]",
            "text/plain": [
              "<Figure size 1440x288 with 20 Axes>"
            ]
          },
          "metadata": {
            "tags": []
          }
        }
      ]
    },
    {
      "cell_type": "code",
      "metadata": {
        "id": "4b3WM0wx2yKR",
        "colab_type": "code",
        "colab": {}
      },
      "source": [
        ""
      ],
      "execution_count": 0,
      "outputs": []
    }
  ]
}