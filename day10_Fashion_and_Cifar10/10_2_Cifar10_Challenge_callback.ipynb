{
  "nbformat": 4,
  "nbformat_minor": 0,
  "metadata": {
    "colab": {
      "name": "10-2_Cifar10_Challenge_callback.ipynb",
      "provenance": [],
      "collapsed_sections": []
    },
    "kernelspec": {
      "name": "python3",
      "display_name": "Python 3"
    },
    "accelerator": "GPU"
  },
  "cells": [
    {
      "cell_type": "code",
      "metadata": {
        "id": "0otoVD33sUIA",
        "colab_type": "code",
        "colab": {
          "base_uri": "https://localhost:8080/",
          "height": 82
        },
        "outputId": "a734e2ce-672a-4ca8-d9a7-ca9b6e971e96"
      },
      "source": [
        "from __future__ import print_function\n",
        "import keras\n",
        "from keras.datasets import cifar10\n",
        "from keras.preprocessing.image import ImageDataGenerator\n",
        "from keras.models import Sequential\n",
        "from keras.layers import Dense, Dropout, Activation, Flatten\n",
        "from keras.layers import Conv2D, MaxPooling2D, GlobalAveragePooling2D, BatchNormalization\n",
        "\n",
        "import os"
      ],
      "execution_count": 1,
      "outputs": [
        {
          "output_type": "stream",
          "text": [
            "Using TensorFlow backend.\n"
          ],
          "name": "stderr"
        },
        {
          "output_type": "display_data",
          "data": {
            "text/html": [
              "<p style=\"color: red;\">\n",
              "The default version of TensorFlow in Colab will soon switch to TensorFlow 2.x.<br>\n",
              "We recommend you <a href=\"https://www.tensorflow.org/guide/migrate\" target=\"_blank\">upgrade</a> now \n",
              "or ensure your notebook will continue to use TensorFlow 1.x via the <code>%tensorflow_version 1.x</code> magic:\n",
              "<a href=\"https://colab.research.google.com/notebooks/tensorflow_version.ipynb\" target=\"_blank\">more info</a>.</p>\n"
            ],
            "text/plain": [
              "<IPython.core.display.HTML object>"
            ]
          },
          "metadata": {
            "tags": []
          }
        }
      ]
    },
    {
      "cell_type": "code",
      "metadata": {
        "id": "nIANz7oEscCj",
        "colab_type": "code",
        "colab": {
          "base_uri": "https://localhost:8080/",
          "height": 127
        },
        "outputId": "52f283c7-7319-4d54-e4e1-721d83aa480d"
      },
      "source": [
        "from google.colab import auth\n",
        "auth.authenticate_user()\n",
        "\n",
        "from google.colab import drive\n",
        "drive.mount('/content/gdrive')"
      ],
      "execution_count": 2,
      "outputs": [
        {
          "output_type": "stream",
          "text": [
            "Go to this URL in a browser: https://accounts.google.com/o/oauth2/auth?client_id=947318989803-6bn6qk8qdgf4n4g3pfee6491hc0brc4i.apps.googleusercontent.com&redirect_uri=urn%3aietf%3awg%3aoauth%3a2.0%3aoob&response_type=code&scope=email%20https%3a%2f%2fwww.googleapis.com%2fauth%2fdocs.test%20https%3a%2f%2fwww.googleapis.com%2fauth%2fdrive%20https%3a%2f%2fwww.googleapis.com%2fauth%2fdrive.photos.readonly%20https%3a%2f%2fwww.googleapis.com%2fauth%2fpeopleapi.readonly\n",
            "\n",
            "Enter your authorization code:\n",
            "··········\n",
            "Mounted at /content/gdrive\n"
          ],
          "name": "stdout"
        }
      ]
    },
    {
      "cell_type": "code",
      "metadata": {
        "id": "DLc0PZc5sgHD",
        "colab_type": "code",
        "colab": {
          "base_uri": "https://localhost:8080/",
          "height": 53
        },
        "outputId": "8e212c24-0e90-4d0d-ef23-f8c74dd7a0e4"
      },
      "source": [
        "# 데이터 불러오기\n",
        "(x_train, y_train), (x_test, y_test) = cifar10.load_data()"
      ],
      "execution_count": 3,
      "outputs": [
        {
          "output_type": "stream",
          "text": [
            "Downloading data from https://www.cs.toronto.edu/~kriz/cifar-10-python.tar.gz\n",
            "170500096/170498071 [==============================] - 4s 0us/step\n"
          ],
          "name": "stdout"
        }
      ]
    },
    {
      "cell_type": "code",
      "metadata": {
        "id": "Pbm3M73FtJvL",
        "colab_type": "code",
        "colab": {
          "base_uri": "https://localhost:8080/",
          "height": 89
        },
        "outputId": "613f3fd5-4f85-4d92-9b1a-b0d975a1a972"
      },
      "source": [
        "print(x_train.shape)\n",
        "print(x_test.shape)\n",
        "print(y_train.shape)\n",
        "print(y_test.shape)"
      ],
      "execution_count": 4,
      "outputs": [
        {
          "output_type": "stream",
          "text": [
            "(50000, 32, 32, 3)\n",
            "(10000, 32, 32, 3)\n",
            "(50000, 1)\n",
            "(10000, 1)\n"
          ],
          "name": "stdout"
        }
      ]
    },
    {
      "cell_type": "code",
      "metadata": {
        "id": "F5n2duS0tptH",
        "colab_type": "code",
        "colab": {}
      },
      "source": [
        "batch_size = 16\n",
        "num_classes=10\n",
        "epochs=25"
      ],
      "execution_count": 0,
      "outputs": []
    },
    {
      "cell_type": "code",
      "metadata": {
        "id": "e2FWfXGNtwsf",
        "colab_type": "code",
        "colab": {
          "base_uri": "https://localhost:8080/",
          "height": 143
        },
        "outputId": "d64094f9-2197-45f2-fb54-48879c446102"
      },
      "source": [
        "y_train"
      ],
      "execution_count": 6,
      "outputs": [
        {
          "output_type": "execute_result",
          "data": {
            "text/plain": [
              "array([[6],\n",
              "       [9],\n",
              "       [9],\n",
              "       ...,\n",
              "       [9],\n",
              "       [1],\n",
              "       [1]], dtype=uint8)"
            ]
          },
          "metadata": {
            "tags": []
          },
          "execution_count": 6
        }
      ]
    },
    {
      "cell_type": "code",
      "metadata": {
        "id": "NDa0me8ltQeH",
        "colab_type": "code",
        "colab": {}
      },
      "source": [
        "# 벡터화\n",
        "y_train = keras.utils.to_categorical(y_train, num_classes)\n",
        "y_test = keras.utils.to_categorical(y_test, num_classes)"
      ],
      "execution_count": 0,
      "outputs": []
    },
    {
      "cell_type": "code",
      "metadata": {
        "id": "MwLLzDq7tn7F",
        "colab_type": "code",
        "colab": {
          "base_uri": "https://localhost:8080/",
          "height": 143
        },
        "outputId": "406143e8-f9a0-4d2f-c0ac-b3a3a314edac"
      },
      "source": [
        "y_train"
      ],
      "execution_count": 8,
      "outputs": [
        {
          "output_type": "execute_result",
          "data": {
            "text/plain": [
              "array([[0., 0., 0., ..., 0., 0., 0.],\n",
              "       [0., 0., 0., ..., 0., 0., 1.],\n",
              "       [0., 0., 0., ..., 0., 0., 1.],\n",
              "       ...,\n",
              "       [0., 0., 0., ..., 0., 0., 1.],\n",
              "       [0., 1., 0., ..., 0., 0., 0.],\n",
              "       [0., 1., 0., ..., 0., 0., 0.]], dtype=float32)"
            ]
          },
          "metadata": {
            "tags": []
          },
          "execution_count": 8
        }
      ]
    },
    {
      "cell_type": "code",
      "metadata": {
        "id": "4Hw8xlEbt1SL",
        "colab_type": "code",
        "colab": {}
      },
      "source": [
        "x_train = x_train.astype('float32')\n",
        "x_test = x_test.astype('float32')\n",
        "x_train /= 255\n",
        "x_test /= 255"
      ],
      "execution_count": 0,
      "outputs": []
    },
    {
      "cell_type": "code",
      "metadata": {
        "id": "M03Q5vS0uDYt",
        "colab_type": "code",
        "colab": {
          "base_uri": "https://localhost:8080/",
          "height": 53
        },
        "outputId": "550f7ab2-76d3-4e5a-ea88-14bdc5177250"
      },
      "source": [
        "print('Using real-time data augmentation.')\n",
        "print('Using real-time data augmentation.')\n"
      ],
      "execution_count": 10,
      "outputs": [
        {
          "output_type": "stream",
          "text": [
            "Using real-time data augmentation.\n",
            "Using real-time data augmentation.\n"
          ],
          "name": "stdout"
        }
      ]
    },
    {
      "cell_type": "code",
      "metadata": {
        "id": "4f8DEhJ6oS1F",
        "colab_type": "code",
        "outputId": "df4d0bf1-9e87-4531-fbfb-1f1d62fb7f33",
        "colab": {
          "base_uri": "https://localhost:8080/",
          "height": 35
        }
      },
      "source": [
        "print('Using real-time data augmentation.')\n",
        "\n",
        "datagen = ImageDataGenerator(\n",
        "    featurewise_center=False,  \n",
        "    samplewise_center=False,\n",
        "    featurewise_std_normalization=False,\n",
        "    samplewise_std_normalization=False,  \n",
        "    zca_whitening=False, \n",
        "    zca_epsilon=1e-06,\n",
        "    rotation_range=0, \n",
        "    width_shift_range=0.1,\n",
        "    height_shift_range=0.1,\n",
        "    shear_range=0., \n",
        "    zoom_range=0., \n",
        "    channel_shift_range=0.,  \n",
        "    fill_mode='nearest',\n",
        "    cval=0., \n",
        "    horizontal_flip=True, \n",
        "    vertical_flip=False, \n",
        "    rescale=None,\n",
        "    preprocessing_function=None,\n",
        "    data_format=None,\n",
        "    validation_split=0.0)\n",
        "\n",
        "datagen.fit(x_train)"
      ],
      "execution_count": 11,
      "outputs": [
        {
          "output_type": "stream",
          "text": [
            "Using real-time data augmentation.\n"
          ],
          "name": "stdout"
        }
      ]
    },
    {
      "cell_type": "code",
      "metadata": {
        "id": "NebsRoryupet",
        "colab_type": "code",
        "colab": {}
      },
      "source": [
        "filepath = \"./saved-model-{epoch:02d}-{val_acc:.2f}.hdf5\"\n",
        "checkpoint = keras.callbacks.ModelCheckpoint(filepath, monitor='val_acc', verbose=1, save_best_only=False, mode='max')"
      ],
      "execution_count": 0,
      "outputs": []
    },
    {
      "cell_type": "code",
      "metadata": {
        "id": "ROgbEEV_urMy",
        "colab_type": "code",
        "colab": {
          "base_uri": "https://localhost:8080/",
          "height": 505
        },
        "outputId": "aa9c4da0-ee74-4798-ee84-c467aa18df99"
      },
      "source": [
        "# for example\n",
        "nkernels = 32\n",
        "model = Sequential()\n",
        "\n",
        "# b, 32, 32, 3\n",
        "model.add(Conv2D(nkernels, 3, activation='relu', kernel_initializer='he_normal', padding='valid', input_shape=(32,32,3)))\n",
        "model.add(Conv2D(nkernels, 3, activation='relu', kernel_initializer='he_normal', padding='valid'))\n",
        "model.add(BatchNormalization())\n",
        "model.add(MaxPooling2D())\n",
        "\n",
        "# b, 16, 16, 64\n",
        "model.add(Conv2D(nkernels*2, 3, activation='relu', kernel_initializer='he_normal', padding='valid'))\n",
        "model.add(Conv2D(nkernels*4, 3, activation='relu', kernel_initializer='he_normal', padding='valid'))\n",
        "model.add(BatchNormalization())\n",
        "model.add(MaxPooling2D())\n",
        "\n",
        "# b, 8, 8, 128\n",
        "model.add(Conv2D(nkernels*8, 3, activation='relu', kernel_initializer='he_normal', padding='valid'))\n",
        "model.add(BatchNormalization())\n",
        "\n",
        "model.add(GlobalAveragePooling2D())\n",
        "model.add(Dense(10, activation='softmax', kernel_initializer='glorot_uniform'))"
      ],
      "execution_count": 13,
      "outputs": [
        {
          "output_type": "stream",
          "text": [
            "WARNING:tensorflow:From /usr/local/lib/python3.6/dist-packages/keras/backend/tensorflow_backend.py:66: The name tf.get_default_graph is deprecated. Please use tf.compat.v1.get_default_graph instead.\n",
            "\n",
            "WARNING:tensorflow:From /usr/local/lib/python3.6/dist-packages/keras/backend/tensorflow_backend.py:541: The name tf.placeholder is deprecated. Please use tf.compat.v1.placeholder instead.\n",
            "\n",
            "WARNING:tensorflow:From /usr/local/lib/python3.6/dist-packages/keras/backend/tensorflow_backend.py:4479: The name tf.truncated_normal is deprecated. Please use tf.random.truncated_normal instead.\n",
            "\n",
            "WARNING:tensorflow:From /usr/local/lib/python3.6/dist-packages/keras/backend/tensorflow_backend.py:190: The name tf.get_default_session is deprecated. Please use tf.compat.v1.get_default_session instead.\n",
            "\n",
            "WARNING:tensorflow:From /usr/local/lib/python3.6/dist-packages/keras/backend/tensorflow_backend.py:197: The name tf.ConfigProto is deprecated. Please use tf.compat.v1.ConfigProto instead.\n",
            "\n",
            "WARNING:tensorflow:From /usr/local/lib/python3.6/dist-packages/keras/backend/tensorflow_backend.py:203: The name tf.Session is deprecated. Please use tf.compat.v1.Session instead.\n",
            "\n",
            "WARNING:tensorflow:From /usr/local/lib/python3.6/dist-packages/keras/backend/tensorflow_backend.py:207: The name tf.global_variables is deprecated. Please use tf.compat.v1.global_variables instead.\n",
            "\n",
            "WARNING:tensorflow:From /usr/local/lib/python3.6/dist-packages/keras/backend/tensorflow_backend.py:216: The name tf.is_variable_initialized is deprecated. Please use tf.compat.v1.is_variable_initialized instead.\n",
            "\n",
            "WARNING:tensorflow:From /usr/local/lib/python3.6/dist-packages/keras/backend/tensorflow_backend.py:223: The name tf.variables_initializer is deprecated. Please use tf.compat.v1.variables_initializer instead.\n",
            "\n",
            "WARNING:tensorflow:From /usr/local/lib/python3.6/dist-packages/keras/backend/tensorflow_backend.py:2041: The name tf.nn.fused_batch_norm is deprecated. Please use tf.compat.v1.nn.fused_batch_norm instead.\n",
            "\n",
            "WARNING:tensorflow:From /usr/local/lib/python3.6/dist-packages/keras/backend/tensorflow_backend.py:148: The name tf.placeholder_with_default is deprecated. Please use tf.compat.v1.placeholder_with_default instead.\n",
            "\n",
            "WARNING:tensorflow:From /usr/local/lib/python3.6/dist-packages/keras/backend/tensorflow_backend.py:4267: The name tf.nn.max_pool is deprecated. Please use tf.nn.max_pool2d instead.\n",
            "\n",
            "WARNING:tensorflow:From /usr/local/lib/python3.6/dist-packages/keras/backend/tensorflow_backend.py:4432: The name tf.random_uniform is deprecated. Please use tf.random.uniform instead.\n",
            "\n"
          ],
          "name": "stdout"
        }
      ]
    },
    {
      "cell_type": "code",
      "metadata": {
        "id": "SbzJ7wTjvlZb",
        "colab_type": "code",
        "colab": {
          "base_uri": "https://localhost:8080/",
          "height": 593
        },
        "outputId": "4760670c-d74d-44be-9b93-898b686bdfda"
      },
      "source": [
        "model.summary()"
      ],
      "execution_count": 14,
      "outputs": [
        {
          "output_type": "stream",
          "text": [
            "Model: \"sequential_1\"\n",
            "_________________________________________________________________\n",
            "Layer (type)                 Output Shape              Param #   \n",
            "=================================================================\n",
            "conv2d_1 (Conv2D)            (None, 30, 30, 32)        896       \n",
            "_________________________________________________________________\n",
            "conv2d_2 (Conv2D)            (None, 28, 28, 32)        9248      \n",
            "_________________________________________________________________\n",
            "batch_normalization_1 (Batch (None, 28, 28, 32)        128       \n",
            "_________________________________________________________________\n",
            "max_pooling2d_1 (MaxPooling2 (None, 14, 14, 32)        0         \n",
            "_________________________________________________________________\n",
            "conv2d_3 (Conv2D)            (None, 12, 12, 64)        18496     \n",
            "_________________________________________________________________\n",
            "conv2d_4 (Conv2D)            (None, 10, 10, 128)       73856     \n",
            "_________________________________________________________________\n",
            "batch_normalization_2 (Batch (None, 10, 10, 128)       512       \n",
            "_________________________________________________________________\n",
            "max_pooling2d_2 (MaxPooling2 (None, 5, 5, 128)         0         \n",
            "_________________________________________________________________\n",
            "conv2d_5 (Conv2D)            (None, 3, 3, 256)         295168    \n",
            "_________________________________________________________________\n",
            "batch_normalization_3 (Batch (None, 3, 3, 256)         1024      \n",
            "_________________________________________________________________\n",
            "global_average_pooling2d_1 ( (None, 256)               0         \n",
            "_________________________________________________________________\n",
            "dense_1 (Dense)              (None, 10)                2570      \n",
            "=================================================================\n",
            "Total params: 401,898\n",
            "Trainable params: 401,066\n",
            "Non-trainable params: 832\n",
            "_________________________________________________________________\n"
          ],
          "name": "stdout"
        }
      ]
    },
    {
      "cell_type": "code",
      "metadata": {
        "id": "hwQix7qYvyAt",
        "colab_type": "code",
        "colab": {}
      },
      "source": [
        "opt = keras.optimizers.rmsprop(lr= 0.0001, decay=1e-6)"
      ],
      "execution_count": 0,
      "outputs": []
    },
    {
      "cell_type": "code",
      "metadata": {
        "id": "V_NiL0eiv6V0",
        "colab_type": "code",
        "colab": {
          "base_uri": "https://localhost:8080/",
          "height": 89
        },
        "outputId": "45a2840b-0cf5-46b4-c3fc-e00c7ba803d5"
      },
      "source": [
        "model.compile(loss='categorical_crossentropy',\n",
        "              optimizer=opt,\n",
        "              metrics=['accuracy'])"
      ],
      "execution_count": 16,
      "outputs": [
        {
          "output_type": "stream",
          "text": [
            "WARNING:tensorflow:From /usr/local/lib/python3.6/dist-packages/keras/optimizers.py:793: The name tf.train.Optimizer is deprecated. Please use tf.compat.v1.train.Optimizer instead.\n",
            "\n",
            "WARNING:tensorflow:From /usr/local/lib/python3.6/dist-packages/keras/backend/tensorflow_backend.py:3576: The name tf.log is deprecated. Please use tf.math.log instead.\n",
            "\n"
          ],
          "name": "stdout"
        }
      ]
    },
    {
      "cell_type": "code",
      "metadata": {
        "id": "dlXaoxHMwBdz",
        "colab_type": "code",
        "colab": {
          "base_uri": "https://localhost:8080/",
          "height": 1000
        },
        "outputId": "2a260639-9907-4739-804e-444fd488d7a7"
      },
      "source": [
        "model.fit_generator(datagen.flow(x_train, y_train,\n",
        "                                 batch_size=batch_size),\n",
        "                    epochs=epochs, validation_data=(x_test, y_test), workers=4, callbacks=[checkpoint])"
      ],
      "execution_count": 17,
      "outputs": [
        {
          "output_type": "stream",
          "text": [
            "WARNING:tensorflow:From /usr/local/lib/python3.6/dist-packages/tensorflow_core/python/ops/math_grad.py:1424: where (from tensorflow.python.ops.array_ops) is deprecated and will be removed in a future version.\n",
            "Instructions for updating:\n",
            "Use tf.where in 2.0, which has the same broadcast rule as np.where\n",
            "WARNING:tensorflow:From /usr/local/lib/python3.6/dist-packages/keras/backend/tensorflow_backend.py:1033: The name tf.assign_add is deprecated. Please use tf.compat.v1.assign_add instead.\n",
            "\n",
            "WARNING:tensorflow:From /usr/local/lib/python3.6/dist-packages/keras/backend/tensorflow_backend.py:1020: The name tf.assign is deprecated. Please use tf.compat.v1.assign instead.\n",
            "\n",
            "Epoch 1/25\n",
            "3125/3125 [==============================] - 47s 15ms/step - loss: 1.4913 - acc: 0.4690 - val_loss: 1.2239 - val_acc: 0.5646\n",
            "\n",
            "Epoch 00001: saving model to ./saved-model-01-0.56.hdf5\n",
            "Epoch 2/25\n",
            "3125/3125 [==============================] - 39s 13ms/step - loss: 1.2257 - acc: 0.5729 - val_loss: 1.1788 - val_acc: 0.5895\n",
            "\n",
            "Epoch 00002: saving model to ./saved-model-02-0.59.hdf5\n",
            "Epoch 3/25\n",
            "3125/3125 [==============================] - 38s 12ms/step - loss: 1.1194 - acc: 0.6117 - val_loss: 1.0486 - val_acc: 0.6330\n",
            "\n",
            "Epoch 00003: saving model to ./saved-model-03-0.63.hdf5\n",
            "Epoch 4/25\n",
            "3125/3125 [==============================] - 39s 12ms/step - loss: 1.0464 - acc: 0.6358 - val_loss: 1.1017 - val_acc: 0.6358\n",
            "\n",
            "Epoch 00004: saving model to ./saved-model-04-0.64.hdf5\n",
            "Epoch 5/25\n",
            "3125/3125 [==============================] - 38s 12ms/step - loss: 0.9871 - acc: 0.6566 - val_loss: 0.8896 - val_acc: 0.6941\n",
            "\n",
            "Epoch 00005: saving model to ./saved-model-05-0.69.hdf5\n",
            "Epoch 6/25\n",
            "3125/3125 [==============================] - 38s 12ms/step - loss: 0.9486 - acc: 0.6732 - val_loss: 0.9052 - val_acc: 0.6887\n",
            "\n",
            "Epoch 00006: saving model to ./saved-model-06-0.69.hdf5\n",
            "Epoch 7/25\n",
            "3125/3125 [==============================] - 38s 12ms/step - loss: 0.9069 - acc: 0.6870 - val_loss: 0.8250 - val_acc: 0.7160\n",
            "\n",
            "Epoch 00007: saving model to ./saved-model-07-0.72.hdf5\n",
            "Epoch 8/25\n",
            "3125/3125 [==============================] - 38s 12ms/step - loss: 0.8777 - acc: 0.6988 - val_loss: 0.9165 - val_acc: 0.6875\n",
            "\n",
            "Epoch 00008: saving model to ./saved-model-08-0.69.hdf5\n",
            "Epoch 9/25\n",
            "3125/3125 [==============================] - 38s 12ms/step - loss: 0.8462 - acc: 0.7094 - val_loss: 0.7992 - val_acc: 0.7263\n",
            "\n",
            "Epoch 00009: saving model to ./saved-model-09-0.73.hdf5\n",
            "Epoch 10/25\n",
            "3125/3125 [==============================] - 38s 12ms/step - loss: 0.8203 - acc: 0.7181 - val_loss: 0.8870 - val_acc: 0.6998\n",
            "\n",
            "Epoch 00010: saving model to ./saved-model-10-0.70.hdf5\n",
            "Epoch 11/25\n",
            "3125/3125 [==============================] - 38s 12ms/step - loss: 0.7938 - acc: 0.7282 - val_loss: 0.7461 - val_acc: 0.7480\n",
            "\n",
            "Epoch 00011: saving model to ./saved-model-11-0.75.hdf5\n",
            "Epoch 12/25\n",
            "3125/3125 [==============================] - 38s 12ms/step - loss: 0.7728 - acc: 0.7369 - val_loss: 0.7501 - val_acc: 0.7513\n",
            "\n",
            "Epoch 00012: saving model to ./saved-model-12-0.75.hdf5\n",
            "Epoch 13/25\n",
            "3125/3125 [==============================] - 38s 12ms/step - loss: 0.7510 - acc: 0.7441 - val_loss: 0.7949 - val_acc: 0.7353\n",
            "\n",
            "Epoch 00013: saving model to ./saved-model-13-0.74.hdf5\n",
            "Epoch 14/25\n",
            "3125/3125 [==============================] - 38s 12ms/step - loss: 0.7337 - acc: 0.7502 - val_loss: 0.7239 - val_acc: 0.7579\n",
            "\n",
            "Epoch 00014: saving model to ./saved-model-14-0.76.hdf5\n",
            "Epoch 15/25\n",
            "3125/3125 [==============================] - 38s 12ms/step - loss: 0.7184 - acc: 0.7536 - val_loss: 0.6606 - val_acc: 0.7762\n",
            "\n",
            "Epoch 00015: saving model to ./saved-model-15-0.78.hdf5\n",
            "Epoch 16/25\n",
            "3125/3125 [==============================] - 38s 12ms/step - loss: 0.6961 - acc: 0.7627 - val_loss: 0.6931 - val_acc: 0.7634\n",
            "\n",
            "Epoch 00016: saving model to ./saved-model-16-0.76.hdf5\n",
            "Epoch 17/25\n",
            "3125/3125 [==============================] - 38s 12ms/step - loss: 0.6876 - acc: 0.7639 - val_loss: 0.7369 - val_acc: 0.7578\n",
            "\n",
            "Epoch 00017: saving model to ./saved-model-17-0.76.hdf5\n",
            "Epoch 18/25\n",
            "3125/3125 [==============================] - 38s 12ms/step - loss: 0.6698 - acc: 0.7704 - val_loss: 0.7165 - val_acc: 0.7621\n",
            "\n",
            "Epoch 00018: saving model to ./saved-model-18-0.76.hdf5\n",
            "Epoch 19/25\n",
            "3125/3125 [==============================] - 38s 12ms/step - loss: 0.6608 - acc: 0.7739 - val_loss: 0.6137 - val_acc: 0.7924\n",
            "\n",
            "Epoch 00019: saving model to ./saved-model-19-0.79.hdf5\n",
            "Epoch 20/25\n",
            "3125/3125 [==============================] - 38s 12ms/step - loss: 0.6480 - acc: 0.7780 - val_loss: 0.6529 - val_acc: 0.7803\n",
            "\n",
            "Epoch 00020: saving model to ./saved-model-20-0.78.hdf5\n",
            "Epoch 21/25\n",
            "3125/3125 [==============================] - 38s 12ms/step - loss: 0.6362 - acc: 0.7828 - val_loss: 0.6429 - val_acc: 0.7821\n",
            "\n",
            "Epoch 00021: saving model to ./saved-model-21-0.78.hdf5\n",
            "Epoch 22/25\n",
            "3125/3125 [==============================] - 38s 12ms/step - loss: 0.6243 - acc: 0.7878 - val_loss: 0.6427 - val_acc: 0.7887\n",
            "\n",
            "Epoch 00022: saving model to ./saved-model-22-0.79.hdf5\n",
            "Epoch 23/25\n",
            "3125/3125 [==============================] - 38s 12ms/step - loss: 0.6149 - acc: 0.7913 - val_loss: 0.6317 - val_acc: 0.7906\n",
            "\n",
            "Epoch 00023: saving model to ./saved-model-23-0.79.hdf5\n",
            "Epoch 24/25\n",
            "3125/3125 [==============================] - 38s 12ms/step - loss: 0.6088 - acc: 0.7918 - val_loss: 0.6296 - val_acc: 0.7902\n",
            "\n",
            "Epoch 00024: saving model to ./saved-model-24-0.79.hdf5\n",
            "Epoch 25/25\n",
            "3125/3125 [==============================] - 38s 12ms/step - loss: 0.5944 - acc: 0.7961 - val_loss: 0.5948 - val_acc: 0.7981\n",
            "\n",
            "Epoch 00025: saving model to ./saved-model-25-0.80.hdf5\n"
          ],
          "name": "stdout"
        },
        {
          "output_type": "execute_result",
          "data": {
            "text/plain": [
              "<keras.callbacks.History at 0x7f24e41e0f60>"
            ]
          },
          "metadata": {
            "tags": []
          },
          "execution_count": 17
        }
      ]
    },
    {
      "cell_type": "code",
      "metadata": {
        "id": "ZtKF7Q_cwSK1",
        "colab_type": "code",
        "colab": {}
      },
      "source": [
        ""
      ],
      "execution_count": 0,
      "outputs": []
    }
  ]
}